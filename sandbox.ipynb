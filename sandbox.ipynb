{
  "cells": [
    {
      "cell_type": "markdown",
      "metadata": {
        "id": "view-in-github",
        "colab_type": "text"
      },
      "source": [
        "<a href=\"https://colab.research.google.com/github/urieliram/analog/blob/main/sandbox.ipynb\" target=\"_parent\"><img src=\"https://colab.research.google.com/assets/colab-badge.svg\" alt=\"Open In Colab\"/></a>"
      ]
    },
    {
      "cell_type": "markdown",
      "metadata": {
        "id": "JvC9Neb7LtTu"
      },
      "source": [
        "## Packages"
      ]
    },
    {
      "cell_type": "code",
      "execution_count": 1,
      "metadata": {
        "colab": {
          "base_uri": "https://localhost:8080/"
        },
        "id": "JboE4Y4YndQq",
        "outputId": "1c97bf11-0694-4f6b-b6d9-a5331ada0eb9"
      },
      "outputs": [
        {
          "output_type": "stream",
          "name": "stdout",
          "text": [
            "Looking in indexes: https://pypi.org/simple, https://us-python.pkg.dev/colab-wheels/public/simple/\n",
            "Requirement already satisfied: spectrum in /usr/local/lib/python3.7/dist-packages (0.8.1)\n",
            "Requirement already satisfied: matplotlib in /usr/local/lib/python3.7/dist-packages (from spectrum) (3.2.2)\n",
            "Requirement already satisfied: easydev in /usr/local/lib/python3.7/dist-packages (from spectrum) (0.12.0)\n",
            "Requirement already satisfied: numpy in /usr/local/lib/python3.7/dist-packages (from spectrum) (1.21.6)\n",
            "Requirement already satisfied: scipy in /usr/local/lib/python3.7/dist-packages (from spectrum) (1.7.3)\n",
            "Requirement already satisfied: colorlog in /usr/local/lib/python3.7/dist-packages (from easydev->spectrum) (6.7.0)\n",
            "Requirement already satisfied: colorama in /usr/local/lib/python3.7/dist-packages (from easydev->spectrum) (0.4.6)\n",
            "Requirement already satisfied: pexpect in /usr/local/lib/python3.7/dist-packages (from easydev->spectrum) (4.8.0)\n",
            "Requirement already satisfied: cycler>=0.10 in /usr/local/lib/python3.7/dist-packages (from matplotlib->spectrum) (0.11.0)\n",
            "Requirement already satisfied: python-dateutil>=2.1 in /usr/local/lib/python3.7/dist-packages (from matplotlib->spectrum) (2.8.2)\n",
            "Requirement already satisfied: pyparsing!=2.0.4,!=2.1.2,!=2.1.6,>=2.0.1 in /usr/local/lib/python3.7/dist-packages (from matplotlib->spectrum) (3.0.9)\n",
            "Requirement already satisfied: kiwisolver>=1.0.1 in /usr/local/lib/python3.7/dist-packages (from matplotlib->spectrum) (1.4.4)\n",
            "Requirement already satisfied: typing-extensions in /usr/local/lib/python3.7/dist-packages (from kiwisolver>=1.0.1->matplotlib->spectrum) (4.1.1)\n",
            "Requirement already satisfied: six>=1.5 in /usr/local/lib/python3.7/dist-packages (from python-dateutil>=2.1->matplotlib->spectrum) (1.15.0)\n",
            "Requirement already satisfied: ptyprocess>=0.5 in /usr/local/lib/python3.7/dist-packages (from pexpect->easydev->spectrum) (0.7.0)\n",
            "Looking in indexes: https://pypi.org/simple, https://us-python.pkg.dev/colab-wheels/public/simple/\n",
            "Requirement already satisfied: dtw-python in /usr/local/lib/python3.7/dist-packages (1.3.0)\n",
            "Requirement already satisfied: scipy>=1.1 in /usr/local/lib/python3.7/dist-packages (from dtw-python) (1.7.3)\n",
            "Requirement already satisfied: numpy>=1.19 in /usr/local/lib/python3.7/dist-packages (from dtw-python) (1.21.6)\n",
            "Looking in indexes: https://pypi.org/simple, https://us-python.pkg.dev/colab-wheels/public/simple/\n",
            "Requirement already satisfied: dtreeviz in /usr/local/lib/python3.7/dist-packages (1.4.0)\n",
            "Requirement already satisfied: colour in /usr/local/lib/python3.7/dist-packages (from dtreeviz) (0.1.5)\n",
            "Requirement already satisfied: scikit-learn in /usr/local/lib/python3.7/dist-packages (from dtreeviz) (1.0.2)\n",
            "Requirement already satisfied: pytest in /usr/local/lib/python3.7/dist-packages (from dtreeviz) (3.6.4)\n",
            "Requirement already satisfied: graphviz>=0.9 in /usr/local/lib/python3.7/dist-packages (from dtreeviz) (0.10.1)\n",
            "Requirement already satisfied: matplotlib in /usr/local/lib/python3.7/dist-packages (from dtreeviz) (3.2.2)\n",
            "Requirement already satisfied: pandas in /usr/local/lib/python3.7/dist-packages (from dtreeviz) (1.3.5)\n",
            "Requirement already satisfied: numpy in /usr/local/lib/python3.7/dist-packages (from dtreeviz) (1.21.6)\n",
            "Requirement already satisfied: cycler>=0.10 in /usr/local/lib/python3.7/dist-packages (from matplotlib->dtreeviz) (0.11.0)\n",
            "Requirement already satisfied: kiwisolver>=1.0.1 in /usr/local/lib/python3.7/dist-packages (from matplotlib->dtreeviz) (1.4.4)\n",
            "Requirement already satisfied: pyparsing!=2.0.4,!=2.1.2,!=2.1.6,>=2.0.1 in /usr/local/lib/python3.7/dist-packages (from matplotlib->dtreeviz) (3.0.9)\n",
            "Requirement already satisfied: python-dateutil>=2.1 in /usr/local/lib/python3.7/dist-packages (from matplotlib->dtreeviz) (2.8.2)\n",
            "Requirement already satisfied: typing-extensions in /usr/local/lib/python3.7/dist-packages (from kiwisolver>=1.0.1->matplotlib->dtreeviz) (4.1.1)\n",
            "Requirement already satisfied: six>=1.5 in /usr/local/lib/python3.7/dist-packages (from python-dateutil>=2.1->matplotlib->dtreeviz) (1.15.0)\n",
            "Requirement already satisfied: pytz>=2017.3 in /usr/local/lib/python3.7/dist-packages (from pandas->dtreeviz) (2022.6)\n",
            "Requirement already satisfied: setuptools in /usr/local/lib/python3.7/dist-packages (from pytest->dtreeviz) (57.4.0)\n",
            "Requirement already satisfied: more-itertools>=4.0.0 in /usr/local/lib/python3.7/dist-packages (from pytest->dtreeviz) (9.0.0)\n",
            "Requirement already satisfied: pluggy<0.8,>=0.5 in /usr/local/lib/python3.7/dist-packages (from pytest->dtreeviz) (0.7.1)\n",
            "Requirement already satisfied: attrs>=17.4.0 in /usr/local/lib/python3.7/dist-packages (from pytest->dtreeviz) (22.1.0)\n",
            "Requirement already satisfied: atomicwrites>=1.0 in /usr/local/lib/python3.7/dist-packages (from pytest->dtreeviz) (1.4.1)\n",
            "Requirement already satisfied: py>=1.5.0 in /usr/local/lib/python3.7/dist-packages (from pytest->dtreeviz) (1.11.0)\n",
            "Requirement already satisfied: scipy>=1.1.0 in /usr/local/lib/python3.7/dist-packages (from scikit-learn->dtreeviz) (1.7.3)\n",
            "Requirement already satisfied: threadpoolctl>=2.0.0 in /usr/local/lib/python3.7/dist-packages (from scikit-learn->dtreeviz) (3.1.0)\n",
            "Requirement already satisfied: joblib>=0.11 in /usr/local/lib/python3.7/dist-packages (from scikit-learn->dtreeviz) (1.2.0)\n",
            "Looking in indexes: https://pypi.org/simple, https://us-python.pkg.dev/colab-wheels/public/simple/\n",
            "Requirement already satisfied: sktime in /usr/local/lib/python3.7/dist-packages (0.14.0)\n",
            "Requirement already satisfied: scikit-learn<1.2.0,>=0.24.0 in /usr/local/lib/python3.7/dist-packages (from sktime) (1.0.2)\n",
            "Requirement already satisfied: statsmodels>=0.12.1 in /usr/local/lib/python3.7/dist-packages (from sktime) (0.13.5)\n",
            "Requirement already satisfied: scipy<2.0.0 in /usr/local/lib/python3.7/dist-packages (from sktime) (1.7.3)\n",
            "Requirement already satisfied: deprecated>=1.2.13 in /usr/local/lib/python3.7/dist-packages (from sktime) (1.2.13)\n",
            "Requirement already satisfied: pandas<1.6.0,>=1.1.0 in /usr/local/lib/python3.7/dist-packages (from sktime) (1.3.5)\n",
            "Requirement already satisfied: numpy<1.23,>=1.21.0 in /usr/local/lib/python3.7/dist-packages (from sktime) (1.21.6)\n",
            "Requirement already satisfied: numba>=0.53 in /usr/local/lib/python3.7/dist-packages (from sktime) (0.56.4)\n",
            "Requirement already satisfied: wrapt<2,>=1.10 in /usr/local/lib/python3.7/dist-packages (from deprecated>=1.2.13->sktime) (1.14.1)\n",
            "Requirement already satisfied: importlib-metadata in /usr/local/lib/python3.7/dist-packages (from numba>=0.53->sktime) (4.13.0)\n",
            "Requirement already satisfied: llvmlite<0.40,>=0.39.0dev0 in /usr/local/lib/python3.7/dist-packages (from numba>=0.53->sktime) (0.39.1)\n",
            "Requirement already satisfied: setuptools in /usr/local/lib/python3.7/dist-packages (from numba>=0.53->sktime) (57.4.0)\n",
            "Requirement already satisfied: python-dateutil>=2.7.3 in /usr/local/lib/python3.7/dist-packages (from pandas<1.6.0,>=1.1.0->sktime) (2.8.2)\n",
            "Requirement already satisfied: pytz>=2017.3 in /usr/local/lib/python3.7/dist-packages (from pandas<1.6.0,>=1.1.0->sktime) (2022.6)\n",
            "Requirement already satisfied: six>=1.5 in /usr/local/lib/python3.7/dist-packages (from python-dateutil>=2.7.3->pandas<1.6.0,>=1.1.0->sktime) (1.15.0)\n",
            "Requirement already satisfied: joblib>=0.11 in /usr/local/lib/python3.7/dist-packages (from scikit-learn<1.2.0,>=0.24.0->sktime) (1.2.0)\n",
            "Requirement already satisfied: threadpoolctl>=2.0.0 in /usr/local/lib/python3.7/dist-packages (from scikit-learn<1.2.0,>=0.24.0->sktime) (3.1.0)\n",
            "Requirement already satisfied: patsy>=0.5.2 in /usr/local/lib/python3.7/dist-packages (from statsmodels>=0.12.1->sktime) (0.5.3)\n",
            "Requirement already satisfied: packaging>=21.3 in /usr/local/lib/python3.7/dist-packages (from statsmodels>=0.12.1->sktime) (21.3)\n",
            "Requirement already satisfied: pyparsing!=3.0.5,>=2.0.2 in /usr/local/lib/python3.7/dist-packages (from packaging>=21.3->statsmodels>=0.12.1->sktime) (3.0.9)\n",
            "Requirement already satisfied: zipp>=0.5 in /usr/local/lib/python3.7/dist-packages (from importlib-metadata->numba>=0.53->sktime) (3.10.0)\n",
            "Requirement already satisfied: typing-extensions>=3.6.4 in /usr/local/lib/python3.7/dist-packages (from importlib-metadata->numba>=0.53->sktime) (4.1.1)\n",
            "Looking in indexes: https://pypi.org/simple, https://us-python.pkg.dev/colab-wheels/public/simple/\n",
            "Requirement already satisfied: pmdarima in /usr/local/lib/python3.7/dist-packages (2.0.1)\n",
            "Requirement already satisfied: statsmodels>=0.13.2 in /usr/local/lib/python3.7/dist-packages (from pmdarima) (0.13.5)\n",
            "Requirement already satisfied: numpy>=1.21 in /usr/local/lib/python3.7/dist-packages (from pmdarima) (1.21.6)\n",
            "Requirement already satisfied: Cython!=0.29.18,!=0.29.31,>=0.29 in /usr/local/lib/python3.7/dist-packages (from pmdarima) (0.29.32)\n",
            "Requirement already satisfied: scikit-learn>=0.22 in /usr/local/lib/python3.7/dist-packages (from pmdarima) (1.0.2)\n",
            "Requirement already satisfied: setuptools!=50.0.0,>=38.6.0 in /usr/local/lib/python3.7/dist-packages (from pmdarima) (57.4.0)\n",
            "Requirement already satisfied: urllib3 in /usr/local/lib/python3.7/dist-packages (from pmdarima) (1.24.3)\n",
            "Requirement already satisfied: pandas>=0.19 in /usr/local/lib/python3.7/dist-packages (from pmdarima) (1.3.5)\n",
            "Requirement already satisfied: scipy>=1.3.2 in /usr/local/lib/python3.7/dist-packages (from pmdarima) (1.7.3)\n",
            "Requirement already satisfied: joblib>=0.11 in /usr/local/lib/python3.7/dist-packages (from pmdarima) (1.2.0)\n",
            "Requirement already satisfied: pytz>=2017.3 in /usr/local/lib/python3.7/dist-packages (from pandas>=0.19->pmdarima) (2022.6)\n",
            "Requirement already satisfied: python-dateutil>=2.7.3 in /usr/local/lib/python3.7/dist-packages (from pandas>=0.19->pmdarima) (2.8.2)\n",
            "Requirement already satisfied: six>=1.5 in /usr/local/lib/python3.7/dist-packages (from python-dateutil>=2.7.3->pandas>=0.19->pmdarima) (1.15.0)\n",
            "Requirement already satisfied: threadpoolctl>=2.0.0 in /usr/local/lib/python3.7/dist-packages (from scikit-learn>=0.22->pmdarima) (3.1.0)\n",
            "Requirement already satisfied: packaging>=21.3 in /usr/local/lib/python3.7/dist-packages (from statsmodels>=0.13.2->pmdarima) (21.3)\n",
            "Requirement already satisfied: patsy>=0.5.2 in /usr/local/lib/python3.7/dist-packages (from statsmodels>=0.13.2->pmdarima) (0.5.3)\n",
            "Requirement already satisfied: pyparsing!=3.0.5,>=2.0.2 in /usr/local/lib/python3.7/dist-packages (from packaging>=21.3->statsmodels>=0.13.2->pmdarima) (3.0.9)\n",
            "Looking in indexes: https://pypi.org/simple, https://us-python.pkg.dev/colab-wheels/public/simple/\n",
            "Requirement already satisfied: statsmodels in /usr/local/lib/python3.7/dist-packages (0.13.5)\n",
            "Requirement already satisfied: scipy>=1.3 in /usr/local/lib/python3.7/dist-packages (from statsmodels) (1.7.3)\n",
            "Requirement already satisfied: packaging>=21.3 in /usr/local/lib/python3.7/dist-packages (from statsmodels) (21.3)\n",
            "Requirement already satisfied: numpy>=1.17 in /usr/local/lib/python3.7/dist-packages (from statsmodels) (1.21.6)\n",
            "Requirement already satisfied: patsy>=0.5.2 in /usr/local/lib/python3.7/dist-packages (from statsmodels) (0.5.3)\n",
            "Requirement already satisfied: pandas>=0.25 in /usr/local/lib/python3.7/dist-packages (from statsmodels) (1.3.5)\n",
            "Requirement already satisfied: pyparsing!=3.0.5,>=2.0.2 in /usr/local/lib/python3.7/dist-packages (from packaging>=21.3->statsmodels) (3.0.9)\n",
            "Requirement already satisfied: pytz>=2017.3 in /usr/local/lib/python3.7/dist-packages (from pandas>=0.25->statsmodels) (2022.6)\n",
            "Requirement already satisfied: python-dateutil>=2.7.3 in /usr/local/lib/python3.7/dist-packages (from pandas>=0.25->statsmodels) (2.8.2)\n",
            "Requirement already satisfied: six in /usr/local/lib/python3.7/dist-packages (from patsy>=0.5.2->statsmodels) (1.15.0)\n"
          ]
        }
      ],
      "source": [
        "!pip install spectrum\n",
        "!pip install dtw-python\n",
        "!pip install dtreeviz\n",
        "!pip install sktime\n",
        "!pip install pmdarima\n",
        "!pip install statsmodels"
      ]
    },
    {
      "cell_type": "code",
      "execution_count": 2,
      "metadata": {
        "id": "DuC_OkW4nm78",
        "outputId": "1a7f1a7c-c1ca-4431-8a38-9003c0005a74",
        "colab": {
          "base_uri": "https://localhost:8080/"
        }
      },
      "outputs": [
        {
          "output_type": "stream",
          "name": "stdout",
          "text": [
            "Importing the dtw module. When using in academic works please cite:\n",
            "  T. Giorgino. Computing and Visualizing Dynamic Time Warping Alignments in R: The dtw Package.\n",
            "  J. Stat. Soft., doi:10.18637/jss.v031.i07.\n",
            "\n"
          ]
        }
      ],
      "source": [
        "import time\n",
        "import timeit\n",
        "import pandas as pd\n",
        "import numpy as np\n",
        "import math\n",
        "import random\n",
        "import matplotlib.pyplot as plt\n",
        "import seaborn as sns\n",
        "\n",
        "from math import sqrt\n",
        "\n",
        "import statsmodels.api as sm\n",
        "import statsmodels.tools.eval_measures as bias\n",
        "\n",
        "from statsmodels.graphics.tsaplots import plot_acf,plot_pacf\n",
        "from statsmodels.tsa.arima_model import ARIMA\n",
        "from statsmodels.tsa.ar_model import AutoReg\n",
        "\n",
        "from sklearn.model_selection import train_test_split, GridSearchCV\n",
        "from sklearn.cluster import MiniBatchKMeans, KMeans\n",
        "from sklearn.neighbors import NearestNeighbors, KNeighborsClassifier\n",
        "from sklearn.linear_model import LinearRegression, RidgeCV, LassoCV, ElasticNetCV, LarsCV, Lasso, Ridge, BayesianRidge, LinearRegression\n",
        "from sklearn.metrics import mean_absolute_error,mean_squared_error,mean_absolute_percentage_error\n",
        "from sklearn.metrics.pairwise import pairwise_distances_argmin\n",
        "from sklearn.ensemble import RandomForestRegressor, GradientBoostingRegressor, VotingRegressor, AdaBoostRegressor, BaggingRegressor\n",
        "from sklearn.cross_decomposition import PLSRegression\n",
        "from sklearn.decomposition import PCA\n",
        "from sklearn.pipeline import make_pipeline\n",
        "from sklearn.preprocessing import StandardScaler\n",
        "from sklearn import preprocessing\n",
        "\n",
        "from dtw import *\n",
        "from scipy import stats\n",
        "\n",
        "from sktime.forecasting.arima import AutoARIMA\n",
        "\n",
        "%matplotlib inline\n",
        "sns.set_theme(style=\"white\")\n",
        "\n",
        "import os\n",
        "import numpy as np\n",
        "import pandas as pd\n",
        "import matplotlib.pyplot as plt\n",
        "from statsmodels.tsa.api import ExponentialSmoothing, SimpleExpSmoothing, Holt"
      ]
    },
    {
      "cell_type": "markdown",
      "metadata": {
        "id": "eyRgIpSPswGc"
      },
      "source": [
        "## Load data"
      ]
    },
    {
      "cell_type": "code",
      "execution_count": 3,
      "metadata": {
        "id": "1e612CLOjx1J"
      },
      "outputs": [],
      "source": [
        "#https://drive.google.com/drive/folders/1Gj3XK9kM-lE18uBMe3qrZOGEm8yAI8i9\n",
        "#https://www.codegrepper.com/code-examples/python/how+to+read+csv+file+from+google+drive+on+google+colab+\n",
        "path = 'https://drive.google.com/uc?export=download&id=' \n",
        "URL  = 'https://drive.google.com/file/d/1057_dPk6rIZgXVku8kmZjq3m8WQNkJZb/view?usp=sharing'\n",
        "df = pd.read_csv(path+URL.split('/')[-2],usecols=[0,1,2,3,4,5,6,7],names=['Date','SERIE1','SERIE2','SERIE3','SERIE4','SERIE5','SERIE6','SERIE7'],\n",
        "                 dtype={'Date':str,'SERIE1':float,'SERIE2':float,'SERIE3':float,'SERIE4':float,'SERIE5':float,'SERIE6':float,'SERIE7':float}) #names=['CLVUNI','TYPE','NODE'], usecols=[1,2,3,4,5,6,]\n",
        "df.dropna(inplace=True)"
      ]
    },
    {
      "cell_type": "markdown",
      "metadata": {
        "id": "pPW00kCJlbim"
      },
      "source": [
        "### ETL 5 minutes"
      ]
    },
    {
      "cell_type": "code",
      "execution_count": 4,
      "metadata": {
        "id": "8Xn_AmM-dL2C",
        "outputId": "f202a5a6-fe57-4107-b780-7b170642fbec",
        "colab": {
          "base_uri": "https://localhost:8080/",
          "height": 237
        }
      },
      "outputs": [
        {
          "output_type": "execute_result",
          "data": {
            "text/plain": [
              "                          SERIE1       SERIE2       SERIE3       SERIE4  \\\n",
              "Date                                                                      \n",
              "2010-01-01 00:00:00  5547.831152  4353.258496  4927.916309  1355.909058   \n",
              "2010-01-01 00:05:00  5535.618164  4348.893457  4916.344433  1353.716626   \n",
              "2010-01-01 00:10:00  5529.010351  4331.776856  4897.709473  1346.924121   \n",
              "2010-01-01 00:15:00  5514.982032  4330.051758  4879.650098  1346.241382   \n",
              "2010-01-01 00:20:00  5472.567285  4314.503906  4863.172266  1334.846802   \n",
              "\n",
              "                          SERIE5       SERIE6      SERIE7  \n",
              "Date                                                       \n",
              "2010-01-01 00:00:00  1697.601026  3396.820703  920.982605  \n",
              "2010-01-01 00:05:00  1699.889233  3397.829590  918.181799  \n",
              "2010-01-01 00:10:00  1697.138647  3424.317334  916.371033  \n",
              "2010-01-01 00:15:00  1705.324194  3421.112500  916.161291  \n",
              "2010-01-01 00:20:00  1674.401562  3409.312451  914.513721  "
            ],
            "text/html": [
              "\n",
              "  <div id=\"df-8f19b717-5b15-4053-bbff-2803a4b3f1e1\">\n",
              "    <div class=\"colab-df-container\">\n",
              "      <div>\n",
              "<style scoped>\n",
              "    .dataframe tbody tr th:only-of-type {\n",
              "        vertical-align: middle;\n",
              "    }\n",
              "\n",
              "    .dataframe tbody tr th {\n",
              "        vertical-align: top;\n",
              "    }\n",
              "\n",
              "    .dataframe thead th {\n",
              "        text-align: right;\n",
              "    }\n",
              "</style>\n",
              "<table border=\"1\" class=\"dataframe\">\n",
              "  <thead>\n",
              "    <tr style=\"text-align: right;\">\n",
              "      <th></th>\n",
              "      <th>SERIE1</th>\n",
              "      <th>SERIE2</th>\n",
              "      <th>SERIE3</th>\n",
              "      <th>SERIE4</th>\n",
              "      <th>SERIE5</th>\n",
              "      <th>SERIE6</th>\n",
              "      <th>SERIE7</th>\n",
              "    </tr>\n",
              "    <tr>\n",
              "      <th>Date</th>\n",
              "      <th></th>\n",
              "      <th></th>\n",
              "      <th></th>\n",
              "      <th></th>\n",
              "      <th></th>\n",
              "      <th></th>\n",
              "      <th></th>\n",
              "    </tr>\n",
              "  </thead>\n",
              "  <tbody>\n",
              "    <tr>\n",
              "      <th>2010-01-01 00:00:00</th>\n",
              "      <td>5547.831152</td>\n",
              "      <td>4353.258496</td>\n",
              "      <td>4927.916309</td>\n",
              "      <td>1355.909058</td>\n",
              "      <td>1697.601026</td>\n",
              "      <td>3396.820703</td>\n",
              "      <td>920.982605</td>\n",
              "    </tr>\n",
              "    <tr>\n",
              "      <th>2010-01-01 00:05:00</th>\n",
              "      <td>5535.618164</td>\n",
              "      <td>4348.893457</td>\n",
              "      <td>4916.344433</td>\n",
              "      <td>1353.716626</td>\n",
              "      <td>1699.889233</td>\n",
              "      <td>3397.829590</td>\n",
              "      <td>918.181799</td>\n",
              "    </tr>\n",
              "    <tr>\n",
              "      <th>2010-01-01 00:10:00</th>\n",
              "      <td>5529.010351</td>\n",
              "      <td>4331.776856</td>\n",
              "      <td>4897.709473</td>\n",
              "      <td>1346.924121</td>\n",
              "      <td>1697.138647</td>\n",
              "      <td>3424.317334</td>\n",
              "      <td>916.371033</td>\n",
              "    </tr>\n",
              "    <tr>\n",
              "      <th>2010-01-01 00:15:00</th>\n",
              "      <td>5514.982032</td>\n",
              "      <td>4330.051758</td>\n",
              "      <td>4879.650098</td>\n",
              "      <td>1346.241382</td>\n",
              "      <td>1705.324194</td>\n",
              "      <td>3421.112500</td>\n",
              "      <td>916.161291</td>\n",
              "    </tr>\n",
              "    <tr>\n",
              "      <th>2010-01-01 00:20:00</th>\n",
              "      <td>5472.567285</td>\n",
              "      <td>4314.503906</td>\n",
              "      <td>4863.172266</td>\n",
              "      <td>1334.846802</td>\n",
              "      <td>1674.401562</td>\n",
              "      <td>3409.312451</td>\n",
              "      <td>914.513721</td>\n",
              "    </tr>\n",
              "  </tbody>\n",
              "</table>\n",
              "</div>\n",
              "      <button class=\"colab-df-convert\" onclick=\"convertToInteractive('df-8f19b717-5b15-4053-bbff-2803a4b3f1e1')\"\n",
              "              title=\"Convert this dataframe to an interactive table.\"\n",
              "              style=\"display:none;\">\n",
              "        \n",
              "  <svg xmlns=\"http://www.w3.org/2000/svg\" height=\"24px\"viewBox=\"0 0 24 24\"\n",
              "       width=\"24px\">\n",
              "    <path d=\"M0 0h24v24H0V0z\" fill=\"none\"/>\n",
              "    <path d=\"M18.56 5.44l.94 2.06.94-2.06 2.06-.94-2.06-.94-.94-2.06-.94 2.06-2.06.94zm-11 1L8.5 8.5l.94-2.06 2.06-.94-2.06-.94L8.5 2.5l-.94 2.06-2.06.94zm10 10l.94 2.06.94-2.06 2.06-.94-2.06-.94-.94-2.06-.94 2.06-2.06.94z\"/><path d=\"M17.41 7.96l-1.37-1.37c-.4-.4-.92-.59-1.43-.59-.52 0-1.04.2-1.43.59L10.3 9.45l-7.72 7.72c-.78.78-.78 2.05 0 2.83L4 21.41c.39.39.9.59 1.41.59.51 0 1.02-.2 1.41-.59l7.78-7.78 2.81-2.81c.8-.78.8-2.07 0-2.86zM5.41 20L4 18.59l7.72-7.72 1.47 1.35L5.41 20z\"/>\n",
              "  </svg>\n",
              "      </button>\n",
              "      \n",
              "  <style>\n",
              "    .colab-df-container {\n",
              "      display:flex;\n",
              "      flex-wrap:wrap;\n",
              "      gap: 12px;\n",
              "    }\n",
              "\n",
              "    .colab-df-convert {\n",
              "      background-color: #E8F0FE;\n",
              "      border: none;\n",
              "      border-radius: 50%;\n",
              "      cursor: pointer;\n",
              "      display: none;\n",
              "      fill: #1967D2;\n",
              "      height: 32px;\n",
              "      padding: 0 0 0 0;\n",
              "      width: 32px;\n",
              "    }\n",
              "\n",
              "    .colab-df-convert:hover {\n",
              "      background-color: #E2EBFA;\n",
              "      box-shadow: 0px 1px 2px rgba(60, 64, 67, 0.3), 0px 1px 3px 1px rgba(60, 64, 67, 0.15);\n",
              "      fill: #174EA6;\n",
              "    }\n",
              "\n",
              "    [theme=dark] .colab-df-convert {\n",
              "      background-color: #3B4455;\n",
              "      fill: #D2E3FC;\n",
              "    }\n",
              "\n",
              "    [theme=dark] .colab-df-convert:hover {\n",
              "      background-color: #434B5C;\n",
              "      box-shadow: 0px 1px 3px 1px rgba(0, 0, 0, 0.15);\n",
              "      filter: drop-shadow(0px 1px 2px rgba(0, 0, 0, 0.3));\n",
              "      fill: #FFFFFF;\n",
              "    }\n",
              "  </style>\n",
              "\n",
              "      <script>\n",
              "        const buttonEl =\n",
              "          document.querySelector('#df-8f19b717-5b15-4053-bbff-2803a4b3f1e1 button.colab-df-convert');\n",
              "        buttonEl.style.display =\n",
              "          google.colab.kernel.accessAllowed ? 'block' : 'none';\n",
              "\n",
              "        async function convertToInteractive(key) {\n",
              "          const element = document.querySelector('#df-8f19b717-5b15-4053-bbff-2803a4b3f1e1');\n",
              "          const dataTable =\n",
              "            await google.colab.kernel.invokeFunction('convertToInteractive',\n",
              "                                                     [key], {});\n",
              "          if (!dataTable) return;\n",
              "\n",
              "          const docLinkHtml = 'Like what you see? Visit the ' +\n",
              "            '<a target=\"_blank\" href=https://colab.research.google.com/notebooks/data_table.ipynb>data table notebook</a>'\n",
              "            + ' to learn more about interactive tables.';\n",
              "          element.innerHTML = '';\n",
              "          dataTable['output_type'] = 'display_data';\n",
              "          await google.colab.output.renderOutput(dataTable, element);\n",
              "          const docLink = document.createElement('div');\n",
              "          docLink.innerHTML = docLinkHtml;\n",
              "          element.appendChild(docLink);\n",
              "        }\n",
              "      </script>\n",
              "    </div>\n",
              "  </div>\n",
              "  "
            ]
          },
          "metadata": {},
          "execution_count": 4
        }
      ],
      "source": [
        "df['Date'] = pd.to_datetime(df['Date'],format= '%d-%m-%Y %H:%M' ) #.dt.date https://pandas.pydata.org/docs/reference/api/pandas.Series.dt.date.html\n",
        "df = df.set_index('Date')\n",
        "df_5 = df.resample('5T').mean()\n",
        "df_5.head()"
      ]
    },
    {
      "cell_type": "code",
      "execution_count": 5,
      "metadata": {
        "colab": {
          "base_uri": "https://localhost:8080/",
          "height": 756
        },
        "id": "u7HzIcQz8gyT",
        "outputId": "a1f01235-f669-45d2-e74b-45e67556bbd6"
      },
      "outputs": [
        {
          "output_type": "display_data",
          "data": {
            "text/plain": [
              "<Figure size 1440x1008 with 1 Axes>"
            ],
            "image/png": "[encoded data removed]"
          },
          "metadata": {}
        }
      ],
      "source": [
        "regions = ['A', 'B', 'C', 'D', 'E', 'F', 'G']\n",
        "if  True:\n",
        "  i = 0\n",
        "  j = 0\n",
        "  cmap = plt.cm.Dark2 #tab20 https://matplotlib.org/stable/gallery/color/colormap_reference.html\n",
        "  fig, ax = plt.subplots(figsize=(20,14))\n",
        "  for ts in df_5:\n",
        "    max_t = df_5[ts].max()\n",
        "    plt.plot(df_5[ts].index, df_5[ts] / max_t + j, c = cmap(i), label=regions[i], alpha=.9)\n",
        "    i += 1\n",
        "    j -= 1\n",
        "  plt.yticks([])\n",
        "  plt.xticks(rotation=90, fontsize=16)\n",
        "  plt.legend(bbox_to_anchor=(1, 0.8), prop={'size': 16}, title=\"Regions\", title_fontsize=16)\n",
        "  plt.savefig('series.pdf', bbox_inches = 'tight')\n",
        "  plt.show()"
      ]
    },
    {
      "cell_type": "markdown",
      "metadata": {
        "id": "DgJdgEsvHkNN"
      },
      "source": [
        "## Functions"
      ]
    },
    {
      "cell_type": "markdown",
      "metadata": {
        "id": "pZTswSAq8cwZ"
      },
      "source": [
        "### Sample selection"
      ]
    },
    {
      "cell_type": "code",
      "execution_count": 6,
      "metadata": {
        "id": "EcNqmPCJP_yS"
      },
      "outputs": [],
      "source": [
        "def trunc(values, decs=0):\n",
        "    return np.trunc(values*10**decs)/(10**decs)"
      ]
    },
    {
      "cell_type": "code",
      "execution_count": 7,
      "metadata": {
        "id": "vALZjLAUfkzP"
      },
      "outputs": [],
      "source": [
        "def diff(list1,list2):\n",
        "    difference = []\n",
        "    zip_object = zip(list1, list2)\n",
        "    for list1_i, list2_i in zip_object:\n",
        "        difference.append(list1_i-list2_i)\n",
        "    return difference"
      ]
    },
    {
      "cell_type": "code",
      "execution_count": 8,
      "metadata": {
        "id": "9cnF4RJ6no8V"
      },
      "outputs": [],
      "source": [
        "CYAN = '#76ced6' ; LILA = '#777bd4'; VERDE='#17cb49'; NARA='#ff8000'; AZUL='#168fff'; OTROAZUL = \"b-\"; ROJO= \"r-\"; MAGE=\"FF00FF\";\n",
        "def print_serie2(serie_,prototipo_,title_,ytitle_,xtitle_,sizex_=8,sizey_=5,namefile_='fig_t16_serie.png'):\n",
        "    fig, ax1 = plt.subplots(figsize=(sizex_,sizey_))\n",
        "    plt.title(title_,fontsize='x-large',color=NARA)\n",
        "    ax1.set_xlabel(xtitle_, color=NARA, fontsize='large')\n",
        "    ax1.set_ylabel(ytitle_, color=NARA, fontsize='large')\n",
        "    plt.tick_params(colors = NARA, which='both')\n",
        "    ax1.spines['bottom'].set_color(NARA)\n",
        "    ax1.spines['top'   ].set_color(NARA) \n",
        "    ax1.spines['right' ].set_color(NARA)\n",
        "    ax1.spines['left'  ].set_color(NARA)\n",
        "    if len(prototipo_) != 0: \n",
        "        plt.plot(prototipo_,alpha=0.6, linestyle='dashed', color='red', linewidth=3)\n",
        "    for p in serie_:\n",
        "        plt.plot(p,alpha=0.3, linewidth=2)    \n",
        "    plt.savefig(namefile_, transparent=True)         \n",
        "    plt.show()"
      ]
    },
    {
      "cell_type": "code",
      "execution_count": 9,
      "metadata": {
        "id": "Ls5XHfg-e5Gr"
      },
      "outputs": [],
      "source": [
        "def OLSstep(X, Y, X_2, pi_step_=0.001,verbose_=False):\n",
        "    model   = sm.OLS(Y, X)\n",
        "    results = model.fit()\n",
        "    prediction_Y2 = results.predict(X_2)\n",
        "\n",
        "    ## We sort the 'pi' values and the largest one is selected.\n",
        "    i = 0\n",
        "    pvalues = []\n",
        "    for pi in results.pvalues:\n",
        "        pvalues.append((i,pi))\n",
        "        i = i + 1\n",
        "    pvalues.sort(key=lambda tup: tup[1], reverse=True) ## We order by 'pi'\n",
        "    (i, pi) = pvalues[0]  \n",
        "\n",
        "    while pi > pi:\n",
        "        X   = sm.add_constant(X)\n",
        "        X_2 = sm.add_constant(X_2)   \n",
        "        if verbose_==True:\n",
        "            print('Retiramos regresor ---> X' + str(i))\n",
        "        X   = np.delete(arr=X,   obj=i+0, axis=1)\n",
        "        X_2 = np.delete(arr=X_2, obj=i+0, axis=1)   \n",
        "        model   = sm.OLS(Y, X)\n",
        "        results = model.fit()\n",
        "\n",
        "        ## We sort the 'pi' values and select the largest\n",
        "        i = 0\n",
        "        pvalues = []\n",
        "        for pi in results.pvalues:\n",
        "            pvalues.append((i,pi))\n",
        "            i = i + 1\n",
        "        pvalues.sort(key=lambda tup: tup[1], reverse=True) ## We order by 'pi'\n",
        "        (i, pi) = pvalues[0]\n",
        "        #prediction   = results.predict(X)  \n",
        "        prediction_Y2 = results.predict(X_2)\n",
        "    if len(prediction_Y2) == 0:      \n",
        "        if verbose_==True:\n",
        "            print('>>> Warning, no variable was significant in the regression.')\n",
        "        model   = sm.OLS(Y, X)\n",
        "        results = model.fit()\n",
        "        prediction_Y2 = results.predict(X_2)\n",
        "        \n",
        "    if verbose_==True:\n",
        "        print(results.summary())\n",
        "    return prediction_Y2   "
      ]
    },
    {
      "cell_type": "code",
      "execution_count": 10,
      "metadata": {
        "id": "D8tPs-3mU4dA"
      },
      "outputs": [],
      "source": [
        "def RF(X, Y, X_2,labels_,typedist_,verbose_=False):\n",
        "    model         = RandomForestRegressor(random_state=42)\n",
        "    results       = model.fit(X, Y)\n",
        "    prediction_Y2 = results.predict(X_2)\n",
        "    return prediction_Y2   \n",
        "def Boosting(X, Y, X_2,typedist_,verbose_=False):\n",
        "    model         = GradientBoostingRegressor(random_state=42,)\n",
        "    results       = model.fit(X, Y)\n",
        "    prediction_Y2 = results.predict(X_2)\n",
        "    return prediction_Y2\n",
        "def Bagging(X, Y, X_2,typedist_,verbose_=False):\n",
        "    model         = BaggingRegressor(random_state=42,)\n",
        "    results       = model.fit(X, Y)\n",
        "    prediction_Y2 = results.predict(X_2)\n",
        "    return prediction_Y2   \n",
        "def AdaBoost(X, Y, X_2,typedist_,verbose_=False):\n",
        "    model         = AdaBoostRegressor(random_state=42,)\n",
        "    results       = model.fit(X, Y)\n",
        "    prediction_Y2 = results.predict(X_2)\n",
        "    return prediction_Y2 \n",
        "def LinearReg(X, Y, X_2,typedist_,verbose_=False):\n",
        "    model         = LinearRegression()\n",
        "    results       = model.fit(X, Y)\n",
        "    prediction_Y2 = results.predict(X_2)\n",
        "    return prediction_Y2\n",
        "def BayesRidge(X, Y, X_2,typedist_,verbose_=False):\n",
        "    model         = BayesianRidge(compute_score=True)\n",
        "    results       = model.fit(X, Y)\n",
        "    prediction_Y2 = results.predict(X_2) \n",
        "    return prediction_Y2\n",
        "def LassoReg(X, Y, X_2,typedist_,verbose_=True):\n",
        "    model         = Lasso(alpha=0.1)\n",
        "    results       = model.fit(X, Y)\n",
        "    prediction_Y2 = results.predict(X_2)\n",
        "    return prediction_Y2\n",
        "def RidgeReg(X, Y, X_2,typedist_,verbose_=False):\n",
        "    model         = Ridge(alpha=0.1)\n",
        "    results       = model.fit(X, Y)\n",
        "    prediction_Y2 = results.predict(X_2)\n",
        "    return prediction_Y2    \n",
        "def PLS(X, Y, X_2,n_components,typedist_,verbose_=False):\n",
        "    model         = PLSRegression(n_components=n_components)\n",
        "    results       = model.fit(X, Y)\n",
        "    prediction_Y2 = results.predict(X_2)\n",
        "    return prediction_Y2\n",
        "def PCR(X, Y, X_2,n_components,typedist_,verbose_=False):\n",
        "## https://scikit-learn.org/stable/auto_examples/cross_decomposition/plot_pcr_vs_pls.html\n",
        "    model         = make_pipeline(PCA(n_components=n_components), LinearRegression())\n",
        "    results       = model.fit(X, Y)\n",
        "    prediction_Y2 = results.predict(X_2)\n",
        "    return prediction_Y2"
      ]
    },
    {
      "cell_type": "code",
      "execution_count": 11,
      "metadata": {
        "id": "UFQb6V2fYha7"
      },
      "outputs": [],
      "source": [
        "def VotingEnsemble(X, Y, X_2,verbose_=False):  \n",
        "    ## https://scikit-learn.org/stable/auto_examples/ensemble/plot_voting_regressor.html#sphx-glr-auto-examples-ensemble-plot-voting-regressor-py\n",
        "    gb  = GradientBoostingRegressor(random_state=42)\n",
        "    rf  = RandomForestRegressor(random_state=42)\n",
        "    br  = BaggingRegressor(random_state=42)\n",
        "    ab  = AdaBoostRegressor(random_state=42)\n",
        "    gb.fit(X, Y)\n",
        "    rf.fit(X, Y)\n",
        "    br.fit(X, Y)\n",
        "    ab.fit(X, Y)\n",
        "    voting = VotingRegressor([(\"gb\",gb), (\"rf\",rf), (\"br\",br), (\"ab\",ab)]) #\n",
        "    voting.fit(X, Y)\n",
        "    prediction_Y2 = voting.predict(X_2)\n",
        "    return prediction_Y2   "
      ]
    },
    {
      "cell_type": "code",
      "execution_count": 12,
      "metadata": {
        "id": "EDO3mPUv3wf5"
      },
      "outputs": [],
      "source": [
        "def VotingLinear(X, Y, X_2,verbose_=False):  \n",
        "    ## https://scikit-learn.org/stable/auto_examples/ensemble/plot_voting_regressor.html#sphx-glr-auto-examples-ensemble-plot-voting-regressor-py\n",
        "    pl = PLSRegression(n_components=1)\n",
        "    lr = LinearRegression()\n",
        "    ri = Ridge(alpha=0.1)\n",
        "    la = Lasso(alpha=0.1)    \n",
        "    pc = make_pipeline(PCA(n_components=1), LinearRegression())\n",
        "    pl.fit(X, Y)\n",
        "    lr.fit(X, Y)\n",
        "    ri.fit(X, Y)\n",
        "    la.fit(X, Y)\n",
        "    pc.fit(X, Y)\n",
        "    voting = VotingRegressor([(\"lr\",lr),(\"ri\",ri),(\"la\",la),(\"pc\",pc)]) #,(\"pl\",pl)\n",
        "    voting.fit(X, Y)\n",
        "    prediction_Y2 = voting.predict(X_2)    \n",
        "    return prediction_Y2   "
      ]
    },
    {
      "cell_type": "code",
      "execution_count": 13,
      "metadata": {
        "id": "yY6yd0WJBr7f"
      },
      "outputs": [],
      "source": [
        "def euclidean(neig1, neig2):\n",
        "\tdistance = 0.0\n",
        "\tfor i in range(len(neig1)):\n",
        "\t\tdistance += (neig1[i] - neig2[i])**2\n",
        "\treturn sqrt(distance)"
      ]
    },
    {
      "cell_type": "markdown",
      "metadata": {
        "id": "-TZJr4q_8mTM"
      },
      "source": [
        "### Forecast"
      ]
    },
    {
      "cell_type": "code",
      "execution_count": 36,
      "metadata": {
        "id": "yz9CDOHQnx0j"
      },
      "outputs": [],
      "source": [
        "def analogo_knn(serie,vsele,k=10,tol=0.8,n_components=3,typedist='pearson',typereg='OLSstep',verbose=False):\n",
        "# vesele   : Size of the selection window / Tamanio de la ventana de selección\n",
        "# k        : Number of neighbours to search for k / Número de vecinos a buscar k\n",
        "# tol      : Window size tolerance for neighbour selection / Tolerancia de tamaño de ventanas para seleccion de vecinos\n",
        "# typedist : distance measure, 'euclidian' or 'pearson' or 'dtw' / medida de distancia, 'euclidian' o 'pearson' o 'dtw' \n",
        "    t_o = time.time()\n",
        "    n = len(serie) \n",
        "\n",
        "## STEP 1: Selection of the windows with the highest correlation.\n",
        "\n",
        "    ## Calculate the distance between all neighbors.\n",
        "    distances = []\n",
        "    Y = serie[n-vsele:n]           ## latest data\n",
        "    for i in range(n-2*vsele):                              \n",
        "        if  typedist == 'dtw':     ## dynamic time warping\n",
        "            dist = dtw(Y, serie[i:i+vsele]).distance  \n",
        "        elif typedist == 'euclidian':\n",
        "            dist = euclidean(Y,serie[i:i+vsele])\n",
        "        else:\n",
        "            dist = np.corrcoef(Y,serie[i:i+vsele])[1,0]\n",
        "        if dist > 0:\n",
        "            distances.append((i, dist))\n",
        "        \n",
        "    ## We calculate the neighbourhood by distance from smallest to largest and the positions are saved.\n",
        "    if typedist == 'pearson':\n",
        "        ## In the Pearson backwards case, we are interested in the indices with the highest correlation in Pearson backwards ordering.\n",
        "        distances.sort(key=lambda tup: tup[1], reverse=True)\n",
        "    else:\n",
        "        distances.sort(key=lambda tup: tup[1], reverse=False)\n",
        "\n",
        "    neighbors  = []\n",
        "    neighbors2 = []\n",
        "    positions  = []\n",
        "\n",
        "    ## We calculate the k nearest neighbors and save the positions.\n",
        "    i = 0\n",
        "    for pos, dis in distances:\n",
        "        if i==0:      \n",
        "            positions.append(pos)   \n",
        "            neighbors.append(serie[pos:pos+vsele])\n",
        "            neighbors2.append(serie[pos+vsele:pos+2*vsele])  \n",
        "        else:\n",
        "            bandera = True\n",
        "            for p in positions:\n",
        "                 ## if we already had a position in the list that passed the tolerance, we no longer save it\n",
        "                if (abs(pos - p) < tol*vsele):\n",
        "                    bandera = False\n",
        "                    i = i - 1\n",
        "                    break\n",
        "            if bandera == True:\n",
        "                ## save new neighbor\n",
        "                positions.append(pos)   \n",
        "                neighbors.append(serie[pos:pos+vsele])\n",
        "                neighbors2.append(serie[pos+vsele:pos+2*vsele])  \n",
        "                bandera = False\n",
        "        i = i + 1\n",
        "        if i == k:\n",
        "            break\n",
        "    if verbose==True:\n",
        "        print('positions KNN:', positions) ## position of k nearest neighbors\n",
        "\n",
        "    neighbors  = np.array(neighbors)  \n",
        "    neighbors2 = np.array(neighbors2)    \n",
        "    vacia = []\n",
        "    if verbose==True:\n",
        "        print_serie2(neighbors,Y,'Selección con KNN:'+typedist,'demanda','time',8,5,'fig_t16_X_'+typedist+'_'+typereg)\n",
        "\n",
        "    t_sel = time.time() - t_o\n",
        "\n",
        "## STEP 2: Regression between nearest neighbors 'X' and last window 'Y'\n",
        "\n",
        "    ## Define our regressors\n",
        "    X   = (neighbors.T ).tolist()\n",
        "    X_2 = (neighbors2.T).tolist()\n",
        "    Y   = (Y).tolist()\n",
        "    prediction_Y2 = []\n",
        "\n",
        "    ## -- Random forest regression --\n",
        "    if typereg == 'RF':\n",
        "        prediction_Y2 = RF(X,Y,X_2,labels_=positions,typedist_=typedist,verbose_=verbose)\n",
        "\n",
        "    ## -- OLS with Stepwise --\n",
        "    if typereg == 'OLSstep':\n",
        "        prediction_Y2 = OLSstep(X,Y,X_2, pi_step_=0.001,verbose_=verbose)\n",
        "\n",
        "    ## -- Gradiant boosting regression --\n",
        "    if typereg == 'Boosting':\n",
        "        prediction_Y2 = Boosting(X, Y, X_2,typedist_=typedist,verbose_=verbose)   \n",
        "\n",
        "    ## -- Bagging regression --\n",
        "    if typereg == 'Bagging':\n",
        "        prediction_Y2 = Bagging(X, Y, X_2,typedist_=typedist,verbose_=verbose)   \n",
        "\n",
        "    ## -- Linear regression --\n",
        "    if typereg == 'LinearReg':\n",
        "        prediction_Y2 = LinearReg(X, Y, X_2,typedist_=typedist,verbose_=verbose)   \n",
        "\n",
        "    ## -- Ada boosting --\n",
        "    if typereg == 'AdaBoost':\n",
        "        prediction_Y2 = AdaBoost(X, Y, X_2,typedist_=typedist,verbose_=verbose)  \n",
        "\n",
        "    ## -- Bayesian Ridge --\n",
        "    if typereg == 'BayesRidge':\n",
        "        prediction_Y2 = BayesRidge(X, Y, X_2,typedist_=typedist,verbose_=verbose)  \n",
        "\n",
        "    ## -- Lasso regression --\n",
        "    if typereg == 'LassoReg':\n",
        "        prediction_Y2 = LassoReg(X, Y, X_2,typedist_=typedist,verbose_=verbose)   \n",
        "\n",
        "    ## -- Ridge regression --\n",
        "    if typereg == 'RidgeReg':\n",
        "        prediction_Y2 = RidgeReg(X, Y, X_2,typedist_=typedist,verbose_=verbose)\n",
        "\n",
        "    ## -- PLS Regression --\n",
        "    if typereg == 'PLS':\n",
        "        prediction_Y2 = PLS(X, Y, X_2,n_components=n_components,typedist_=typedist,verbose_=verbose)\n",
        "\n",
        "    ## -- PCA Regression --\n",
        "    if typereg == 'PCR':\n",
        "        prediction_Y2 = PCR(X, Y, X_2,n_components=n_components,typedist_=typedist,verbose_=verbose)\n",
        "\n",
        "    ## -- Voting regression with ensemble models -- \n",
        "    if typereg == 'VotingEnsemble':\n",
        "        prediction_Y2 = VotingEnsemble(X,Y,X_2,verbose_=verbose)\n",
        "\n",
        "    ## -- Voting regression with linear model -- \n",
        "    if typereg == 'VotingLinear':\n",
        "        prediction_Y2 = VotingLinear(X,Y,X_2,verbose_=verbose)\n",
        "        \n",
        "    ## -- Random forrest regression with GridSearchCV--\n",
        "    #if typereg == 'AutoRF':\n",
        "    #    prediction_Y2 = AutoRF(X, Y, X_2,labels_=positions,typedist_=typedist,verbose_=verbose)        \n",
        "\n",
        "    if verbose==True:\n",
        "        print_serie2(neighbors2,prediction_Y2, 'Forecast - ' + typedist+' - ' + typereg ,'Demand','Time',8,5,'fig_t16_Y2_'+typedist+'_'+typereg)\n",
        "\n",
        "    t_reg = time.time() - t_sel - t_o\n",
        "    fail_=False\n",
        "    if len(prediction_Y2) == 0:\n",
        "        prediction_Y2=[serie[-1]] * vsele\n",
        "        fail_=True\n",
        "        print(\">>> analogo_knn: Forecast not calculated.\")\n",
        "\n",
        "    ## Draw an example of an analogous space with X, X' and Y,Y'\n",
        "    if False:\n",
        "        fig, ax = plt.subplots(figsize=(8,5))\n",
        "        ax.legend(['First line', 'Second line'])\n",
        "        serie1=serie[positions[0]:positions[0]+2*vsele]\n",
        "        serie2=serie[positions[1]:positions[1]+2*vsele]\n",
        "        serie3=serie[positions[2]:positions[2]+2*vsele]\n",
        "        serie4=serie[positions[3]:positions[3]+2*vsele]\n",
        "        serie5=serie[positions[4]:positions[4]+2*vsele]\n",
        "        serie6=serie[positions[5]:positions[5]+2*vsele]\n",
        "        ax.plot(serie1, label='X$_1$')\n",
        "        ax.plot(serie2, label='X$_2$')\n",
        "        ax.plot(serie3, label='X$_3$')\n",
        "        ax.plot(serie4, label='X$_4$')\n",
        "        ax.plot(serie5, label='X$_5$')\n",
        "        ax.plot(serie6,label='X$_6$')\n",
        "        ax.plot(Y,label='Y', linewidth=3, color='r')   \n",
        "        c = np.concatenate((Y,prediction_Y2), axis=0)   \n",
        "        ax.plot(c, label='$Y\\'$', linewidth=3, color='r',linestyle='--')      \n",
        "        plt.legend()\n",
        "        plt.axvline(x = vsele,linestyle='-.')\n",
        "        ax.set(xlabel='time (5 min)', ylabel='demand (MW)') #title='High correlation windows'\n",
        "        ax.grid()\n",
        "\n",
        "        fig.savefig('test'+str(random.randint(1,30000))+'.pdf')\n",
        "        plt.show()\n",
        "\n",
        "    return prediction_Y2, t_sel, t_reg, fail_, positions"
      ]
    },
    {
      "cell_type": "code",
      "execution_count": 15,
      "metadata": {
        "id": "KHBgJTShea-s"
      },
      "outputs": [],
      "source": [
        "## Persistence forecasting\n",
        "def persistence(serie, n=1):\n",
        "  out = [serie[-1] * n]\n",
        "  return(out)"
      ]
    },
    {
      "cell_type": "code",
      "execution_count": 16,
      "metadata": {
        "id": "akyjoUuj8p8w"
      },
      "outputs": [],
      "source": [
        "def sk_autoarima(x, max_p = 2, max_d = 2, max_q = 2, sp = 1, to_predict = 1):\n",
        "  forecaster = AutoARIMA(\n",
        "    start_p = 0, d = 0, start_q = 0, \n",
        "    max_p = max_p, max_d = max_d, max_q = max_q, \n",
        "    sp = sp,\n",
        "    suppress_warnings = True\n",
        "  )\n",
        "  # Una semana dos horas antes es 2016 + 24 = 2040\n",
        "  forecaster.fit(x)\n",
        "\n",
        "  y_pred = forecaster.predict(fh=list(range(1, to_predict + 1)))\n",
        "  return(y_pred)"
      ]
    },
    {
      "cell_type": "code",
      "execution_count": 17,
      "metadata": {
        "id": "kw251Mb_VKqs"
      },
      "outputs": [],
      "source": [
        "def HoltWinters(data,vsele,option='Additive'):\n",
        "  ##'Additive' 'Multiplicative' 'Additive Dam' 'Multiplicative Dam'\n",
        "##https://www.statsmodels.org/dev/examples/notebooks/generated/exponential_smoothing.html#Holt%E2%80%99s-Winters-Seasonal\n",
        "  if option == 'Additive':\n",
        "    fit = ExponentialSmoothing(\n",
        "    data,\n",
        "    seasonal_periods      = vsele,\n",
        "    trend                 = \"add\",\n",
        "    seasonal              = \"add\",\n",
        "    use_boxcox            = True,\n",
        "    initialization_method =\"estimated\").fit()\n",
        "  elif option == 'Multiplicative':\n",
        "    fit = ExponentialSmoothing(\n",
        "    data,\n",
        "    seasonal_periods      = vsele,\n",
        "    trend                 = \"add\",\n",
        "    seasonal              = \"mul\",\n",
        "    use_boxcox            = True,\n",
        "    initialization_method = \"estimated\").fit()\n",
        "  elif option == 'Additive Dam':\n",
        "    fit = ExponentialSmoothing(\n",
        "    data,\n",
        "    seasonal_periods      = vsele,\n",
        "    trend                 = \"add\",\n",
        "    seasonal              = \"add\",\n",
        "    damped_trend          = True,\n",
        "    use_boxcox            = True,\n",
        "    initialization_method = \"estimated\").fit()\n",
        "  elif option == 'Multiplicative Dam':\n",
        "    fit = ExponentialSmoothing(\n",
        "    data,\n",
        "    seasonal_periods      = vsele,\n",
        "    trend                 = \"add\",\n",
        "    seasonal              = \"mul\",\n",
        "    damped_trend          = True,\n",
        "    use_boxcox            = True,\n",
        "    initialization_method = \"estimated\").fit()\n",
        "  return fit.forecast(vsele)"
      ]
    },
    {
      "cell_type": "markdown",
      "metadata": {
        "id": "SDCxtBbC8wtr"
      },
      "source": [
        "### Utilities"
      ]
    },
    {
      "cell_type": "code",
      "execution_count": 18,
      "metadata": {
        "id": "oa_qq8mqZdG_"
      },
      "outputs": [],
      "source": [
        "## Function that given a datetime, returns its position in the series.\n",
        "def get_index_day(df,day,month,year):\n",
        "    df_i = df.reset_index()  ## Integer indices are added.\n",
        "    idxo = df_i[(df_i.Date.dt.day == day) & (df_i.Date.dt.month==month) & (df_i.Date.dt.year==year)].iloc[ 0]\n",
        "    idxf = df_i[(df_i.Date.dt.day == day) & (df_i.Date.dt.month==month) & (df_i.Date.dt.year==year)].iloc[-1]\n",
        "    return(idxo.name, idxf.name)"
      ]
    },
    {
      "cell_type": "code",
      "execution_count": 19,
      "metadata": {
        "id": "Jmt7XJ38Onr6"
      },
      "outputs": [],
      "source": [
        "def get_day_from_index(df, indices, forecast):\n",
        "    \"\"\"\n",
        "    Parameters\n",
        "    ----------\n",
        "    df : DataFrame\n",
        "        Original dataframe of the timeseries\n",
        "    indices : array\n",
        "        Array of indices\n",
        "    \n",
        "    Returns\n",
        "    -------\n",
        "    DataFrame\n",
        "        A DataFrame of dates\n",
        "    \"\"\"\n",
        "    df_i = df.reset_index()  ## Integer indices are added.\n",
        "    sel_date = df_i.iloc[indices].Date\n",
        "    t = pd.concat([sel_date.reset_index(), pd.Series(forecast)], axis=1)\n",
        "    t = t.rename(columns={0 : 'value'})\n",
        "    return(t)"
      ]
    },
    {
      "cell_type": "markdown",
      "metadata": {
        "id": "HzBO6YghZoin"
      },
      "source": [
        "# Prepare cross-validation for testing\n",
        "\n",
        "We will use the methodology proposed by Rob J Hyndman [cross-validation in time series](https://robjhyndman.com/hyndsight/tscv/#:~:text=Time%20series%20cross%2Dvalidation,used%20in%20constructing%20the%20forecast.\n",
        "), that is a training dataset of four months followed by a testing dataset of the next month.\n"
      ]
    },
    {
      "cell_type": "code",
      "execution_count": 20,
      "metadata": {
        "colab": {
          "base_uri": "https://localhost:8080/"
        },
        "id": "MLECRwaNNpt0",
        "outputId": "bb3d3403-644f-4075-f04c-b20c415af188"
      },
      "outputs": [
        {
          "output_type": "execute_result",
          "data": {
            "text/plain": [
              "Int64Index([     0,   8928,  16992,  25920,  34560,  43488,  52128,  61056,\n",
              "             69984,  78624,  87552,  96192, 105120, 114048, 122112, 131040,\n",
              "            139680, 148608, 157248, 166176, 175104, 183744, 192672],\n",
              "           dtype='int64')"
            ]
          },
          "metadata": {},
          "execution_count": 20
        }
      ],
      "source": [
        "## https://robjhyndman.com/hyndsight/tscv/#:~:text=Time%20series%20cross%2Dvalidation,used%20in%20constructing%20the%20forecast.\n",
        "## ... year 2010                                                                                                    year 2011\n",
        "## ... january···february···march···april···may···june···july···august···september···october···november···december···january···february···march···april···may···june···july···august···september···october···november\n",
        "##    |                                   |      |\n",
        "##    |<------------- train ------------->|<test>|\n",
        "##    |<-january·february···march···april->|<may>|\n",
        "##            |<-february···march···april···may->|<june>|\n",
        "##                      |<- march···april···may···june ->|<-july->|\n",
        "##                              |<- april···may···june···july->|<-august->|\n",
        "##                                     |<-- may···june···july···august->|<-september->|\n",
        "##                                             |<-june···july···august···september->|<-october->|\n",
        "##                                                    |<-july···august···september···october->|<-november->|\n",
        "##                                                           |<-august···september···october···november->|<-december->| ...\n",
        "\n",
        "df_5_month = df_5.copy()\n",
        "df_5_month.reset_index(inplace=True)\n",
        "# https://stackoverflow.com/a/25149272\n",
        "df_5_month['month'] = df_5_month['Date'].dt.month\n",
        "df_5_month['year' ] = df_5_month['Date'].dt.year\n",
        "df_5_month = df_5_month.drop_duplicates(['month', 'year'])\n",
        "df_5_month.index"
      ]
    },
    {
      "cell_type": "code",
      "execution_count": 21,
      "metadata": {
        "id": "uJt75hF6PILw"
      },
      "outputs": [],
      "source": [
        "## Get the positions\n",
        "#  to : training initial position\n",
        "#  tt : testing initial position\n",
        "#  tf : time series final position\n",
        "# month_i = df_5_month.index\n",
        "# r = range(len(month_i) - 5)\n",
        "# tuplas = []\n",
        "# for i in r:\n",
        "#   tuplas.append((\n",
        "#     # 1 ene       30 abril            31 may\n",
        "#     month_i[i], month_i[i + 4] - 1, month_i[i + 5] - 1\n",
        "#   ))\n",
        "# tuplas.append((157248, 192671, 200638))\n",
        "# tuplas"
      ]
    },
    {
      "cell_type": "markdown",
      "metadata": {
        "id": "MRCcdDX3Zbzc"
      },
      "source": [
        "## Public holidays"
      ]
    },
    {
      "cell_type": "code",
      "execution_count": 22,
      "metadata": {
        "colab": {
          "base_uri": "https://localhost:8080/"
        },
        "id": "vpS7uXX2Y6ZZ",
        "outputId": "1fc51b22-9a95-4755-f402-643b638452bd"
      },
      "outputs": [
        {
          "output_type": "stream",
          "name": "stdout",
          "text": [
            "(37152, 37439)\n",
            "(142272, 142559)\n",
            "(102816, 103103)\n",
            "(104832, 105119)\n",
            "(105120, 105407)\n"
          ]
        }
      ],
      "source": [
        "serie='SERIE1'\n",
        "print(get_index_day(df_5[serie],10,5,2010))   ## mothers day 2010\n",
        "print(get_index_day(df_5[serie],10,5,2011))   ## mothers day 2011\n",
        "print(get_index_day(df_5[serie],24,12,2010))  ## christmas 2010\n",
        "print(get_index_day(df_5[serie],31,12,2010))  ## new year 2011\n",
        "print(get_index_day(df_5[serie],1,1,2011))    ## new year 2011"
      ]
    },
    {
      "cell_type": "markdown",
      "metadata": {
        "id": "N-uqPyHPnFof"
      },
      "source": [
        "# Parameter and series selection"
      ]
    },
    {
      "cell_type": "code",
      "execution_count": 23,
      "metadata": {
        "colab": {
          "base_uri": "https://localhost:8080/",
          "height": 0
        },
        "id": "iOJ9pmphcnqV",
        "outputId": "9751a21a-d9c8-4e5e-8deb-bffac2787a10"
      },
      "outputs": [
        {
          "output_type": "display_data",
          "data": {
            "text/plain": [
              "<Figure size 1440x288 with 1 Axes>"
            ],
            "image/png": "[encoded data removed]"
          },
          "metadata": {}
        }
      ],
      "source": [
        "serie4 = df_5.SERIE4\n",
        "plt.figure(figsize=(20, 4))\n",
        "serie4.plot()\n",
        "plt.show()"
      ]
    },
    {
      "cell_type": "code",
      "source": [
        "df_serie4 = serie4.reset_index()\n",
        "df_serie4.columns = ['date', 'value']\n",
        "df_serie4"
      ],
      "metadata": {
        "id": "yvKdtUN6kNd7",
        "outputId": "e9287c9b-278a-4ce7-e7f8-365664ccdbdd",
        "colab": {
          "base_uri": "https://localhost:8080/",
          "height": 0
        }
      },
      "execution_count": 24,
      "outputs": [
        {
          "output_type": "execute_result",
          "data": {
            "text/plain": [
              "                      date        value\n",
              "0      2010-01-01 00:00:00  1355.909058\n",
              "1      2010-01-01 00:05:00  1353.716626\n",
              "2      2010-01-01 00:10:00  1346.924121\n",
              "3      2010-01-01 00:15:00  1346.241382\n",
              "4      2010-01-01 00:20:00  1334.846802\n",
              "...                    ...          ...\n",
              "200634 2011-11-28 15:30:00  1824.311914\n",
              "200635 2011-11-28 15:35:00  1832.722339\n",
              "200636 2011-11-28 15:40:00  1830.256812\n",
              "200637 2011-11-28 15:45:00  1824.559302\n",
              "200638 2011-11-28 15:50:00  1825.849854\n",
              "\n",
              "[200639 rows x 2 columns]"
            ],
            "text/html": [
              "\n",
              "  <div id=\"df-3a92535e-950f-43d9-acbd-8e65e44259f5\">\n",
              "    <div class=\"colab-df-container\">\n",
              "      <div>\n",
              "<style scoped>\n",
              "    .dataframe tbody tr th:only-of-type {\n",
              "        vertical-align: middle;\n",
              "    }\n",
              "\n",
              "    .dataframe tbody tr th {\n",
              "        vertical-align: top;\n",
              "    }\n",
              "\n",
              "    .dataframe thead th {\n",
              "        text-align: right;\n",
              "    }\n",
              "</style>\n",
              "<table border=\"1\" class=\"dataframe\">\n",
              "  <thead>\n",
              "    <tr style=\"text-align: right;\">\n",
              "      <th></th>\n",
              "      <th>date</th>\n",
              "      <th>value</th>\n",
              "    </tr>\n",
              "  </thead>\n",
              "  <tbody>\n",
              "    <tr>\n",
              "      <th>0</th>\n",
              "      <td>2010-01-01 00:00:00</td>\n",
              "      <td>1355.909058</td>\n",
              "    </tr>\n",
              "    <tr>\n",
              "      <th>1</th>\n",
              "      <td>2010-01-01 00:05:00</td>\n",
              "      <td>1353.716626</td>\n",
              "    </tr>\n",
              "    <tr>\n",
              "      <th>2</th>\n",
              "      <td>2010-01-01 00:10:00</td>\n",
              "      <td>1346.924121</td>\n",
              "    </tr>\n",
              "    <tr>\n",
              "      <th>3</th>\n",
              "      <td>2010-01-01 00:15:00</td>\n",
              "      <td>1346.241382</td>\n",
              "    </tr>\n",
              "    <tr>\n",
              "      <th>4</th>\n",
              "      <td>2010-01-01 00:20:00</td>\n",
              "      <td>1334.846802</td>\n",
              "    </tr>\n",
              "    <tr>\n",
              "      <th>...</th>\n",
              "      <td>...</td>\n",
              "      <td>...</td>\n",
              "    </tr>\n",
              "    <tr>\n",
              "      <th>200634</th>\n",
              "      <td>2011-11-28 15:30:00</td>\n",
              "      <td>1824.311914</td>\n",
              "    </tr>\n",
              "    <tr>\n",
              "      <th>200635</th>\n",
              "      <td>2011-11-28 15:35:00</td>\n",
              "      <td>1832.722339</td>\n",
              "    </tr>\n",
              "    <tr>\n",
              "      <th>200636</th>\n",
              "      <td>2011-11-28 15:40:00</td>\n",
              "      <td>1830.256812</td>\n",
              "    </tr>\n",
              "    <tr>\n",
              "      <th>200637</th>\n",
              "      <td>2011-11-28 15:45:00</td>\n",
              "      <td>1824.559302</td>\n",
              "    </tr>\n",
              "    <tr>\n",
              "      <th>200638</th>\n",
              "      <td>2011-11-28 15:50:00</td>\n",
              "      <td>1825.849854</td>\n",
              "    </tr>\n",
              "  </tbody>\n",
              "</table>\n",
              "<p>200639 rows × 2 columns</p>\n",
              "</div>\n",
              "      <button class=\"colab-df-convert\" onclick=\"convertToInteractive('df-3a92535e-950f-43d9-acbd-8e65e44259f5')\"\n",
              "              title=\"Convert this dataframe to an interactive table.\"\n",
              "              style=\"display:none;\">\n",
              "        \n",
              "  <svg xmlns=\"http://www.w3.org/2000/svg\" height=\"24px\"viewBox=\"0 0 24 24\"\n",
              "       width=\"24px\">\n",
              "    <path d=\"M0 0h24v24H0V0z\" fill=\"none\"/>\n",
              "    <path d=\"M18.56 5.44l.94 2.06.94-2.06 2.06-.94-2.06-.94-.94-2.06-.94 2.06-2.06.94zm-11 1L8.5 8.5l.94-2.06 2.06-.94-2.06-.94L8.5 2.5l-.94 2.06-2.06.94zm10 10l.94 2.06.94-2.06 2.06-.94-2.06-.94-.94-2.06-.94 2.06-2.06.94z\"/><path d=\"M17.41 7.96l-1.37-1.37c-.4-.4-.92-.59-1.43-.59-.52 0-1.04.2-1.43.59L10.3 9.45l-7.72 7.72c-.78.78-.78 2.05 0 2.83L4 21.41c.39.39.9.59 1.41.59.51 0 1.02-.2 1.41-.59l7.78-7.78 2.81-2.81c.8-.78.8-2.07 0-2.86zM5.41 20L4 18.59l7.72-7.72 1.47 1.35L5.41 20z\"/>\n",
              "  </svg>\n",
              "      </button>\n",
              "      \n",
              "  <style>\n",
              "    .colab-df-container {\n",
              "      display:flex;\n",
              "      flex-wrap:wrap;\n",
              "      gap: 12px;\n",
              "    }\n",
              "\n",
              "    .colab-df-convert {\n",
              "      background-color: #E8F0FE;\n",
              "      border: none;\n",
              "      border-radius: 50%;\n",
              "      cursor: pointer;\n",
              "      display: none;\n",
              "      fill: #1967D2;\n",
              "      height: 32px;\n",
              "      padding: 0 0 0 0;\n",
              "      width: 32px;\n",
              "    }\n",
              "\n",
              "    .colab-df-convert:hover {\n",
              "      background-color: #E2EBFA;\n",
              "      box-shadow: 0px 1px 2px rgba(60, 64, 67, 0.3), 0px 1px 3px 1px rgba(60, 64, 67, 0.15);\n",
              "      fill: #174EA6;\n",
              "    }\n",
              "\n",
              "    [theme=dark] .colab-df-convert {\n",
              "      background-color: #3B4455;\n",
              "      fill: #D2E3FC;\n",
              "    }\n",
              "\n",
              "    [theme=dark] .colab-df-convert:hover {\n",
              "      background-color: #434B5C;\n",
              "      box-shadow: 0px 1px 3px 1px rgba(0, 0, 0, 0.15);\n",
              "      filter: drop-shadow(0px 1px 2px rgba(0, 0, 0, 0.3));\n",
              "      fill: #FFFFFF;\n",
              "    }\n",
              "  </style>\n",
              "\n",
              "      <script>\n",
              "        const buttonEl =\n",
              "          document.querySelector('#df-3a92535e-950f-43d9-acbd-8e65e44259f5 button.colab-df-convert');\n",
              "        buttonEl.style.display =\n",
              "          google.colab.kernel.accessAllowed ? 'block' : 'none';\n",
              "\n",
              "        async function convertToInteractive(key) {\n",
              "          const element = document.querySelector('#df-3a92535e-950f-43d9-acbd-8e65e44259f5');\n",
              "          const dataTable =\n",
              "            await google.colab.kernel.invokeFunction('convertToInteractive',\n",
              "                                                     [key], {});\n",
              "          if (!dataTable) return;\n",
              "\n",
              "          const docLinkHtml = 'Like what you see? Visit the ' +\n",
              "            '<a target=\"_blank\" href=https://colab.research.google.com/notebooks/data_table.ipynb>data table notebook</a>'\n",
              "            + ' to learn more about interactive tables.';\n",
              "          element.innerHTML = '';\n",
              "          dataTable['output_type'] = 'display_data';\n",
              "          await google.colab.output.renderOutput(dataTable, element);\n",
              "          const docLink = document.createElement('div');\n",
              "          docLink.innerHTML = docLinkHtml;\n",
              "          element.appendChild(docLink);\n",
              "        }\n",
              "      </script>\n",
              "    </div>\n",
              "  </div>\n",
              "  "
            ]
          },
          "metadata": {},
          "execution_count": 24
        }
      ]
    },
    {
      "cell_type": "code",
      "execution_count": 25,
      "metadata": {
        "id": "Zr1AeOKRFgwo"
      },
      "outputs": [],
      "source": [
        "## ene2010... time serie·time-serie·time-serie·time-serie·time-serie·time-serie·time-serie·time-serie·time-serie·time-serie·nov2011\n",
        "##                |                                               |       |           |\n",
        "##                |                                               |<-n_p->|           |\n",
        "##                |<------------------ train -------------------->|<-------test------>|\n",
        "##                to                                              tt   ...j=0...      tf \n",
        "\n",
        "n_p       = 30         ## Number of periods per step (Two and half hour)\n",
        "vsele     = 288        ## Number of periods in a window (a day)\n",
        "namefile  = 'forecast'\n",
        "monthyear = 'jun2010'\n",
        "\n",
        "##  21 Junio 2010       - 21 Septiembre 2010   Verano\n",
        "##  21 Septiembre 2010  - 21 Diciembre 2010    Otoño\n",
        "##  21 Diciembre 2011   - 21 Marzo 2011        Invierno\n",
        "##  21 Marzo 2011       - 21 Junio 2011        Primavera"
      ]
    },
    {
      "cell_type": "code",
      "source": [
        "df_serie4_summer = df_serie4[(df_serie4.date >='2010-06-21')&(df_serie4.date <'2010-09-21')]"
      ],
      "metadata": {
        "id": "RWBOYubUvbLz"
      },
      "execution_count": 26,
      "outputs": []
    },
    {
      "cell_type": "code",
      "source": [
        "# Each season\n",
        "df_serie4_summer = df_serie4[(df_serie4.date >='2010-06-21')&(df_serie4.date <'2010-09-21')]\n",
        "df_serie4_autum  = df_serie4[(df_serie4.date >='2010-09-21')&(df_serie4.date <'2010-12-21')]\n",
        "df_serie4_winter = df_serie4[(df_serie4.date >='2010-12-21')&(df_serie4.date <'2011-03-21')]\n",
        "df_serie4_spring = df_serie4[(df_serie4.date >='2011-03-21')&(df_serie4.date <'2011-06-21')]"
      ],
      "metadata": {
        "id": "4xfmCZ6sbPBE"
      },
      "execution_count": 27,
      "outputs": []
    },
    {
      "cell_type": "markdown",
      "source": [
        "## Unit test per season"
      ],
      "metadata": {
        "id": "XSM3A8EgtIbK"
      }
    },
    {
      "cell_type": "code",
      "source": [
        "df_serie4_summer"
      ],
      "metadata": {
        "id": "fODm_4FKozqF",
        "outputId": "d211f42b-9043-4acc-be86-655ededf9cb1",
        "colab": {
          "base_uri": "https://localhost:8080/",
          "height": 0
        }
      },
      "execution_count": 28,
      "outputs": [
        {
          "output_type": "execute_result",
          "data": {
            "text/plain": [
              "                     date        value\n",
              "49248 2010-06-21 00:00:00  2830.813281\n",
              "49249 2010-06-21 00:05:00  2827.722998\n",
              "49250 2010-06-21 00:10:00  2829.968164\n",
              "49251 2010-06-21 00:15:00  2830.823340\n",
              "49252 2010-06-21 00:20:00  2830.045606\n",
              "...                   ...          ...\n",
              "75739 2010-09-20 23:35:00  3033.962793\n",
              "75740 2010-09-20 23:40:00  3024.287891\n",
              "75741 2010-09-20 23:45:00  3021.757666\n",
              "75742 2010-09-20 23:50:00  3011.382813\n",
              "75743 2010-09-20 23:55:00  3004.979736\n",
              "\n",
              "[26496 rows x 2 columns]"
            ],
            "text/html": [
              "\n",
              "  <div id=\"df-6e01d9e8-7ff6-46e2-ba73-655a77930acc\">\n",
              "    <div class=\"colab-df-container\">\n",
              "      <div>\n",
              "<style scoped>\n",
              "    .dataframe tbody tr th:only-of-type {\n",
              "        vertical-align: middle;\n",
              "    }\n",
              "\n",
              "    .dataframe tbody tr th {\n",
              "        vertical-align: top;\n",
              "    }\n",
              "\n",
              "    .dataframe thead th {\n",
              "        text-align: right;\n",
              "    }\n",
              "</style>\n",
              "<table border=\"1\" class=\"dataframe\">\n",
              "  <thead>\n",
              "    <tr style=\"text-align: right;\">\n",
              "      <th></th>\n",
              "      <th>date</th>\n",
              "      <th>value</th>\n",
              "    </tr>\n",
              "  </thead>\n",
              "  <tbody>\n",
              "    <tr>\n",
              "      <th>49248</th>\n",
              "      <td>2010-06-21 00:00:00</td>\n",
              "      <td>2830.813281</td>\n",
              "    </tr>\n",
              "    <tr>\n",
              "      <th>49249</th>\n",
              "      <td>2010-06-21 00:05:00</td>\n",
              "      <td>2827.722998</td>\n",
              "    </tr>\n",
              "    <tr>\n",
              "      <th>49250</th>\n",
              "      <td>2010-06-21 00:10:00</td>\n",
              "      <td>2829.968164</td>\n",
              "    </tr>\n",
              "    <tr>\n",
              "      <th>49251</th>\n",
              "      <td>2010-06-21 00:15:00</td>\n",
              "      <td>2830.823340</td>\n",
              "    </tr>\n",
              "    <tr>\n",
              "      <th>49252</th>\n",
              "      <td>2010-06-21 00:20:00</td>\n",
              "      <td>2830.045606</td>\n",
              "    </tr>\n",
              "    <tr>\n",
              "      <th>...</th>\n",
              "      <td>...</td>\n",
              "      <td>...</td>\n",
              "    </tr>\n",
              "    <tr>\n",
              "      <th>75739</th>\n",
              "      <td>2010-09-20 23:35:00</td>\n",
              "      <td>3033.962793</td>\n",
              "    </tr>\n",
              "    <tr>\n",
              "      <th>75740</th>\n",
              "      <td>2010-09-20 23:40:00</td>\n",
              "      <td>3024.287891</td>\n",
              "    </tr>\n",
              "    <tr>\n",
              "      <th>75741</th>\n",
              "      <td>2010-09-20 23:45:00</td>\n",
              "      <td>3021.757666</td>\n",
              "    </tr>\n",
              "    <tr>\n",
              "      <th>75742</th>\n",
              "      <td>2010-09-20 23:50:00</td>\n",
              "      <td>3011.382813</td>\n",
              "    </tr>\n",
              "    <tr>\n",
              "      <th>75743</th>\n",
              "      <td>2010-09-20 23:55:00</td>\n",
              "      <td>3004.979736</td>\n",
              "    </tr>\n",
              "  </tbody>\n",
              "</table>\n",
              "<p>26496 rows × 2 columns</p>\n",
              "</div>\n",
              "      <button class=\"colab-df-convert\" onclick=\"convertToInteractive('df-6e01d9e8-7ff6-46e2-ba73-655a77930acc')\"\n",
              "              title=\"Convert this dataframe to an interactive table.\"\n",
              "              style=\"display:none;\">\n",
              "        \n",
              "  <svg xmlns=\"http://www.w3.org/2000/svg\" height=\"24px\"viewBox=\"0 0 24 24\"\n",
              "       width=\"24px\">\n",
              "    <path d=\"M0 0h24v24H0V0z\" fill=\"none\"/>\n",
              "    <path d=\"M18.56 5.44l.94 2.06.94-2.06 2.06-.94-2.06-.94-.94-2.06-.94 2.06-2.06.94zm-11 1L8.5 8.5l.94-2.06 2.06-.94-2.06-.94L8.5 2.5l-.94 2.06-2.06.94zm10 10l.94 2.06.94-2.06 2.06-.94-2.06-.94-.94-2.06-.94 2.06-2.06.94z\"/><path d=\"M17.41 7.96l-1.37-1.37c-.4-.4-.92-.59-1.43-.59-.52 0-1.04.2-1.43.59L10.3 9.45l-7.72 7.72c-.78.78-.78 2.05 0 2.83L4 21.41c.39.39.9.59 1.41.59.51 0 1.02-.2 1.41-.59l7.78-7.78 2.81-2.81c.8-.78.8-2.07 0-2.86zM5.41 20L4 18.59l7.72-7.72 1.47 1.35L5.41 20z\"/>\n",
              "  </svg>\n",
              "      </button>\n",
              "      \n",
              "  <style>\n",
              "    .colab-df-container {\n",
              "      display:flex;\n",
              "      flex-wrap:wrap;\n",
              "      gap: 12px;\n",
              "    }\n",
              "\n",
              "    .colab-df-convert {\n",
              "      background-color: #E8F0FE;\n",
              "      border: none;\n",
              "      border-radius: 50%;\n",
              "      cursor: pointer;\n",
              "      display: none;\n",
              "      fill: #1967D2;\n",
              "      height: 32px;\n",
              "      padding: 0 0 0 0;\n",
              "      width: 32px;\n",
              "    }\n",
              "\n",
              "    .colab-df-convert:hover {\n",
              "      background-color: #E2EBFA;\n",
              "      box-shadow: 0px 1px 2px rgba(60, 64, 67, 0.3), 0px 1px 3px 1px rgba(60, 64, 67, 0.15);\n",
              "      fill: #174EA6;\n",
              "    }\n",
              "\n",
              "    [theme=dark] .colab-df-convert {\n",
              "      background-color: #3B4455;\n",
              "      fill: #D2E3FC;\n",
              "    }\n",
              "\n",
              "    [theme=dark] .colab-df-convert:hover {\n",
              "      background-color: #434B5C;\n",
              "      box-shadow: 0px 1px 3px 1px rgba(0, 0, 0, 0.15);\n",
              "      filter: drop-shadow(0px 1px 2px rgba(0, 0, 0, 0.3));\n",
              "      fill: #FFFFFF;\n",
              "    }\n",
              "  </style>\n",
              "\n",
              "      <script>\n",
              "        const buttonEl =\n",
              "          document.querySelector('#df-6e01d9e8-7ff6-46e2-ba73-655a77930acc button.colab-df-convert');\n",
              "        buttonEl.style.display =\n",
              "          google.colab.kernel.accessAllowed ? 'block' : 'none';\n",
              "\n",
              "        async function convertToInteractive(key) {\n",
              "          const element = document.querySelector('#df-6e01d9e8-7ff6-46e2-ba73-655a77930acc');\n",
              "          const dataTable =\n",
              "            await google.colab.kernel.invokeFunction('convertToInteractive',\n",
              "                                                     [key], {});\n",
              "          if (!dataTable) return;\n",
              "\n",
              "          const docLinkHtml = 'Like what you see? Visit the ' +\n",
              "            '<a target=\"_blank\" href=https://colab.research.google.com/notebooks/data_table.ipynb>data table notebook</a>'\n",
              "            + ' to learn more about interactive tables.';\n",
              "          element.innerHTML = '';\n",
              "          dataTable['output_type'] = 'display_data';\n",
              "          await google.colab.output.renderOutput(dataTable, element);\n",
              "          const docLink = document.createElement('div');\n",
              "          docLink.innerHTML = docLinkHtml;\n",
              "          element.appendChild(docLink);\n",
              "        }\n",
              "      </script>\n",
              "    </div>\n",
              "  </div>\n",
              "  "
            ]
          },
          "metadata": {},
          "execution_count": 28
        }
      ]
    },
    {
      "cell_type": "code",
      "source": [
        "plt.figure()\n",
        "plt.plot(df_serie4_summer.date, df_serie4_summer.value, label = 'Summer')\n",
        "plt.plot(df_serie4_autum.date, df_serie4_autum.value, label = 'Autum')\n",
        "plt.plot(df_serie4_winter.date, df_serie4_winter.value, label = 'Winter')\n",
        "plt.plot(df_serie4_spring.date, df_serie4_spring.value, label = 'Spring')\n",
        "plt.xticks(rotation = 90)\n",
        "plt.legend()\n",
        "plt.show()"
      ],
      "metadata": {
        "id": "mqDoLp1qc2Yb",
        "outputId": "80fe5ad2-dfd5-4879-cad4-e11f2d86fefc",
        "colab": {
          "base_uri": "https://localhost:8080/",
          "height": 0
        }
      },
      "execution_count": 29,
      "outputs": [
        {
          "output_type": "display_data",
          "data": {
            "text/plain": [
              "<Figure size 432x288 with 1 Axes>"
            ],
            "image/png": "[encoded data removed]"
          },
          "metadata": {}
        }
      ]
    },
    {
      "cell_type": "code",
      "source": [
        "# Data selection for season; i.e. summer\n",
        "indices = df_serie4_summer.date - pd.DateOffset(months=4) # select indices\n",
        "df_serie4_summer_data = df_serie4[\n",
        "  (df_serie4.date >= indices.values[0]) & (df_serie4.index < df_serie4_summer.index[0])\n",
        "]\n",
        "df_serie4_summer_data # train"
      ],
      "metadata": {
        "id": "M3SjpB_8iPuO",
        "outputId": "6b0cd29e-da48-4806-fa77-85dd72170b4b",
        "colab": {
          "base_uri": "https://localhost:8080/",
          "height": 0
        }
      },
      "execution_count": 30,
      "outputs": [
        {
          "output_type": "execute_result",
          "data": {
            "text/plain": [
              "                     date        value\n",
              "14688 2010-02-21 00:00:00  1391.671289\n",
              "14689 2010-02-21 00:05:00  1372.883789\n",
              "14690 2010-02-21 00:10:00  1364.407349\n",
              "14691 2010-02-21 00:15:00  1353.405566\n",
              "14692 2010-02-21 00:20:00  1342.204419\n",
              "...                   ...          ...\n",
              "49243 2010-06-20 23:35:00  2799.613428\n",
              "49244 2010-06-20 23:40:00  2810.940430\n",
              "49245 2010-06-20 23:45:00  2817.902002\n",
              "49246 2010-06-20 23:50:00  2828.313135\n",
              "49247 2010-06-20 23:55:00  2828.664111\n",
              "\n",
              "[34560 rows x 2 columns]"
            ],
            "text/html": [
              "\n",
              "  <div id=\"df-0b77b09d-08ac-478b-acd9-9ba75d4e3dca\">\n",
              "    <div class=\"colab-df-container\">\n",
              "      <div>\n",
              "<style scoped>\n",
              "    .dataframe tbody tr th:only-of-type {\n",
              "        vertical-align: middle;\n",
              "    }\n",
              "\n",
              "    .dataframe tbody tr th {\n",
              "        vertical-align: top;\n",
              "    }\n",
              "\n",
              "    .dataframe thead th {\n",
              "        text-align: right;\n",
              "    }\n",
              "</style>\n",
              "<table border=\"1\" class=\"dataframe\">\n",
              "  <thead>\n",
              "    <tr style=\"text-align: right;\">\n",
              "      <th></th>\n",
              "      <th>date</th>\n",
              "      <th>value</th>\n",
              "    </tr>\n",
              "  </thead>\n",
              "  <tbody>\n",
              "    <tr>\n",
              "      <th>14688</th>\n",
              "      <td>2010-02-21 00:00:00</td>\n",
              "      <td>1391.671289</td>\n",
              "    </tr>\n",
              "    <tr>\n",
              "      <th>14689</th>\n",
              "      <td>2010-02-21 00:05:00</td>\n",
              "      <td>1372.883789</td>\n",
              "    </tr>\n",
              "    <tr>\n",
              "      <th>14690</th>\n",
              "      <td>2010-02-21 00:10:00</td>\n",
              "      <td>1364.407349</td>\n",
              "    </tr>\n",
              "    <tr>\n",
              "      <th>14691</th>\n",
              "      <td>2010-02-21 00:15:00</td>\n",
              "      <td>1353.405566</td>\n",
              "    </tr>\n",
              "    <tr>\n",
              "      <th>14692</th>\n",
              "      <td>2010-02-21 00:20:00</td>\n",
              "      <td>1342.204419</td>\n",
              "    </tr>\n",
              "    <tr>\n",
              "      <th>...</th>\n",
              "      <td>...</td>\n",
              "      <td>...</td>\n",
              "    </tr>\n",
              "    <tr>\n",
              "      <th>49243</th>\n",
              "      <td>2010-06-20 23:35:00</td>\n",
              "      <td>2799.613428</td>\n",
              "    </tr>\n",
              "    <tr>\n",
              "      <th>49244</th>\n",
              "      <td>2010-06-20 23:40:00</td>\n",
              "      <td>2810.940430</td>\n",
              "    </tr>\n",
              "    <tr>\n",
              "      <th>49245</th>\n",
              "      <td>2010-06-20 23:45:00</td>\n",
              "      <td>2817.902002</td>\n",
              "    </tr>\n",
              "    <tr>\n",
              "      <th>49246</th>\n",
              "      <td>2010-06-20 23:50:00</td>\n",
              "      <td>2828.313135</td>\n",
              "    </tr>\n",
              "    <tr>\n",
              "      <th>49247</th>\n",
              "      <td>2010-06-20 23:55:00</td>\n",
              "      <td>2828.664111</td>\n",
              "    </tr>\n",
              "  </tbody>\n",
              "</table>\n",
              "<p>34560 rows × 2 columns</p>\n",
              "</div>\n",
              "      <button class=\"colab-df-convert\" onclick=\"convertToInteractive('df-0b77b09d-08ac-478b-acd9-9ba75d4e3dca')\"\n",
              "              title=\"Convert this dataframe to an interactive table.\"\n",
              "              style=\"display:none;\">\n",
              "        \n",
              "  <svg xmlns=\"http://www.w3.org/2000/svg\" height=\"24px\"viewBox=\"0 0 24 24\"\n",
              "       width=\"24px\">\n",
              "    <path d=\"M0 0h24v24H0V0z\" fill=\"none\"/>\n",
              "    <path d=\"M18.56 5.44l.94 2.06.94-2.06 2.06-.94-2.06-.94-.94-2.06-.94 2.06-2.06.94zm-11 1L8.5 8.5l.94-2.06 2.06-.94-2.06-.94L8.5 2.5l-.94 2.06-2.06.94zm10 10l.94 2.06.94-2.06 2.06-.94-2.06-.94-.94-2.06-.94 2.06-2.06.94z\"/><path d=\"M17.41 7.96l-1.37-1.37c-.4-.4-.92-.59-1.43-.59-.52 0-1.04.2-1.43.59L10.3 9.45l-7.72 7.72c-.78.78-.78 2.05 0 2.83L4 21.41c.39.39.9.59 1.41.59.51 0 1.02-.2 1.41-.59l7.78-7.78 2.81-2.81c.8-.78.8-2.07 0-2.86zM5.41 20L4 18.59l7.72-7.72 1.47 1.35L5.41 20z\"/>\n",
              "  </svg>\n",
              "      </button>\n",
              "      \n",
              "  <style>\n",
              "    .colab-df-container {\n",
              "      display:flex;\n",
              "      flex-wrap:wrap;\n",
              "      gap: 12px;\n",
              "    }\n",
              "\n",
              "    .colab-df-convert {\n",
              "      background-color: #E8F0FE;\n",
              "      border: none;\n",
              "      border-radius: 50%;\n",
              "      cursor: pointer;\n",
              "      display: none;\n",
              "      fill: #1967D2;\n",
              "      height: 32px;\n",
              "      padding: 0 0 0 0;\n",
              "      width: 32px;\n",
              "    }\n",
              "\n",
              "    .colab-df-convert:hover {\n",
              "      background-color: #E2EBFA;\n",
              "      box-shadow: 0px 1px 2px rgba(60, 64, 67, 0.3), 0px 1px 3px 1px rgba(60, 64, 67, 0.15);\n",
              "      fill: #174EA6;\n",
              "    }\n",
              "\n",
              "    [theme=dark] .colab-df-convert {\n",
              "      background-color: #3B4455;\n",
              "      fill: #D2E3FC;\n",
              "    }\n",
              "\n",
              "    [theme=dark] .colab-df-convert:hover {\n",
              "      background-color: #434B5C;\n",
              "      box-shadow: 0px 1px 3px 1px rgba(0, 0, 0, 0.15);\n",
              "      filter: drop-shadow(0px 1px 2px rgba(0, 0, 0, 0.3));\n",
              "      fill: #FFFFFF;\n",
              "    }\n",
              "  </style>\n",
              "\n",
              "      <script>\n",
              "        const buttonEl =\n",
              "          document.querySelector('#df-0b77b09d-08ac-478b-acd9-9ba75d4e3dca button.colab-df-convert');\n",
              "        buttonEl.style.display =\n",
              "          google.colab.kernel.accessAllowed ? 'block' : 'none';\n",
              "\n",
              "        async function convertToInteractive(key) {\n",
              "          const element = document.querySelector('#df-0b77b09d-08ac-478b-acd9-9ba75d4e3dca');\n",
              "          const dataTable =\n",
              "            await google.colab.kernel.invokeFunction('convertToInteractive',\n",
              "                                                     [key], {});\n",
              "          if (!dataTable) return;\n",
              "\n",
              "          const docLinkHtml = 'Like what you see? Visit the ' +\n",
              "            '<a target=\"_blank\" href=https://colab.research.google.com/notebooks/data_table.ipynb>data table notebook</a>'\n",
              "            + ' to learn more about interactive tables.';\n",
              "          element.innerHTML = '';\n",
              "          dataTable['output_type'] = 'display_data';\n",
              "          await google.colab.output.renderOutput(dataTable, element);\n",
              "          const docLink = document.createElement('div');\n",
              "          docLink.innerHTML = docLinkHtml;\n",
              "          element.appendChild(docLink);\n",
              "        }\n",
              "      </script>\n",
              "    </div>\n",
              "  </div>\n",
              "  "
            ]
          },
          "metadata": {},
          "execution_count": 30
        }
      ]
    },
    {
      "cell_type": "code",
      "source": [
        "t0 = df_serie4_summer_data.iloc[0] # initial time\n",
        "tt = df_serie4_summer_data.iloc[-1] # time to\n",
        "tf = df_serie4_summer.iloc[-1] # final time"
      ],
      "metadata": {
        "id": "Sq565QxQrdD8"
      },
      "execution_count": 31,
      "outputs": []
    },
    {
      "cell_type": "code",
      "source": [
        "plt.figure()\n",
        "plt.plot(df_serie4_summer_data.date, df_serie4_summer_data.value, label = 'Train')\n",
        "plt.plot(df_serie4_summer.date, df_serie4_summer.value, label = 'Test')\n",
        "plt.xticks(rotation = 90)\n",
        "plt.axvline(x = t0.date, c = 'red')\n",
        "plt.axvline(x = tt.date, c = 'red')\n",
        "plt.axvline(x = tf.date, c = 'red')\n",
        "plt.legend()\n",
        "plt.show()"
      ],
      "metadata": {
        "id": "QQlHwCUMoFQE",
        "outputId": "6ddefba8-1daa-495a-dfb9-4056a50ac444",
        "colab": {
          "base_uri": "https://localhost:8080/",
          "height": 0
        }
      },
      "execution_count": 32,
      "outputs": [
        {
          "output_type": "display_data",
          "data": {
            "text/plain": [
              "<Figure size 432x288 with 1 Axes>"
            ],
            "image/png": "[encoded data removed]"
          },
          "metadata": {}
        }
      ]
    },
    {
      "cell_type": "code",
      "source": [
        "# Access index of t0, etc ╰（‵□′）╯\n",
        "t0.name"
      ],
      "metadata": {
        "id": "GecbdIt5se8W",
        "outputId": "489bba1f-9b76-4bfb-ef0b-4ff7477f3915",
        "colab": {
          "base_uri": "https://localhost:8080/"
        }
      },
      "execution_count": 33,
      "outputs": [
        {
          "output_type": "execute_result",
          "data": {
            "text/plain": [
              "14688"
            ]
          },
          "metadata": {},
          "execution_count": 33
        }
      ]
    },
    {
      "cell_type": "code",
      "source": [
        "def train_test_season(data, d0 = '2010-06-21', df = '2010-09-21', do = 4, verbose = False):\n",
        "  # d0: start date\n",
        "  # df: final date\n",
        "  # d0: offset date in months\n",
        "  # df_r: df result\n",
        "  # t0: start train index\n",
        "  # tt: end train index / start test index\n",
        "  # tf: end test index\n",
        "  df_r = data[(data.date >= d0) & (data.date < df)]\n",
        "  if verbose:\n",
        "    plt.figure()\n",
        "    plt.plot(df_r.date, df_r.value, label = 'df_r')\n",
        "    plt.xticks(rotation = 90)\n",
        "    plt.legend()\n",
        "    plt.show()\n",
        "\n",
        "  # Data selection for range(d0, df)\n",
        "  indices = df_r.date - pd.DateOffset(months = do) # select indices\n",
        "  df_r_data = df_serie4[\n",
        "    (df_serie4.date >= indices.values[0]) & (df_serie4.index < df_r.index[0])\n",
        "  ]\n",
        "  t0 = df_r_data.iloc[0] # initial time\n",
        "  tt = df_r_data.iloc[-1] # time to\n",
        "  tf = df_r.iloc[-1] # final time\n",
        "\n",
        "  if verbose:\n",
        "    plt.figure()\n",
        "    plt.plot(df_r_data.date, df_r_data.value, label = 'Train')\n",
        "    plt.plot(df_r.date, df_r.value, label = 'Test')\n",
        "    plt.xticks(rotation = 90)\n",
        "    plt.axvline(x = t0.date, c = 'red')\n",
        "    plt.axvline(x = tt.date, c = 'red')\n",
        "    plt.axvline(x = tf.date, c = 'red')\n",
        "    plt.legend()\n",
        "    plt.show()\n",
        "  \n",
        "  return (t0, tt, tf)"
      ],
      "metadata": {
        "id": "H2Wj7EVItTXt"
      },
      "execution_count": 34,
      "outputs": []
    },
    {
      "cell_type": "code",
      "source": [
        "t0, tt, tf = train_test_season(df_serie4, d0 = '2010-06-21', df = '2010-09-21', do = 4, verbose = False)\n",
        "#print(t0, tt, tf)\n",
        "print(t0.name, tt.name, tf.name) # indices\n",
        "t0=t0.name\n",
        "tt=tt.name\n",
        "tf=tf.name"
      ],
      "metadata": {
        "id": "_o3of7MNvvd6",
        "outputId": "fd7a4c64-f2a7-49ed-bd9e-3170bcc9506c",
        "colab": {
          "base_uri": "https://localhost:8080/"
        }
      },
      "execution_count": 35,
      "outputs": [
        {
          "output_type": "stream",
          "name": "stdout",
          "text": [
            "14688 49247 75743\n"
          ]
        }
      ]
    },
    {
      "cell_type": "markdown",
      "metadata": {
        "id": "wU0Q58g8Eb-k"
      },
      "source": [
        "# Multi-period forecast metafunction **II**:"
      ]
    },
    {
      "cell_type": "markdown",
      "metadata": {
        "id": "KA8gpzWitiii"
      },
      "source": [
        "## Test series"
      ]
    },
    {
      "cell_type": "code",
      "source": [
        "serie1 = serie4.to_numpy(serie4)\n",
        "serie1"
      ],
      "metadata": {
        "id": "v14OmdADCpQa",
        "outputId": "73765205-3557-40b0-880d-654fe3b4c052",
        "colab": {
          "base_uri": "https://localhost:8080/"
        }
      },
      "execution_count": 39,
      "outputs": [
        {
          "output_type": "execute_result",
          "data": {
            "text/plain": [
              "array([1355.9090576 , 1353.7166262 , 1346.924121  , ..., 1830.2568116 ,\n",
              "       1824.5593018 , 1825.84985367])"
            ]
          },
          "metadata": {},
          "execution_count": 39
        }
      ]
    },
    {
      "cell_type": "code",
      "execution_count": 40,
      "metadata": {
        "id": "A0t1NvnhFgwo"
      },
      "outputs": [],
      "source": [
        "## Prepare the test series (real data)\n",
        "\n",
        "positions_test = [(t0, tt, tf)]"
      ]
    },
    {
      "cell_type": "code",
      "execution_count": 41,
      "metadata": {
        "colab": {
          "base_uri": "https://localhost:8080/",
          "height": 285
        },
        "id": "3YlOMb4TaFdL",
        "outputId": "923d33ce-8a1e-4e24-fcf2-3a1845b0122a"
      },
      "outputs": [
        {
          "output_type": "execute_result",
          "data": {
            "text/plain": [
              "[<matplotlib.lines.Line2D at 0x7f35c0d31c10>]"
            ]
          },
          "metadata": {},
          "execution_count": 41
        },
        {
          "output_type": "display_data",
          "data": {
            "text/plain": [
              "<Figure size 432x288 with 1 Axes>"
            ],
            "image/png": "[encoded data removed]"
          },
          "metadata": {}
        }
      ],
      "source": [
        "## Non-numeric\n",
        "nonumeric=[]\n",
        "j=0\n",
        "aux=100\n",
        "for item in serie1:\n",
        "  if math.isnan(item):\n",
        "    nonumeric.append(j)   \n",
        "    print(j,df_5[serie].index[j],df_5[serie][j])\n",
        "  j=j+1\n",
        "plt.plot(nonumeric)\n",
        "#plt.plot(serie1[131640 -aux:131651 +aux])\n",
        "#print(df_5[serie].index[0])"
      ]
    },
    {
      "cell_type": "markdown",
      "metadata": {
        "id": "rf9usdlhs1kV"
      },
      "source": [
        "## Persistence"
      ]
    },
    {
      "cell_type": "code",
      "execution_count": null,
      "metadata": {
        "id": "JJtjray7Fgwo"
      },
      "outputs": [],
      "source": [
        "## Persistence t+1\n",
        "forecastp_ = []\n",
        "time_      = []\n",
        "for to,tt,tf in positions_test:\n",
        "  j=0\n",
        "  for i in range(tt, tf, 1):\n",
        "    t_o = time.time()\n",
        "    forecastp_=forecastp_+persistence(serie1[to+j:tt+j],1)\n",
        "    time_.append(time.time() - t_o)\n",
        "    j = j + 1"
      ]
    },
    {
      "cell_type": "code",
      "source": [
        "plt.plot(forecastp_)"
      ],
      "metadata": {
        "id": "E9bAOUHvG1hR",
        "outputId": "f39631d5-3e50-44df-edce-f09e2e45b85a",
        "colab": {
          "base_uri": "https://localhost:8080/",
          "height": 285
        }
      },
      "execution_count": null,
      "outputs": [
        {
          "output_type": "execute_result",
          "data": {
            "text/plain": [
              "[<matplotlib.lines.Line2D at 0x7f5ba7605090>]"
            ]
          },
          "metadata": {},
          "execution_count": 41
        },
        {
          "output_type": "display_data",
          "data": {
            "text/plain": [
              "<Figure size 432x288 with 1 Axes>"
            ],
            "image/png": "[encoded data removed]"
          },
          "metadata": {}
        }
      ]
    },
    {
      "cell_type": "markdown",
      "metadata": {
        "id": "7j1BD_shw-6I"
      },
      "source": [
        "## AutoARIMA"
      ]
    },
    {
      "cell_type": "code",
      "execution_count": null,
      "metadata": {
        "id": "I4xK_97Bw-R2"
      },
      "outputs": [],
      "source": [
        "for to,tt,tf in positions_test:\n",
        "  print(df_5.iloc[to].name)\n",
        "\n",
        "timeARIMA_       = []\n",
        "forecastARIMA_   = []\n",
        "forecastX_ARIMA_ = []\n",
        "n_p              = n_p  ## Number of periods per step\n",
        "nfail            = 0\n",
        "\n",
        "# We need to use series with timestamp indices, like the ones contained in df_5.SERIE1\n",
        "for to,tt,tf in positions_test:\n",
        "  j = 0\n",
        "  s = n_p\n",
        "  for i in range(tt,tf,1):\n",
        "    ## Analogue method parameters\n",
        "    vsele   = vsele ## Number of periods in a window\n",
        "    X_train = df_5.SERIE1[\n",
        "      df_5.iloc[to+j].name : df_5.iloc[tt+j].name # from to+j to tt+j in timestamps (.name returns timestamp index)\n",
        "    ]\n",
        "    X_train = X_train[-7 * vsele:-1]\n",
        "    t_o = time.time()\n",
        "    try:\n",
        "      pred_ = sk_autoarima(x = X_train, max_p = 10, max_d = 2, max_q = 10, to_predict = vsele) # sp = 1 -> No estacional\n",
        "    except:\n",
        "      print(\"!!! Error has occurred in the position:\",tt+j)\n",
        "      pred_ = np.array(persistence(X_train, n = vsele))\n",
        "      nfail = nfail + 1\n",
        "    pred_list  = pred_.tolist() \n",
        "    forecastARIMA_ = forecastARIMA_ + pred_list[0:1]\n",
        "    print(j)\n",
        "    \n",
        "    if s == n_p:\n",
        "      pred_list  = pred_.tolist() \n",
        "      forecastX_ARIMA_ = forecastX_ARIMA_ + pred_list[0:n_p]\n",
        "      s = 0\n",
        "    \n",
        "    timeARIMA_.append(time.time() - t_o)\n",
        "    j = j + 1\n",
        "    s = s + 1\n",
        "\n",
        "  modu = (tf - tt) % n_p\n",
        "  if modu != 0:\n",
        "    end = min(len(forecastARIMA_), len(forecastX_ARIMA_))\n",
        "    print('modu', modu)\n",
        "    forecastARIMA_    = forecastARIMA_[0:end]\n",
        "    forecastX_ARIMA_  = forecastX_ARIMA_[0:end]        \n",
        "print('>>>Number of forecasts not calculated:', nfail)"
      ]
    },
    {
      "cell_type": "code",
      "execution_count": null,
      "metadata": {
        "id": "YpuLxsX2OnsB"
      },
      "outputs": [],
      "source": [
        "filter(lambda x: x < 8000, forecastARIMA_)"
      ]
    },
    {
      "cell_type": "code",
      "execution_count": null,
      "metadata": {
        "id": "bqPQjrZ4xA2D"
      },
      "outputs": [],
      "source": [
        "plt.figure()\n",
        "# https://www.geeksforgeeks.org/filter-in-python/\n",
        "plt.plot(list(filter(lambda x: x < 8000, forecastARIMA_)))"
      ]
    },
    {
      "cell_type": "code",
      "execution_count": null,
      "metadata": {
        "id": "mIshG3AgOnsC"
      },
      "outputs": [],
      "source": [
        "plt.hist(timeARIMA_)"
      ]
    },
    {
      "cell_type": "code",
      "execution_count": null,
      "metadata": {
        "id": "Irq7BEUrOnsD"
      },
      "outputs": [],
      "source": [
        "np.savetxt(\"results/data/timeARIMA_.txt\", np.asarray([ timeARIMA_ ]), delimiter=\",\")"
      ]
    },
    {
      "cell_type": "code",
      "execution_count": null,
      "metadata": {
        "id": "g7m4lOUSOnsD"
      },
      "outputs": [],
      "source": [
        "positions_test"
      ]
    },
    {
      "cell_type": "code",
      "execution_count": null,
      "metadata": {
        "id": "ApQ5REFlOnsD"
      },
      "outputs": [],
      "source": [
        "list(range(43487, 43987))"
      ]
    },
    {
      "cell_type": "code",
      "execution_count": null,
      "metadata": {
        "id": "PTbkqz6OOnsE"
      },
      "outputs": [],
      "source": [
        "t = get_day_from_index(df_5[serie], indices= list(range(43487, 43987)), forecast = forecastARIMA_)\n",
        "t"
      ]
    },
    {
      "cell_type": "code",
      "execution_count": null,
      "metadata": {
        "id": "ZrwOsVPxOnsE"
      },
      "outputs": [],
      "source": [
        "t.to_csv(\"results/data/forecastARIMA_.csv\", index = False)"
      ]
    },
    {
      "cell_type": "code",
      "execution_count": null,
      "metadata": {
        "id": "IpqMz7xWOnsE"
      },
      "outputs": [],
      "source": [
        "t = get_day_from_index(df_5[serie], indices= list(range(43487, 43987)), forecast = forecastX_ARIMA_)\n",
        "t.to_csv(\"results/data/forecastX_ARIMA_.csv\", index = False)"
      ]
    },
    {
      "cell_type": "markdown",
      "metadata": {
        "id": "gXLAkrSMictP"
      },
      "source": [
        "## Holt-winters"
      ]
    },
    {
      "cell_type": "code",
      "execution_count": null,
      "metadata": {
        "id": "5xkOwkhWjP0h"
      },
      "outputs": [],
      "source": [
        "timeHWA_       = []\n",
        "forecastHWA_   = []\n",
        "forecastX_HWA_ = []\n",
        "n_p            = n_p  ## Number of periods per step\n",
        "nfail          = 0\n",
        "dias           = 28\n",
        "\n",
        "for to,tt,tf in positions_test:\n",
        "  j = 0\n",
        "  s = n_p\n",
        "  for i in range(tt,tf,1):\n",
        "    vsele = vsele ## Number of periods in a window\n",
        "    X_train = serie1[to+j:tt+j]\n",
        "    X_train = X_train[-dias*vsele:-1] ## funcionó bien con 28 dias atras\n",
        "    t_o = time.time()\n",
        "    try:\n",
        "      pred_ = HoltWinters(X_train,vsele,option='Additive') \n",
        "    except:\n",
        "      print(\"!!! Error has occurred in the position:\",tt+j)\n",
        "      pred_ = np.array(persistence(X_train, n = vsele))\n",
        "      nfail = nfail + 1\n",
        "    pred_list  = pred_.tolist() \n",
        "    forecastHWA_ = forecastHWA_ + pred_list[0:1]\n",
        "    print(j)\n",
        "    \n",
        "    if s == n_p:\n",
        "      pred_list  = pred_.tolist() \n",
        "      forecastX_HWA_ = forecastX_HWA_ + pred_list[0:n_p]\n",
        "      s = 0\n",
        "    \n",
        "    timeHWA_.append(time.time() - t_o)\n",
        "    j = j + 1\n",
        "    s = s + 1\n",
        "\n",
        "  modu = (tf - tt) % n_p \n",
        "  if modu != 0:\n",
        "    end = min(len(forecastHWA_), len(forecastX_HWA_))\n",
        "    print('modu', modu)\n",
        "    forecastHWA_    = forecastHWA_[0:end]\n",
        "    forecastX_HWA_  = forecastX_HWA_[0:end]        \n",
        "print('>>>Number of forecasts not calculated:', nfail)"
      ]
    },
    {
      "cell_type": "code",
      "execution_count": null,
      "metadata": {
        "id": "2AbWAKvVQaL7",
        "outputId": "3908493c-ed2b-4df2-c546-c89c28d649c9",
        "colab": {
          "base_uri": "https://localhost:8080/"
        }
      },
      "outputs": [
        {
          "output_type": "stream",
          "name": "stderr",
          "text": [
            "/usr/local/lib/python3.7/dist-packages/statsmodels/tsa/holtwinters/model.py:917: ConvergenceWarning: Optimization failed to converge. Check mle_retvals.\n",
            "  ConvergenceWarning,\n"
          ]
        },
        {
          "output_type": "stream",
          "name": "stdout",
          "text": [
            "0\n"
          ]
        },
        {
          "output_type": "stream",
          "name": "stderr",
          "text": [
            "/usr/local/lib/python3.7/dist-packages/statsmodels/tsa/holtwinters/model.py:917: ConvergenceWarning: Optimization failed to converge. Check mle_retvals.\n",
            "  ConvergenceWarning,\n"
          ]
        },
        {
          "output_type": "stream",
          "name": "stdout",
          "text": [
            "1\n"
          ]
        },
        {
          "output_type": "stream",
          "name": "stderr",
          "text": [
            "/usr/local/lib/python3.7/dist-packages/statsmodels/tsa/holtwinters/model.py:917: ConvergenceWarning: Optimization failed to converge. Check mle_retvals.\n",
            "  ConvergenceWarning,\n"
          ]
        },
        {
          "output_type": "stream",
          "name": "stdout",
          "text": [
            "2\n"
          ]
        },
        {
          "output_type": "stream",
          "name": "stderr",
          "text": [
            "/usr/local/lib/python3.7/dist-packages/statsmodels/tsa/holtwinters/model.py:917: ConvergenceWarning: Optimization failed to converge. Check mle_retvals.\n",
            "  ConvergenceWarning,\n"
          ]
        },
        {
          "output_type": "stream",
          "name": "stdout",
          "text": [
            "3\n"
          ]
        },
        {
          "output_type": "stream",
          "name": "stderr",
          "text": [
            "/usr/local/lib/python3.7/dist-packages/statsmodels/tsa/holtwinters/model.py:917: ConvergenceWarning: Optimization failed to converge. Check mle_retvals.\n",
            "  ConvergenceWarning,\n"
          ]
        },
        {
          "output_type": "stream",
          "name": "stdout",
          "text": [
            "4\n"
          ]
        },
        {
          "output_type": "stream",
          "name": "stderr",
          "text": [
            "/usr/local/lib/python3.7/dist-packages/statsmodels/tsa/holtwinters/model.py:917: ConvergenceWarning: Optimization failed to converge. Check mle_retvals.\n",
            "  ConvergenceWarning,\n"
          ]
        },
        {
          "output_type": "stream",
          "name": "stdout",
          "text": [
            "5\n"
          ]
        },
        {
          "output_type": "stream",
          "name": "stderr",
          "text": [
            "/usr/local/lib/python3.7/dist-packages/statsmodels/tsa/holtwinters/model.py:917: ConvergenceWarning: Optimization failed to converge. Check mle_retvals.\n",
            "  ConvergenceWarning,\n"
          ]
        },
        {
          "output_type": "stream",
          "name": "stdout",
          "text": [
            "6\n"
          ]
        },
        {
          "output_type": "stream",
          "name": "stderr",
          "text": [
            "/usr/local/lib/python3.7/dist-packages/statsmodels/tsa/holtwinters/model.py:917: ConvergenceWarning: Optimization failed to converge. Check mle_retvals.\n",
            "  ConvergenceWarning,\n"
          ]
        },
        {
          "output_type": "stream",
          "name": "stdout",
          "text": [
            "7\n"
          ]
        },
        {
          "output_type": "stream",
          "name": "stderr",
          "text": [
            "/usr/local/lib/python3.7/dist-packages/statsmodels/tsa/holtwinters/model.py:917: ConvergenceWarning: Optimization failed to converge. Check mle_retvals.\n",
            "  ConvergenceWarning,\n"
          ]
        },
        {
          "output_type": "stream",
          "name": "stdout",
          "text": [
            "8\n"
          ]
        },
        {
          "output_type": "stream",
          "name": "stderr",
          "text": [
            "/usr/local/lib/python3.7/dist-packages/statsmodels/tsa/holtwinters/model.py:917: ConvergenceWarning: Optimization failed to converge. Check mle_retvals.\n",
            "  ConvergenceWarning,\n"
          ]
        },
        {
          "output_type": "stream",
          "name": "stdout",
          "text": [
            "9\n"
          ]
        },
        {
          "output_type": "stream",
          "name": "stderr",
          "text": [
            "/usr/local/lib/python3.7/dist-packages/statsmodels/tsa/holtwinters/model.py:917: ConvergenceWarning: Optimization failed to converge. Check mle_retvals.\n",
            "  ConvergenceWarning,\n"
          ]
        },
        {
          "output_type": "stream",
          "name": "stdout",
          "text": [
            "10\n"
          ]
        },
        {
          "output_type": "stream",
          "name": "stderr",
          "text": [
            "/usr/local/lib/python3.7/dist-packages/statsmodels/tsa/holtwinters/model.py:917: ConvergenceWarning: Optimization failed to converge. Check mle_retvals.\n",
            "  ConvergenceWarning,\n"
          ]
        },
        {
          "output_type": "stream",
          "name": "stdout",
          "text": [
            "11\n"
          ]
        },
        {
          "output_type": "stream",
          "name": "stderr",
          "text": [
            "/usr/local/lib/python3.7/dist-packages/statsmodels/tsa/holtwinters/model.py:917: ConvergenceWarning: Optimization failed to converge. Check mle_retvals.\n",
            "  ConvergenceWarning,\n"
          ]
        },
        {
          "output_type": "stream",
          "name": "stdout",
          "text": [
            "12\n"
          ]
        },
        {
          "output_type": "stream",
          "name": "stderr",
          "text": [
            "/usr/local/lib/python3.7/dist-packages/statsmodels/tsa/holtwinters/model.py:917: ConvergenceWarning: Optimization failed to converge. Check mle_retvals.\n",
            "  ConvergenceWarning,\n"
          ]
        },
        {
          "output_type": "stream",
          "name": "stdout",
          "text": [
            "13\n"
          ]
        },
        {
          "output_type": "stream",
          "name": "stderr",
          "text": [
            "/usr/local/lib/python3.7/dist-packages/statsmodels/tsa/holtwinters/model.py:917: ConvergenceWarning: Optimization failed to converge. Check mle_retvals.\n",
            "  ConvergenceWarning,\n"
          ]
        },
        {
          "output_type": "stream",
          "name": "stdout",
          "text": [
            "14\n"
          ]
        },
        {
          "output_type": "stream",
          "name": "stderr",
          "text": [
            "/usr/local/lib/python3.7/dist-packages/statsmodels/tsa/holtwinters/model.py:917: ConvergenceWarning: Optimization failed to converge. Check mle_retvals.\n",
            "  ConvergenceWarning,\n"
          ]
        },
        {
          "output_type": "stream",
          "name": "stdout",
          "text": [
            "15\n"
          ]
        },
        {
          "output_type": "stream",
          "name": "stderr",
          "text": [
            "/usr/local/lib/python3.7/dist-packages/statsmodels/tsa/holtwinters/model.py:917: ConvergenceWarning: Optimization failed to converge. Check mle_retvals.\n",
            "  ConvergenceWarning,\n"
          ]
        },
        {
          "output_type": "stream",
          "name": "stdout",
          "text": [
            "16\n"
          ]
        },
        {
          "output_type": "stream",
          "name": "stderr",
          "text": [
            "/usr/local/lib/python3.7/dist-packages/statsmodels/tsa/holtwinters/model.py:917: ConvergenceWarning: Optimization failed to converge. Check mle_retvals.\n",
            "  ConvergenceWarning,\n"
          ]
        },
        {
          "output_type": "stream",
          "name": "stdout",
          "text": [
            "17\n"
          ]
        },
        {
          "output_type": "stream",
          "name": "stderr",
          "text": [
            "/usr/local/lib/python3.7/dist-packages/statsmodels/tsa/holtwinters/model.py:917: ConvergenceWarning: Optimization failed to converge. Check mle_retvals.\n",
            "  ConvergenceWarning,\n"
          ]
        },
        {
          "output_type": "stream",
          "name": "stdout",
          "text": [
            "18\n"
          ]
        },
        {
          "output_type": "stream",
          "name": "stderr",
          "text": [
            "/usr/local/lib/python3.7/dist-packages/statsmodels/tsa/holtwinters/model.py:917: ConvergenceWarning: Optimization failed to converge. Check mle_retvals.\n",
            "  ConvergenceWarning,\n"
          ]
        },
        {
          "output_type": "stream",
          "name": "stdout",
          "text": [
            "19\n"
          ]
        },
        {
          "output_type": "stream",
          "name": "stderr",
          "text": [
            "/usr/local/lib/python3.7/dist-packages/statsmodels/tsa/holtwinters/model.py:917: ConvergenceWarning: Optimization failed to converge. Check mle_retvals.\n",
            "  ConvergenceWarning,\n"
          ]
        },
        {
          "output_type": "stream",
          "name": "stdout",
          "text": [
            "20\n"
          ]
        },
        {
          "output_type": "stream",
          "name": "stderr",
          "text": [
            "/usr/local/lib/python3.7/dist-packages/statsmodels/tsa/holtwinters/model.py:917: ConvergenceWarning: Optimization failed to converge. Check mle_retvals.\n",
            "  ConvergenceWarning,\n"
          ]
        },
        {
          "output_type": "stream",
          "name": "stdout",
          "text": [
            "21\n"
          ]
        },
        {
          "output_type": "stream",
          "name": "stderr",
          "text": [
            "/usr/local/lib/python3.7/dist-packages/statsmodels/tsa/holtwinters/model.py:917: ConvergenceWarning: Optimization failed to converge. Check mle_retvals.\n",
            "  ConvergenceWarning,\n"
          ]
        },
        {
          "output_type": "stream",
          "name": "stdout",
          "text": [
            "22\n"
          ]
        },
        {
          "output_type": "stream",
          "name": "stderr",
          "text": [
            "/usr/local/lib/python3.7/dist-packages/statsmodels/tsa/holtwinters/model.py:917: ConvergenceWarning: Optimization failed to converge. Check mle_retvals.\n",
            "  ConvergenceWarning,\n"
          ]
        },
        {
          "output_type": "stream",
          "name": "stdout",
          "text": [
            "23\n"
          ]
        },
        {
          "output_type": "stream",
          "name": "stderr",
          "text": [
            "/usr/local/lib/python3.7/dist-packages/statsmodels/tsa/holtwinters/model.py:917: ConvergenceWarning: Optimization failed to converge. Check mle_retvals.\n",
            "  ConvergenceWarning,\n"
          ]
        },
        {
          "output_type": "stream",
          "name": "stdout",
          "text": [
            "24\n"
          ]
        },
        {
          "output_type": "stream",
          "name": "stderr",
          "text": [
            "/usr/local/lib/python3.7/dist-packages/statsmodels/tsa/holtwinters/model.py:917: ConvergenceWarning: Optimization failed to converge. Check mle_retvals.\n",
            "  ConvergenceWarning,\n"
          ]
        },
        {
          "output_type": "stream",
          "name": "stdout",
          "text": [
            "25\n"
          ]
        },
        {
          "output_type": "stream",
          "name": "stderr",
          "text": [
            "/usr/local/lib/python3.7/dist-packages/statsmodels/tsa/holtwinters/model.py:917: ConvergenceWarning: Optimization failed to converge. Check mle_retvals.\n",
            "  ConvergenceWarning,\n"
          ]
        },
        {
          "output_type": "stream",
          "name": "stdout",
          "text": [
            "26\n"
          ]
        },
        {
          "output_type": "stream",
          "name": "stderr",
          "text": [
            "/usr/local/lib/python3.7/dist-packages/statsmodels/tsa/holtwinters/model.py:917: ConvergenceWarning: Optimization failed to converge. Check mle_retvals.\n",
            "  ConvergenceWarning,\n"
          ]
        },
        {
          "output_type": "stream",
          "name": "stdout",
          "text": [
            "27\n"
          ]
        },
        {
          "output_type": "stream",
          "name": "stderr",
          "text": [
            "/usr/local/lib/python3.7/dist-packages/statsmodels/tsa/holtwinters/model.py:917: ConvergenceWarning: Optimization failed to converge. Check mle_retvals.\n",
            "  ConvergenceWarning,\n"
          ]
        },
        {
          "output_type": "stream",
          "name": "stdout",
          "text": [
            "28\n"
          ]
        },
        {
          "output_type": "stream",
          "name": "stderr",
          "text": [
            "/usr/local/lib/python3.7/dist-packages/statsmodels/tsa/holtwinters/model.py:917: ConvergenceWarning: Optimization failed to converge. Check mle_retvals.\n",
            "  ConvergenceWarning,\n"
          ]
        },
        {
          "output_type": "stream",
          "name": "stdout",
          "text": [
            "29\n"
          ]
        },
        {
          "output_type": "stream",
          "name": "stderr",
          "text": [
            "/usr/local/lib/python3.7/dist-packages/statsmodels/tsa/holtwinters/model.py:917: ConvergenceWarning: Optimization failed to converge. Check mle_retvals.\n",
            "  ConvergenceWarning,\n"
          ]
        },
        {
          "output_type": "stream",
          "name": "stdout",
          "text": [
            "30\n"
          ]
        },
        {
          "output_type": "stream",
          "name": "stderr",
          "text": [
            "/usr/local/lib/python3.7/dist-packages/statsmodels/tsa/holtwinters/model.py:917: ConvergenceWarning: Optimization failed to converge. Check mle_retvals.\n",
            "  ConvergenceWarning,\n"
          ]
        },
        {
          "output_type": "stream",
          "name": "stdout",
          "text": [
            "31\n"
          ]
        },
        {
          "output_type": "stream",
          "name": "stderr",
          "text": [
            "/usr/local/lib/python3.7/dist-packages/statsmodels/tsa/holtwinters/model.py:917: ConvergenceWarning: Optimization failed to converge. Check mle_retvals.\n",
            "  ConvergenceWarning,\n"
          ]
        },
        {
          "output_type": "stream",
          "name": "stdout",
          "text": [
            "32\n"
          ]
        },
        {
          "output_type": "stream",
          "name": "stderr",
          "text": [
            "/usr/local/lib/python3.7/dist-packages/statsmodels/tsa/holtwinters/model.py:917: ConvergenceWarning: Optimization failed to converge. Check mle_retvals.\n",
            "  ConvergenceWarning,\n"
          ]
        },
        {
          "output_type": "stream",
          "name": "stdout",
          "text": [
            "33\n"
          ]
        },
        {
          "output_type": "stream",
          "name": "stderr",
          "text": [
            "/usr/local/lib/python3.7/dist-packages/statsmodels/tsa/holtwinters/model.py:917: ConvergenceWarning: Optimization failed to converge. Check mle_retvals.\n",
            "  ConvergenceWarning,\n"
          ]
        },
        {
          "output_type": "stream",
          "name": "stdout",
          "text": [
            "34\n"
          ]
        },
        {
          "output_type": "stream",
          "name": "stderr",
          "text": [
            "/usr/local/lib/python3.7/dist-packages/statsmodels/tsa/holtwinters/model.py:917: ConvergenceWarning: Optimization failed to converge. Check mle_retvals.\n",
            "  ConvergenceWarning,\n"
          ]
        },
        {
          "output_type": "stream",
          "name": "stdout",
          "text": [
            "35\n"
          ]
        },
        {
          "output_type": "stream",
          "name": "stderr",
          "text": [
            "/usr/local/lib/python3.7/dist-packages/statsmodels/tsa/holtwinters/model.py:917: ConvergenceWarning: Optimization failed to converge. Check mle_retvals.\n",
            "  ConvergenceWarning,\n"
          ]
        },
        {
          "output_type": "stream",
          "name": "stdout",
          "text": [
            "36\n"
          ]
        },
        {
          "output_type": "stream",
          "name": "stderr",
          "text": [
            "/usr/local/lib/python3.7/dist-packages/statsmodels/tsa/holtwinters/model.py:917: ConvergenceWarning: Optimization failed to converge. Check mle_retvals.\n",
            "  ConvergenceWarning,\n"
          ]
        },
        {
          "output_type": "stream",
          "name": "stdout",
          "text": [
            "37\n"
          ]
        },
        {
          "output_type": "stream",
          "name": "stderr",
          "text": [
            "/usr/local/lib/python3.7/dist-packages/statsmodels/tsa/holtwinters/model.py:917: ConvergenceWarning: Optimization failed to converge. Check mle_retvals.\n",
            "  ConvergenceWarning,\n"
          ]
        },
        {
          "output_type": "stream",
          "name": "stdout",
          "text": [
            "38\n"
          ]
        },
        {
          "output_type": "stream",
          "name": "stderr",
          "text": [
            "/usr/local/lib/python3.7/dist-packages/statsmodels/tsa/holtwinters/model.py:917: ConvergenceWarning: Optimization failed to converge. Check mle_retvals.\n",
            "  ConvergenceWarning,\n"
          ]
        },
        {
          "output_type": "stream",
          "name": "stdout",
          "text": [
            "39\n"
          ]
        },
        {
          "output_type": "stream",
          "name": "stderr",
          "text": [
            "/usr/local/lib/python3.7/dist-packages/statsmodels/tsa/holtwinters/model.py:917: ConvergenceWarning: Optimization failed to converge. Check mle_retvals.\n",
            "  ConvergenceWarning,\n"
          ]
        },
        {
          "output_type": "stream",
          "name": "stdout",
          "text": [
            "40\n"
          ]
        },
        {
          "output_type": "stream",
          "name": "stderr",
          "text": [
            "/usr/local/lib/python3.7/dist-packages/statsmodels/tsa/holtwinters/model.py:917: ConvergenceWarning: Optimization failed to converge. Check mle_retvals.\n",
            "  ConvergenceWarning,\n"
          ]
        },
        {
          "output_type": "stream",
          "name": "stdout",
          "text": [
            "41\n"
          ]
        },
        {
          "output_type": "stream",
          "name": "stderr",
          "text": [
            "/usr/local/lib/python3.7/dist-packages/statsmodels/tsa/holtwinters/model.py:917: ConvergenceWarning: Optimization failed to converge. Check mle_retvals.\n",
            "  ConvergenceWarning,\n"
          ]
        },
        {
          "output_type": "stream",
          "name": "stdout",
          "text": [
            "42\n"
          ]
        },
        {
          "output_type": "stream",
          "name": "stderr",
          "text": [
            "/usr/local/lib/python3.7/dist-packages/statsmodels/tsa/holtwinters/model.py:917: ConvergenceWarning: Optimization failed to converge. Check mle_retvals.\n",
            "  ConvergenceWarning,\n"
          ]
        },
        {
          "output_type": "stream",
          "name": "stdout",
          "text": [
            "43\n"
          ]
        },
        {
          "output_type": "stream",
          "name": "stderr",
          "text": [
            "/usr/local/lib/python3.7/dist-packages/statsmodels/tsa/holtwinters/model.py:917: ConvergenceWarning: Optimization failed to converge. Check mle_retvals.\n",
            "  ConvergenceWarning,\n"
          ]
        },
        {
          "output_type": "stream",
          "name": "stdout",
          "text": [
            "44\n"
          ]
        },
        {
          "output_type": "stream",
          "name": "stderr",
          "text": [
            "/usr/local/lib/python3.7/dist-packages/statsmodels/tsa/holtwinters/model.py:917: ConvergenceWarning: Optimization failed to converge. Check mle_retvals.\n",
            "  ConvergenceWarning,\n"
          ]
        },
        {
          "output_type": "stream",
          "name": "stdout",
          "text": [
            "45\n"
          ]
        },
        {
          "output_type": "stream",
          "name": "stderr",
          "text": [
            "/usr/local/lib/python3.7/dist-packages/statsmodels/tsa/holtwinters/model.py:917: ConvergenceWarning: Optimization failed to converge. Check mle_retvals.\n",
            "  ConvergenceWarning,\n"
          ]
        },
        {
          "output_type": "stream",
          "name": "stdout",
          "text": [
            "46\n"
          ]
        },
        {
          "output_type": "stream",
          "name": "stderr",
          "text": [
            "/usr/local/lib/python3.7/dist-packages/statsmodels/tsa/holtwinters/model.py:917: ConvergenceWarning: Optimization failed to converge. Check mle_retvals.\n",
            "  ConvergenceWarning,\n"
          ]
        },
        {
          "output_type": "stream",
          "name": "stdout",
          "text": [
            "47\n"
          ]
        },
        {
          "output_type": "stream",
          "name": "stderr",
          "text": [
            "/usr/local/lib/python3.7/dist-packages/statsmodels/tsa/holtwinters/model.py:917: ConvergenceWarning: Optimization failed to converge. Check mle_retvals.\n",
            "  ConvergenceWarning,\n"
          ]
        },
        {
          "output_type": "stream",
          "name": "stdout",
          "text": [
            "48\n"
          ]
        },
        {
          "output_type": "stream",
          "name": "stderr",
          "text": [
            "/usr/local/lib/python3.7/dist-packages/statsmodels/tsa/holtwinters/model.py:917: ConvergenceWarning: Optimization failed to converge. Check mle_retvals.\n",
            "  ConvergenceWarning,\n"
          ]
        },
        {
          "output_type": "stream",
          "name": "stdout",
          "text": [
            "49\n"
          ]
        },
        {
          "output_type": "stream",
          "name": "stderr",
          "text": [
            "/usr/local/lib/python3.7/dist-packages/statsmodels/tsa/holtwinters/model.py:917: ConvergenceWarning: Optimization failed to converge. Check mle_retvals.\n",
            "  ConvergenceWarning,\n"
          ]
        },
        {
          "output_type": "stream",
          "name": "stdout",
          "text": [
            "50\n"
          ]
        },
        {
          "output_type": "stream",
          "name": "stderr",
          "text": [
            "/usr/local/lib/python3.7/dist-packages/statsmodels/tsa/holtwinters/model.py:917: ConvergenceWarning: Optimization failed to converge. Check mle_retvals.\n",
            "  ConvergenceWarning,\n"
          ]
        },
        {
          "output_type": "stream",
          "name": "stdout",
          "text": [
            "51\n"
          ]
        },
        {
          "output_type": "stream",
          "name": "stderr",
          "text": [
            "/usr/local/lib/python3.7/dist-packages/statsmodels/tsa/holtwinters/model.py:917: ConvergenceWarning: Optimization failed to converge. Check mle_retvals.\n",
            "  ConvergenceWarning,\n"
          ]
        },
        {
          "output_type": "stream",
          "name": "stdout",
          "text": [
            "52\n"
          ]
        },
        {
          "output_type": "stream",
          "name": "stderr",
          "text": [
            "/usr/local/lib/python3.7/dist-packages/statsmodels/tsa/holtwinters/model.py:917: ConvergenceWarning: Optimization failed to converge. Check mle_retvals.\n",
            "  ConvergenceWarning,\n"
          ]
        },
        {
          "output_type": "stream",
          "name": "stdout",
          "text": [
            "53\n"
          ]
        },
        {
          "output_type": "stream",
          "name": "stderr",
          "text": [
            "/usr/local/lib/python3.7/dist-packages/statsmodels/tsa/holtwinters/model.py:917: ConvergenceWarning: Optimization failed to converge. Check mle_retvals.\n",
            "  ConvergenceWarning,\n"
          ]
        },
        {
          "output_type": "stream",
          "name": "stdout",
          "text": [
            "54\n"
          ]
        },
        {
          "output_type": "stream",
          "name": "stderr",
          "text": [
            "/usr/local/lib/python3.7/dist-packages/statsmodels/tsa/holtwinters/model.py:917: ConvergenceWarning: Optimization failed to converge. Check mle_retvals.\n",
            "  ConvergenceWarning,\n"
          ]
        },
        {
          "output_type": "stream",
          "name": "stdout",
          "text": [
            "55\n"
          ]
        },
        {
          "output_type": "stream",
          "name": "stderr",
          "text": [
            "/usr/local/lib/python3.7/dist-packages/statsmodels/tsa/holtwinters/model.py:917: ConvergenceWarning: Optimization failed to converge. Check mle_retvals.\n",
            "  ConvergenceWarning,\n"
          ]
        },
        {
          "output_type": "stream",
          "name": "stdout",
          "text": [
            "56\n"
          ]
        },
        {
          "output_type": "stream",
          "name": "stderr",
          "text": [
            "/usr/local/lib/python3.7/dist-packages/statsmodels/tsa/holtwinters/model.py:917: ConvergenceWarning: Optimization failed to converge. Check mle_retvals.\n",
            "  ConvergenceWarning,\n"
          ]
        },
        {
          "output_type": "stream",
          "name": "stdout",
          "text": [
            "57\n"
          ]
        },
        {
          "output_type": "stream",
          "name": "stderr",
          "text": [
            "/usr/local/lib/python3.7/dist-packages/statsmodels/tsa/holtwinters/model.py:917: ConvergenceWarning: Optimization failed to converge. Check mle_retvals.\n",
            "  ConvergenceWarning,\n"
          ]
        },
        {
          "output_type": "stream",
          "name": "stdout",
          "text": [
            "58\n"
          ]
        },
        {
          "output_type": "stream",
          "name": "stderr",
          "text": [
            "/usr/local/lib/python3.7/dist-packages/statsmodels/tsa/holtwinters/model.py:917: ConvergenceWarning: Optimization failed to converge. Check mle_retvals.\n",
            "  ConvergenceWarning,\n"
          ]
        },
        {
          "output_type": "stream",
          "name": "stdout",
          "text": [
            "59\n"
          ]
        },
        {
          "output_type": "stream",
          "name": "stderr",
          "text": [
            "/usr/local/lib/python3.7/dist-packages/statsmodels/tsa/holtwinters/model.py:917: ConvergenceWarning: Optimization failed to converge. Check mle_retvals.\n",
            "  ConvergenceWarning,\n"
          ]
        },
        {
          "output_type": "stream",
          "name": "stdout",
          "text": [
            "60\n"
          ]
        },
        {
          "output_type": "stream",
          "name": "stderr",
          "text": [
            "/usr/local/lib/python3.7/dist-packages/statsmodels/tsa/holtwinters/model.py:917: ConvergenceWarning: Optimization failed to converge. Check mle_retvals.\n",
            "  ConvergenceWarning,\n"
          ]
        },
        {
          "output_type": "stream",
          "name": "stdout",
          "text": [
            "61\n"
          ]
        },
        {
          "output_type": "stream",
          "name": "stderr",
          "text": [
            "/usr/local/lib/python3.7/dist-packages/statsmodels/tsa/holtwinters/model.py:917: ConvergenceWarning: Optimization failed to converge. Check mle_retvals.\n",
            "  ConvergenceWarning,\n"
          ]
        },
        {
          "output_type": "stream",
          "name": "stdout",
          "text": [
            "62\n"
          ]
        },
        {
          "output_type": "stream",
          "name": "stderr",
          "text": [
            "/usr/local/lib/python3.7/dist-packages/statsmodels/tsa/holtwinters/model.py:917: ConvergenceWarning: Optimization failed to converge. Check mle_retvals.\n",
            "  ConvergenceWarning,\n"
          ]
        },
        {
          "output_type": "stream",
          "name": "stdout",
          "text": [
            "63\n"
          ]
        },
        {
          "output_type": "stream",
          "name": "stderr",
          "text": [
            "/usr/local/lib/python3.7/dist-packages/statsmodels/tsa/holtwinters/model.py:917: ConvergenceWarning: Optimization failed to converge. Check mle_retvals.\n",
            "  ConvergenceWarning,\n"
          ]
        },
        {
          "output_type": "stream",
          "name": "stdout",
          "text": [
            "64\n"
          ]
        },
        {
          "output_type": "stream",
          "name": "stderr",
          "text": [
            "/usr/local/lib/python3.7/dist-packages/statsmodels/tsa/holtwinters/model.py:917: ConvergenceWarning: Optimization failed to converge. Check mle_retvals.\n",
            "  ConvergenceWarning,\n"
          ]
        },
        {
          "output_type": "stream",
          "name": "stdout",
          "text": [
            "65\n"
          ]
        },
        {
          "output_type": "stream",
          "name": "stderr",
          "text": [
            "/usr/local/lib/python3.7/dist-packages/statsmodels/tsa/holtwinters/model.py:917: ConvergenceWarning: Optimization failed to converge. Check mle_retvals.\n",
            "  ConvergenceWarning,\n"
          ]
        },
        {
          "output_type": "stream",
          "name": "stdout",
          "text": [
            "66\n"
          ]
        },
        {
          "output_type": "stream",
          "name": "stderr",
          "text": [
            "/usr/local/lib/python3.7/dist-packages/statsmodels/tsa/holtwinters/model.py:917: ConvergenceWarning: Optimization failed to converge. Check mle_retvals.\n",
            "  ConvergenceWarning,\n"
          ]
        },
        {
          "output_type": "stream",
          "name": "stdout",
          "text": [
            "67\n"
          ]
        },
        {
          "output_type": "stream",
          "name": "stderr",
          "text": [
            "/usr/local/lib/python3.7/dist-packages/statsmodels/tsa/holtwinters/model.py:917: ConvergenceWarning: Optimization failed to converge. Check mle_retvals.\n",
            "  ConvergenceWarning,\n"
          ]
        },
        {
          "output_type": "stream",
          "name": "stdout",
          "text": [
            "68\n"
          ]
        },
        {
          "output_type": "stream",
          "name": "stderr",
          "text": [
            "/usr/local/lib/python3.7/dist-packages/statsmodels/tsa/holtwinters/model.py:917: ConvergenceWarning: Optimization failed to converge. Check mle_retvals.\n",
            "  ConvergenceWarning,\n"
          ]
        },
        {
          "output_type": "stream",
          "name": "stdout",
          "text": [
            "69\n"
          ]
        },
        {
          "output_type": "stream",
          "name": "stderr",
          "text": [
            "/usr/local/lib/python3.7/dist-packages/statsmodels/tsa/holtwinters/model.py:917: ConvergenceWarning: Optimization failed to converge. Check mle_retvals.\n",
            "  ConvergenceWarning,\n"
          ]
        },
        {
          "output_type": "stream",
          "name": "stdout",
          "text": [
            "70\n"
          ]
        },
        {
          "output_type": "stream",
          "name": "stderr",
          "text": [
            "/usr/local/lib/python3.7/dist-packages/statsmodels/tsa/holtwinters/model.py:917: ConvergenceWarning: Optimization failed to converge. Check mle_retvals.\n",
            "  ConvergenceWarning,\n"
          ]
        },
        {
          "output_type": "stream",
          "name": "stdout",
          "text": [
            "71\n"
          ]
        },
        {
          "output_type": "stream",
          "name": "stderr",
          "text": [
            "/usr/local/lib/python3.7/dist-packages/statsmodels/tsa/holtwinters/model.py:917: ConvergenceWarning: Optimization failed to converge. Check mle_retvals.\n",
            "  ConvergenceWarning,\n"
          ]
        },
        {
          "output_type": "stream",
          "name": "stdout",
          "text": [
            "72\n"
          ]
        },
        {
          "output_type": "stream",
          "name": "stderr",
          "text": [
            "/usr/local/lib/python3.7/dist-packages/statsmodels/tsa/holtwinters/model.py:917: ConvergenceWarning: Optimization failed to converge. Check mle_retvals.\n",
            "  ConvergenceWarning,\n"
          ]
        },
        {
          "output_type": "stream",
          "name": "stdout",
          "text": [
            "73\n"
          ]
        },
        {
          "output_type": "stream",
          "name": "stderr",
          "text": [
            "/usr/local/lib/python3.7/dist-packages/statsmodels/tsa/holtwinters/model.py:917: ConvergenceWarning: Optimization failed to converge. Check mle_retvals.\n",
            "  ConvergenceWarning,\n"
          ]
        },
        {
          "output_type": "stream",
          "name": "stdout",
          "text": [
            "74\n"
          ]
        },
        {
          "output_type": "stream",
          "name": "stderr",
          "text": [
            "/usr/local/lib/python3.7/dist-packages/statsmodels/tsa/holtwinters/model.py:917: ConvergenceWarning: Optimization failed to converge. Check mle_retvals.\n",
            "  ConvergenceWarning,\n"
          ]
        },
        {
          "output_type": "stream",
          "name": "stdout",
          "text": [
            "75\n"
          ]
        },
        {
          "output_type": "stream",
          "name": "stderr",
          "text": [
            "/usr/local/lib/python3.7/dist-packages/statsmodels/tsa/holtwinters/model.py:917: ConvergenceWarning: Optimization failed to converge. Check mle_retvals.\n",
            "  ConvergenceWarning,\n"
          ]
        },
        {
          "output_type": "stream",
          "name": "stdout",
          "text": [
            "76\n"
          ]
        },
        {
          "output_type": "stream",
          "name": "stderr",
          "text": [
            "/usr/local/lib/python3.7/dist-packages/statsmodels/tsa/holtwinters/model.py:917: ConvergenceWarning: Optimization failed to converge. Check mle_retvals.\n",
            "  ConvergenceWarning,\n"
          ]
        },
        {
          "output_type": "stream",
          "name": "stdout",
          "text": [
            "77\n"
          ]
        },
        {
          "output_type": "stream",
          "name": "stderr",
          "text": [
            "/usr/local/lib/python3.7/dist-packages/statsmodels/tsa/holtwinters/model.py:917: ConvergenceWarning: Optimization failed to converge. Check mle_retvals.\n",
            "  ConvergenceWarning,\n"
          ]
        },
        {
          "output_type": "stream",
          "name": "stdout",
          "text": [
            "78\n"
          ]
        },
        {
          "output_type": "stream",
          "name": "stderr",
          "text": [
            "/usr/local/lib/python3.7/dist-packages/statsmodels/tsa/holtwinters/model.py:917: ConvergenceWarning: Optimization failed to converge. Check mle_retvals.\n",
            "  ConvergenceWarning,\n"
          ]
        },
        {
          "output_type": "stream",
          "name": "stdout",
          "text": [
            "79\n"
          ]
        },
        {
          "output_type": "stream",
          "name": "stderr",
          "text": [
            "/usr/local/lib/python3.7/dist-packages/statsmodels/tsa/holtwinters/model.py:917: ConvergenceWarning: Optimization failed to converge. Check mle_retvals.\n",
            "  ConvergenceWarning,\n"
          ]
        },
        {
          "output_type": "stream",
          "name": "stdout",
          "text": [
            "80\n"
          ]
        },
        {
          "output_type": "stream",
          "name": "stderr",
          "text": [
            "/usr/local/lib/python3.7/dist-packages/statsmodels/tsa/holtwinters/model.py:917: ConvergenceWarning: Optimization failed to converge. Check mle_retvals.\n",
            "  ConvergenceWarning,\n"
          ]
        },
        {
          "output_type": "stream",
          "name": "stdout",
          "text": [
            "81\n"
          ]
        },
        {
          "output_type": "stream",
          "name": "stderr",
          "text": [
            "/usr/local/lib/python3.7/dist-packages/statsmodels/tsa/holtwinters/model.py:917: ConvergenceWarning: Optimization failed to converge. Check mle_retvals.\n",
            "  ConvergenceWarning,\n"
          ]
        },
        {
          "output_type": "stream",
          "name": "stdout",
          "text": [
            "82\n"
          ]
        },
        {
          "output_type": "stream",
          "name": "stderr",
          "text": [
            "/usr/local/lib/python3.7/dist-packages/statsmodels/tsa/holtwinters/model.py:917: ConvergenceWarning: Optimization failed to converge. Check mle_retvals.\n",
            "  ConvergenceWarning,\n"
          ]
        },
        {
          "output_type": "stream",
          "name": "stdout",
          "text": [
            "83\n"
          ]
        },
        {
          "output_type": "stream",
          "name": "stderr",
          "text": [
            "/usr/local/lib/python3.7/dist-packages/statsmodels/tsa/holtwinters/model.py:917: ConvergenceWarning: Optimization failed to converge. Check mle_retvals.\n",
            "  ConvergenceWarning,\n"
          ]
        },
        {
          "output_type": "stream",
          "name": "stdout",
          "text": [
            "84\n"
          ]
        },
        {
          "output_type": "stream",
          "name": "stderr",
          "text": [
            "/usr/local/lib/python3.7/dist-packages/statsmodels/tsa/holtwinters/model.py:917: ConvergenceWarning: Optimization failed to converge. Check mle_retvals.\n",
            "  ConvergenceWarning,\n"
          ]
        },
        {
          "output_type": "stream",
          "name": "stdout",
          "text": [
            "85\n"
          ]
        },
        {
          "output_type": "stream",
          "name": "stderr",
          "text": [
            "/usr/local/lib/python3.7/dist-packages/statsmodels/tsa/holtwinters/model.py:917: ConvergenceWarning: Optimization failed to converge. Check mle_retvals.\n",
            "  ConvergenceWarning,\n"
          ]
        },
        {
          "output_type": "stream",
          "name": "stdout",
          "text": [
            "86\n"
          ]
        },
        {
          "output_type": "stream",
          "name": "stderr",
          "text": [
            "/usr/local/lib/python3.7/dist-packages/statsmodels/tsa/holtwinters/model.py:917: ConvergenceWarning: Optimization failed to converge. Check mle_retvals.\n",
            "  ConvergenceWarning,\n"
          ]
        },
        {
          "output_type": "stream",
          "name": "stdout",
          "text": [
            "87\n"
          ]
        },
        {
          "output_type": "stream",
          "name": "stderr",
          "text": [
            "/usr/local/lib/python3.7/dist-packages/statsmodels/tsa/holtwinters/model.py:917: ConvergenceWarning: Optimization failed to converge. Check mle_retvals.\n",
            "  ConvergenceWarning,\n"
          ]
        },
        {
          "output_type": "stream",
          "name": "stdout",
          "text": [
            "88\n"
          ]
        },
        {
          "output_type": "stream",
          "name": "stderr",
          "text": [
            "/usr/local/lib/python3.7/dist-packages/statsmodels/tsa/holtwinters/model.py:917: ConvergenceWarning: Optimization failed to converge. Check mle_retvals.\n",
            "  ConvergenceWarning,\n"
          ]
        },
        {
          "output_type": "stream",
          "name": "stdout",
          "text": [
            "89\n"
          ]
        },
        {
          "output_type": "stream",
          "name": "stderr",
          "text": [
            "/usr/local/lib/python3.7/dist-packages/statsmodels/tsa/holtwinters/model.py:917: ConvergenceWarning: Optimization failed to converge. Check mle_retvals.\n",
            "  ConvergenceWarning,\n"
          ]
        },
        {
          "output_type": "stream",
          "name": "stdout",
          "text": [
            "90\n"
          ]
        },
        {
          "output_type": "stream",
          "name": "stderr",
          "text": [
            "/usr/local/lib/python3.7/dist-packages/statsmodels/tsa/holtwinters/model.py:917: ConvergenceWarning: Optimization failed to converge. Check mle_retvals.\n",
            "  ConvergenceWarning,\n"
          ]
        },
        {
          "output_type": "stream",
          "name": "stdout",
          "text": [
            "91\n"
          ]
        },
        {
          "output_type": "stream",
          "name": "stderr",
          "text": [
            "/usr/local/lib/python3.7/dist-packages/statsmodels/tsa/holtwinters/model.py:917: ConvergenceWarning: Optimization failed to converge. Check mle_retvals.\n",
            "  ConvergenceWarning,\n"
          ]
        },
        {
          "output_type": "stream",
          "name": "stdout",
          "text": [
            "92\n"
          ]
        },
        {
          "output_type": "stream",
          "name": "stderr",
          "text": [
            "/usr/local/lib/python3.7/dist-packages/statsmodels/tsa/holtwinters/model.py:917: ConvergenceWarning: Optimization failed to converge. Check mle_retvals.\n",
            "  ConvergenceWarning,\n"
          ]
        },
        {
          "output_type": "stream",
          "name": "stdout",
          "text": [
            "93\n"
          ]
        },
        {
          "output_type": "stream",
          "name": "stderr",
          "text": [
            "/usr/local/lib/python3.7/dist-packages/statsmodels/tsa/holtwinters/model.py:917: ConvergenceWarning: Optimization failed to converge. Check mle_retvals.\n",
            "  ConvergenceWarning,\n"
          ]
        },
        {
          "output_type": "stream",
          "name": "stdout",
          "text": [
            "94\n"
          ]
        },
        {
          "output_type": "stream",
          "name": "stderr",
          "text": [
            "/usr/local/lib/python3.7/dist-packages/statsmodels/tsa/holtwinters/model.py:917: ConvergenceWarning: Optimization failed to converge. Check mle_retvals.\n",
            "  ConvergenceWarning,\n"
          ]
        },
        {
          "output_type": "stream",
          "name": "stdout",
          "text": [
            "95\n"
          ]
        },
        {
          "output_type": "stream",
          "name": "stderr",
          "text": [
            "/usr/local/lib/python3.7/dist-packages/statsmodels/tsa/holtwinters/model.py:917: ConvergenceWarning: Optimization failed to converge. Check mle_retvals.\n",
            "  ConvergenceWarning,\n"
          ]
        },
        {
          "output_type": "stream",
          "name": "stdout",
          "text": [
            "96\n"
          ]
        },
        {
          "output_type": "stream",
          "name": "stderr",
          "text": [
            "/usr/local/lib/python3.7/dist-packages/statsmodels/tsa/holtwinters/model.py:917: ConvergenceWarning: Optimization failed to converge. Check mle_retvals.\n",
            "  ConvergenceWarning,\n"
          ]
        },
        {
          "output_type": "stream",
          "name": "stdout",
          "text": [
            "97\n"
          ]
        },
        {
          "output_type": "stream",
          "name": "stderr",
          "text": [
            "/usr/local/lib/python3.7/dist-packages/statsmodels/tsa/holtwinters/model.py:917: ConvergenceWarning: Optimization failed to converge. Check mle_retvals.\n",
            "  ConvergenceWarning,\n"
          ]
        },
        {
          "output_type": "stream",
          "name": "stdout",
          "text": [
            "98\n"
          ]
        },
        {
          "output_type": "stream",
          "name": "stderr",
          "text": [
            "/usr/local/lib/python3.7/dist-packages/statsmodels/tsa/holtwinters/model.py:917: ConvergenceWarning: Optimization failed to converge. Check mle_retvals.\n",
            "  ConvergenceWarning,\n"
          ]
        },
        {
          "output_type": "stream",
          "name": "stdout",
          "text": [
            "99\n"
          ]
        },
        {
          "output_type": "stream",
          "name": "stderr",
          "text": [
            "/usr/local/lib/python3.7/dist-packages/statsmodels/tsa/holtwinters/model.py:917: ConvergenceWarning: Optimization failed to converge. Check mle_retvals.\n",
            "  ConvergenceWarning,\n"
          ]
        },
        {
          "output_type": "stream",
          "name": "stdout",
          "text": [
            "100\n"
          ]
        }
      ],
      "source": [
        "timeHWM_       = []\n",
        "forecastHWM_   = []\n",
        "forecastX_HWM_ = []\n",
        "n_p            = n_p  ## Number of periods per step\n",
        "nfail          = 0\n",
        "dias           = 28\n",
        "\n",
        "for to,tt,tf in positions_test:\n",
        "  j = 0\n",
        "  s = n_p\n",
        "  for i in range(tt,tf,1):\n",
        "    vsele = vsele ## Number of periods in a window\n",
        "    X_train = serie1[to+j:tt+j]\n",
        "    X_train = X_train[-dias*vsele:-1] ## funcionó bien con 28 dias atras\n",
        "    t_o = time.time()\n",
        "    try:\n",
        "      pred_ = HoltWinters(X_train,vsele,option='Multiplicative') ##'Additive' 'Multiplicative' 'Additive Dam' 'Multiplicative Dam'\n",
        "    except:\n",
        "      print(\"!!! Error has occurred in the position:\",tt+j)\n",
        "      pred_ = np.array(persistence(X_train, n = vsele))\n",
        "      nfail = nfail + 1\n",
        "    pred_list  = pred_.tolist() \n",
        "    forecastHWM_ = forecastHWM_ + pred_list[0:1]\n",
        "    print(j)\n",
        "    \n",
        "    if s == n_p:\n",
        "      pred_list  = pred_.tolist() \n",
        "      forecastX_HWM_ = forecastX_HWM_ + pred_list[0:n_p]\n",
        "      s = 0\n",
        "    \n",
        "    timeHWM_.append(time.time() - t_o)\n",
        "    j = j + 1\n",
        "    s = s + 1\n",
        "\n",
        "  modu = (tf - tt) % n_p \n",
        "  if modu != 0:\n",
        "    end = min(len(forecastHWM_), len(forecastX_HWM_))\n",
        "    print('modu', modu)\n",
        "    forecastHWM_    = forecastHWM_[0:end]\n",
        "    forecastX_HWM_  = forecastX_HWM_[0:end]        \n",
        "print('>>>Number of forecasts not calculated:', nfail)"
      ]
    },
    {
      "cell_type": "markdown",
      "metadata": {
        "id": "eB5eKYbltoWe"
      },
      "source": [
        "## AnMA Analog"
      ]
    },
    {
      "cell_type": "code",
      "source": [
        "for to,tt,tf in positions_test:\n",
        "  j=0\n",
        "  s=n_p\n",
        "  for i in range(tt,tf,1):\n",
        "    X_train = numpy.array(serie1[to+j:tt+j])\n",
        "    pred_, t_sel_, t_reg_, fail_, positions = analogo_knn(X_train, vsele=288, k = 10, tol = 0.8, typedist = 'pearson', typereg = 'PCR', verbose=False)\n",
        "    break"
      ],
      "metadata": {
        "id": "xzofrT84fO2v"
      },
      "execution_count": 45,
      "outputs": []
    },
    {
      "cell_type": "code",
      "source": [
        "n = len(X_train)\n",
        "Y = X_train[n - 288 : n]"
      ],
      "metadata": {
        "id": "9s5aRTMOfoqq"
      },
      "execution_count": 47,
      "outputs": []
    },
    {
      "cell_type": "code",
      "source": [
        "plt.figure(figsize=(10,5))\n",
        "plt.legend(['First line', 'Second line'])\n",
        "plt.plot([], [], label='$X_k$', c = 'cornflowerblue', alpha = 0.4)\n",
        "plt.plot([], [], '--', label='$X\\'_k$', c = 'orange', alpha = 0.4)\n",
        "for i in range(len(positions)):\n",
        "  serie = X_train[positions[i] : positions[i]+vsele]\n",
        "  serie2 = X_train[positions[i] + vsele : positions[i] + 2*vsele]\n",
        "  plt.plot(serie, c = 'cornflowerblue', alpha = 0.4)\n",
        "  plt.plot(range(vsele, vsele*2), serie2, '--', c = 'orange', alpha = 0.4)\n",
        "\n",
        "plt.plot(Y,label='Y', color='cornflowerblue', linewidth = 3)   \n",
        "plt.plot(range(vsele, vsele*2), pred_, label='$Y\\'$', color='mediumseagreen',linestyle='--', linewidth = 3)      \n",
        "\n",
        "plt.axvline(x = vsele, linestyle='--', c = 'k', linewidth = 1)\n",
        "\n",
        "plt.xlabel('Time (5 min)', fontsize = 16)\n",
        "plt.ylabel('Demand (MW)', fontsize = 16)\n",
        "plt.xticks(fontsize = 16)\n",
        "plt.yticks(fontsize = 16)\n",
        "\n",
        "plt.legend(bbox_to_anchor=(1, 0.7), fontsize = 16)\n",
        "plt.tight_layout()\n",
        "plt.savefig('neighbors_example.pdf')\n",
        "plt.show()"
      ],
      "metadata": {
        "id": "OnAWmpEtfwRf",
        "outputId": "723dff1a-91fe-4afb-faf8-fa9a7c83ab34",
        "colab": {
          "base_uri": "https://localhost:8080/",
          "height": 343
        }
      },
      "execution_count": 153,
      "outputs": [
        {
          "output_type": "display_data",
          "data": {
            "text/plain": [
              "<Figure size 720x360 with 1 Axes>"
            ],
            "image/png": "[encoded data removed]"
          },
          "metadata": {}
        }
      ]
    },
    {
      "cell_type": "code",
      "execution_count": null,
      "metadata": {
        "id": "m_V4YDtfFgwp"
      },
      "outputs": [],
      "source": [
        "timeAn_         = []\n",
        "forecastAn_     = []\n",
        "forecastAnMA_   = []\n",
        "forecastX_An_   = []\n",
        "forecastX_AnMA_ = []\n",
        "k               = 5          ## Number of nearest neighbors\n",
        "tol             = 0.8        ## Closest tolerance percentage between neighbors\n",
        "typedist        = 'pearson'  ## Distance betweeen neighbors: 'pearson' 'euclidian' 'lb_keogh' 'matrixprofile'\n",
        "typereg         = 'PCR'      ## Regression model: 'OLSstep' 'Boosting' 'Bagging' 'LinearReg' 'AdaBoost' 'BayesRidge' 'LassoReg' 'RidgeReg' 'PLS' 'PCR' 'VotingEnsemble' 'VotingLinear'\n",
        "n_p             = n_p        ## Number of periods per step\n",
        "nfail           = 0\n",
        "fail_           = False\n",
        "vsele           = vsele      ## Number of periods in a window\n",
        "\n",
        "for to,tt,tf in positions_test:\n",
        "    j=0\n",
        "    s=n_p\n",
        "    for i in range(tt,tf,1):\n",
        "        ## Analogue method parameters\n",
        "        X_train = numpy.array(serie1[to+j:tt+j])\n",
        "        t_o = time.time()\n",
        "        try:\n",
        "            pred_, t_sel_, t_reg_, fail_, positions = analogo_knn(X_train, vsele=vsele, k=k, tol=tol, typedist=typedist, typereg=typereg, verbose=False)\n",
        "        except:\n",
        "            print(\"!!! Error has occurred in the position:\",tt+j)\n",
        "        if fail_==True:              \n",
        "            nfail = nfail + 1\n",
        "            print(\">>> Persistence forecast in position:\",tt+j)\n",
        "        pred_list  = pred_.tolist() \n",
        "        forecastAn_ = forecastAn_ + pred_list[0:1]\n",
        "        print(j)\n",
        "        # Minimum error in the first forecast\n",
        "        if j >= 3 * n_p:\n",
        "            a = - 1 - min(j,vsele) \n",
        "            b = - 1\n",
        "            array1 = np.array(forecastAn_[a:b])\n",
        "            c = tt + j - min(j,vsele)\n",
        "            d = tt + j\n",
        "            array2 = np.array(serie1[c:d])                         \n",
        "            epsilon = np.subtract(array1,array2)  ## Errores del primer pronóstico\n",
        "            ar = AutoReg(epsilon, lags=int(n_p/2)).fit() ## Ajuste de los últimos n_p/2          \n",
        "            delta = ar.forecast(1)\n",
        "            MA_ = pred_list[0:1] - delta\n",
        "            forecastAnMA_.extend(MA_)\n",
        "            if s==n_p:\n",
        "                forecastX_An_   = forecastX_An_ + pred_list[0:n_p]\n",
        "                MA_ = pred_list[0:n_p] - delta\n",
        "                forecastX_AnMA_.extend(MA_)\n",
        "                s=0\n",
        "        else:\n",
        "            if s==n_p:\n",
        "                forecastX_An_   = forecastX_An_ + pred_list[0:n_p]\n",
        "                forecastX_AnMA_ = forecastX_An_\n",
        "                s=0\n",
        "            forecastAnMA_ = forecastAn_\n",
        "\n",
        "        timeAn_.append(time.time() - t_o)\n",
        "        j = j + 1\n",
        "        s = s + 1\n",
        "\n",
        "    modu=(tf-tt)%n_p\n",
        "    if modu != 0:\n",
        "        end=min(len(forecastAn_),len(forecastX_An_))\n",
        "        print('modu',modu)\n",
        "        forecastAn_     = forecastAn_[    0:end]\n",
        "        forecastAnMA_   = forecastAnMA_[  0:end]\n",
        "        forecastX_AnMA_ = forecastX_AnMA_[0:end]        \n",
        "        forecastX_An_   = forecastX_An_[  0:end]\n",
        "print('>>> Number of forecasts not calculated:', nfail)"
      ]
    },
    {
      "cell_type": "code",
      "execution_count": null,
      "metadata": {
        "id": "14IgL8qeFgwq"
      },
      "outputs": [],
      "source": [
        "date_i = df_5.reset_index().iloc[tt].Date\n",
        "print('analog:',typereg,typedist)"
      ]
    },
    {
      "cell_type": "code",
      "execution_count": null,
      "metadata": {
        "id": "KzEi2sWkFgwq"
      },
      "outputs": [],
      "source": [
        "df_results = pd.DataFrame({\n",
        "  'datetime'          : pd.date_range(date_i, periods=len(test_), freq=\"5T\"),\n",
        "  'Actual'            : test_,\n",
        "  # 'Persistence'       : forecastp_,\n",
        "  # 'An '    +typedist+'+'+typereg: forecastAn_,\n",
        "  # 'AnMA '  +typedist+'+'+typereg: forecastAnMA_,\n",
        "  # 'HWA '                         : forecastHWA_,\n",
        "  # 'HWM '                         : forecastHWM_,\n",
        "  # 'ARIMA '                       : forecastARIMA_,\n",
        "  'X_An '  +typedist+'+'+typereg: forecastX_An_,\n",
        "  'X_AnMA '+typedist+'+'+typereg: forecastX_AnMA_,\n",
        "  'X_HWA '                       : forecastX_HWA_,\n",
        "  'X_HWM '                       : forecastX_HWM_,\n",
        "  'X_ARIMA '                     : forecastX_ARIMA_,\n",
        "})\n",
        "df_results = df_results.set_index('datetime')\n",
        "\n",
        "## Save in csv files\n",
        "df_results.to_csv(namefile+'_'+serie+'_'+monthyear+'.csv')\n",
        "\n",
        "plt.figure(figsize=(40, 10))\n",
        "for c in df_results:\n",
        "  if c == 'Actual':\n",
        "    plt.plot(df_results[c], '--', label = c)\n",
        "  else:\n",
        "    plt.plot(df_results[c], label = c, alpha=0.8)\n",
        "plt.legend()\n",
        "plt.ylabel('demand (MW)')\n",
        "plt.savefig('series_'+monthyear+'.pdf')\n",
        "plt.show()"
      ]
    },
    {
      "cell_type": "markdown",
      "metadata": {
        "id": "Y5qesanVPNW3"
      },
      "source": []
    },
    {
      "cell_type": "code",
      "execution_count": null,
      "metadata": {
        "id": "h_86i3uHFgwq"
      },
      "outputs": [],
      "source": [
        "a=0; b=2000\n",
        "mae_p  = mean_absolute_error(test_[a:b],forecastp_[a:b])\n",
        "mape_p = mean_absolute_percentage_error(test_[a:b],forecastp_[a:b])\n",
        "bias_p = bias.bias(test_[a:b],forecastp_[a:b])\n",
        "\n",
        "mae_a  = mean_absolute_error(test_[a:b],forecastAn_)\n",
        "mape_a = mean_absolute_percentage_error(test_[a:b],forecastAn_[a:b])\n",
        "bias_a = bias.bias(test_[a:b],forecastAn_[a:b])\n",
        "\n",
        "mae_ma  = mean_absolute_error(test_[a:b],forecastAnMA_[a:b])\n",
        "mape_ma = mean_absolute_percentage_error(test_[a:b],forecastAnMA_[a:b])\n",
        "bias_ma = bias.bias(test_[a:b],forecastAnMA_[a:b])\n",
        "\n",
        "mae_xa  = mean_absolute_error(test_[a:b],forecastX_An_)\n",
        "mape_xa = mean_absolute_percentage_error(test_[a:b],forecastX_An_[a:b])\n",
        "bias_xa = bias.bias(test_[a:b],forecastX_An_[a:b])\n",
        "\n",
        "mae_xma  = mean_absolute_error(test_[a:b],forecastX_AnMA_)\n",
        "mape_xma = mean_absolute_percentage_error(test_[a:b],forecastX_AnMA_[a:b])\n",
        "bias_xma = bias.bias(test_[a:b],forecastX_AnMA_[a:b])\n",
        "\n",
        "mae_hwa  = mean_absolute_error(test_[a:b],forecastHWA_)\n",
        "mape_hwa = mean_absolute_percentage_error(test_[a:b],forecastHWA_[a:b])\n",
        "bias_hwa = bias.bias(test_[a:b],forecastHWA_[a:b])\n",
        "\n",
        "mae_xhwa  = mean_absolute_error(test_[a:b],forecastX_HWA_)\n",
        "mape_xhwa = mean_absolute_percentage_error(test_[a:b],forecastX_HWA_[a:b])\n",
        "bias_xhwa = bias.bias(test_[a:b],forecastX_HWA_[a:b])\n",
        "\n",
        "mae_hwm  = mean_absolute_error(test_[a:b],forecastHWM_)\n",
        "mape_hwm = mean_absolute_percentage_error(test_[a:b],forecastHWM_[a:b])\n",
        "bias_hwm = bias.bias(test_[a:b],forecastHWM_[a:b])\n",
        "\n",
        "mae_xhwm  = mean_absolute_error(test_[a:b],forecastX_HWM_)\n",
        "mape_xhwm = mean_absolute_percentage_error(test_[a:b],forecastX_HWM_[a:b])\n",
        "bias_xhwm = bias.bias(test_[a:b],forecastX_HWM_[a:b])\n",
        "\n",
        "mae_arima  = mean_absolute_error(test_[a:b],forecastX_ARIMA_)\n",
        "mape_arima  = mean_absolute_percentage_error(test_[a:b],forecastX_ARIMA_[a:b])\n",
        "bias_arima  = bias.bias(test_[a:b],forecastX_ARIMA_[a:b])\n",
        "\n",
        "mae_xarima  = mean_absolute_error(test_[a:b],forecastX_ARIMA_)\n",
        "mape_xarima = mean_absolute_percentage_error(test_[a:b],forecastX_ARIMA_[a:b])\n",
        "bias_xarima = bias.bias(test_[a:b],forecastX_ARIMA_[a:b])"
      ]
    },
    {
      "cell_type": "code",
      "execution_count": null,
      "metadata": {
        "id": "tFD4_sbIFgwr"
      },
      "outputs": [],
      "source": [
        "## One-period\n",
        "d      = typedist\n",
        "m      = typereg\n",
        "data   = [diff(test_,forecastp_), diff(test_,forecastAn_), diff(test_,forecastAnMA_),\n",
        "          diff(test_,forecastHWA_), diff(test_,forecastHWM_),\n",
        "          ]\n",
        "labels = ['Persistence', 'An\\n('+d+'+'+m+')', 'AnMA\\n('+d+'+'+m+')',\n",
        "                         'HWA',  'HWM',]\n",
        "fig, axes = plt.subplots(nrows=1, ncols=1, figsize=(8, 6))\n",
        "CYAN = '#76ced6' ; LILA = '#777bd4'; VERDE='#17cb49'; LETRASNARA ='#ff8000'; AZUL='#168fff'; OTROAZUL = \"b-\"; ROJO= \"#FF0000\"; # 'pink', 'lightblue', 'lightgreen',\n",
        "#plt.tick_params(colors = LETRASNARA, which='both')\n",
        "bplot1 = axes.boxplot(data,\n",
        "                      vert=True,          # vertical box alignment\n",
        "                      patch_artist=True,  # fill with color\n",
        "                      labels=labels,)     # will be used to label x-ticks\n",
        "#axes.set_title('Accuracy',fontsize='x-large',color = LETRASNARA)\n",
        "#plt.tick_params(colors = LETRASNARA, which='both')\n",
        "colors = ['pink', 'lightblue', 'lightgreen',LILA, AZUL] # fill with colors\n",
        "for patch, color in zip(bplot1['boxes'], colors):\n",
        "    patch.set_facecolor(color)\n",
        "axes.yaxis.grid(True) # adding horizontal grid lines\n",
        "#axes.set_xlabel('Configuraciones de red',fontsize='large',color = LETRASNARA)\n",
        "axes.set_ylabel('')\n",
        "namefile = 'boxplot_'+monthyear+'.pdf'\n",
        "plt.savefig(namefile, transparent=True)\n",
        "plt.show()"
      ]
    },
    {
      "cell_type": "code",
      "execution_count": null,
      "metadata": {
        "id": "jCQs-f1UAXbo"
      },
      "outputs": [],
      "source": [
        "## Multi-period\n",
        "d      = typedist\n",
        "m      = typereg\n",
        "data   = [ diff(test_,forecastX_An_), diff(test_,forecastX_AnMA_), \n",
        "          diff(test_,forecastX_HWA_), diff(test_,forecastX_HWM_),\n",
        "           diff(test_,forecastX_ARIMA_), #diff(test_,forecastARIMA_),\n",
        "          ]\n",
        "labels = [ 'X_An\\n('+d+'+'+m+')', 'X_AnMA\\n('+d+'+'+m+')',\n",
        "                          'X_HWA',  'X_HWM', 'X_ARIMA',]\n",
        "fig, axes = plt.subplots(nrows=1, ncols=1, figsize=(8, 6))\n",
        "CYAN = '#76ced6' ; LILA = '#777bd4'; VERDE='#17cb49'; LETRASNARA ='#ff8000'; AZUL='#168fff'; OTROAZUL = \"b-\"; ROJO= \"#FF0000\"; # 'pink', 'lightblue', 'lightgreen',\n",
        "#plt.tick_params(colors = LETRASNARA, which='both')\n",
        "bplot1 = axes.boxplot(data,\n",
        "                      vert=True,          # vertical box alignment\n",
        "                      patch_artist=True,  # fill with color\n",
        "                      labels=labels,)     # will be used to label x-ticks\n",
        "#axes.set_title('Accuracy',fontsize='x-large',color = LETRASNARA)\n",
        "#plt.tick_params(colors = LETRASNARA, which='both')\n",
        "colors = ['pink', 'lightblue', 'lightgreen',LILA, AZUL] # fill with colors\n",
        "for patch, color in zip(bplot1['boxes'], colors):\n",
        "    patch.set_facecolor(color)\n",
        "axes.yaxis.grid(True) # adding horizontal grid lines\n",
        "#axes.set_xlabel('Configuraciones de red',fontsize='large',color = LETRASNARA)\n",
        "axes.set_ylabel('')\n",
        "namefile = 'boxplot_'+monthyear+'.pdf'\n",
        "plt.savefig(namefile, transparent=True)\n",
        "plt.show()"
      ]
    },
    {
      "cell_type": "code",
      "execution_count": null,
      "metadata": {
        "id": "MzczX8evFgwr"
      },
      "outputs": [],
      "source": [
        "plt.plot(timeAn_, label=\"AnMA\")\n",
        "plt.plot(timeHWA_, label=\"HWA\")\n",
        "plt.plot(timeHWM_, label=\"HWM\")\n",
        "plt.plot(timeARIMA_, label=\"ARIMA\")\n",
        "plt.ylabel('compute seconds')\n",
        "plt.xlabel('time')\n",
        "plt.legend(loc=\"upper left\")\n",
        "\n",
        "print('time_'+monthyear+'.pdf',((np.mean(timeAn_)*8723)/60)/60 )\n",
        "\n",
        "namefile = 'timeAn_'+monthyear+'.pdf'\n",
        "plt.savefig(namefile, transparent=True)"
      ]
    },
    {
      "cell_type": "code",
      "execution_count": null,
      "metadata": {
        "id": "Qz_JmeMgFgwr"
      },
      "outputs": [],
      "source": [
        "df_resultados = pd.DataFrame([\n",
        "  {\n",
        "    'method': 'Persistence',\n",
        "    'mape'  : mape_p,\n",
        "    'mae'   : mae_p, # Conviene normalizar esto (o quitarlo porque normalizado es como el mape)\n",
        "    'bias'  : bias_p # Conviene normalizar esto\n",
        "  },\n",
        "  {\n",
        "    'method': 'An \\n'+d+'+'+m,\n",
        "    'mape'  : mape_a,\n",
        "    'mae'   : mae_a, \n",
        "    'bias'  : bias_a \n",
        "  },\n",
        "  {\n",
        "    'method': 'AnMA \\n'+d+'+'+m,\n",
        "    'mape'  : mape_ma,\n",
        "    'mae'   : mae_ma,\n",
        "    'bias'  : bias_ma \n",
        "  },\n",
        "  {\n",
        "    'method': 'HWA\\n',\n",
        "    'mape'  : mape_hwa,\n",
        "    'mae'   : mae_hwa,\n",
        "    'bias'  : bias_hwa\n",
        "  }, \n",
        "  {\n",
        "    'method': 'HWM\\n',\n",
        "    'mape'  : mape_hwm,\n",
        "    'mae'   : mae_hwm,\n",
        "    'bias'  : bias_hwm\n",
        "  }, \n",
        "  {\n",
        "    'method': 'X_An \\n'+d+'+'+m,\n",
        "    'mape'  : mape_xa,\n",
        "    'mae'   : mae_xa,\n",
        "    'bias'  : bias_xa \n",
        "  },  \n",
        "  {\n",
        "    'method': 'X_AnMA \\n'+d+'+'+m,\n",
        "    'mape'  : mape_xma,\n",
        "    'mae'   : mae_xma,\n",
        "    'bias'  : bias_xma\n",
        "  }, \n",
        "  {\n",
        "    'method': 'X_HWA\\n',\n",
        "    'mape'  : mape_xhwa,\n",
        "    'mae'   : mae_xhwa,\n",
        "    'bias'  : bias_xhwa\n",
        "  },\n",
        "  {\n",
        "    'method': 'X_HWM\\n',\n",
        "    'mape'  : mape_xhwm,\n",
        "    'mae'   : mae_xhwm,\n",
        "    'bias'  : bias_xhwm\n",
        "  },\n",
        "  # {\n",
        "  #   'method': 'X_ARIMA\\n',\n",
        "  #   'mape'  : mape_xarima,\n",
        "  #   'mae'   : mae_xarima,\n",
        "  #   'bias'  : bias_xarima\n",
        "  # },\n",
        "\n",
        "  # etc.\n",
        "])\n",
        "categories = df_resultados.method\n",
        "N = len(categories)\n",
        "\n",
        "fig = plt.figure()\n",
        "ax = fig.add_subplot(111, projection=\"polar\")\n",
        "\n",
        "theta = np.arange(len(df_resultados) + 1) / float(len(df_resultados)) * 2 * np.pi\n",
        "\n",
        "values = df_resultados.mape.values\n",
        "values = np.append(values, values[0])\n",
        "values = values + abs(min(values))\n",
        "values = values / max(values)\n",
        "ax.plot(theta, values, label=\"MAPE\")\n",
        "\n",
        "values = df_resultados.bias.values\n",
        "values = np.append(values, values[0])\n",
        "values = values + abs(min(values))\n",
        "values = values / max(values)\n",
        "ax.plot(theta, values, label=\"Bias\")\n",
        "\n",
        "plt.xticks(theta[:-1], df_resultados.method, color='grey', size=12)\n",
        "plt.yticks([0.25, 0.50, 0.75], ['0.25', '0.50', '0.75'], color=\"grey\", size=9)\n",
        "ax.tick_params(pad=10) # to increase the distance of the labels to the plot\n",
        "\n",
        "plt.legend(loc='center right', bbox_to_anchor=(0.1, 0.15))\n",
        "\n",
        "namefile = 'polar_'+monthyear+'.pdf'\n",
        "plt.savefig(namefile, transparent=True)\n",
        "plt.show()"
      ]
    },
    {
      "cell_type": "markdown",
      "metadata": {
        "id": "Q7j41VGHG6eO"
      },
      "source": [
        "# References\n",
        "\n",
        "*   Jason Brownlee. Deep Learning for Time Series Forecasting: Predict the Future with MLPs, CNNs and LSTMs in Python, (book) "
      ]
    },
    {
      "cell_type": "markdown",
      "metadata": {
        "id": "y4IaaVa4OnsM"
      },
      "source": [
        "# To-do\n",
        "\n",
        "* [ ] Prueba estadística para ver diferencia significativa entre An y AnMA\n",
        "* [ ] Ajustar el ARIMA\n",
        "* [ ] Dividir el radial de BIAS y los MAPE en los multi periodo y uni período (pasar a bar plots)\n",
        "* [ ] Almacenar los resultados en csv\n",
        "* [ ] Violin plots de error\n",
        "* [ ] LSTM"
      ]
    }
  ],
  "metadata": {
    "colab": {
      "name": "Analog.ipynb",
      "provenance": [],
      "include_colab_link": true
    },
    "kernelspec": {
      "display_name": "Python 3.10.4 ('ds')",
      "language": "python",
      "name": "python3"
    },
    "language_info": {
      "codemirror_mode": {
        "name": "ipython",
        "version": 3
      },
      "file_extension": ".py",
      "mimetype": "text/x-python",
      "name": "python",
      "nbconvert_exporter": "python",
      "pygments_lexer": "ipython3",
      "version": "3.10.4"
    },
    "vscode": {
      "interpreter": {
        "hash": "73cfb11ebb5098915952b858e6200bb38d79de5587d8fc0575441f97863c5189"
      }
    }
  },
  "nbformat": 4,
  "nbformat_minor": 0
}