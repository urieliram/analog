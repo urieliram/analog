{
  "nbformat": 4,
  "nbformat_minor": 0,
  "metadata": {
    "colab": {
      "provenance": [],
      "authorship_tag": "ABX9TyONDlR6EQZd7bEr7VFxq7KZ",
      "include_colab_link": true
    },
    "kernelspec": {
      "name": "python3",
      "display_name": "Python 3"
    },
    "language_info": {
      "name": "python"
    }
  },
  "cells": [
    {
      "cell_type": "markdown",
      "metadata": {
        "id": "view-in-github",
        "colab_type": "text"
      },
      "source": [
        "<a href=\"https://colab.research.google.com/github/urieliram/analog/blob/main/test.ipynb\" target=\"_parent\"><img src=\"https://colab.research.google.com/assets/colab-badge.svg\" alt=\"Open In Colab\"/></a>"
      ]
    },
    {
      "cell_type": "code",
      "execution_count": null,
      "metadata": {
        "id": "0zSoYBhLNeSp"
      },
      "outputs": [],
      "source": [
        "for item in 'ABCDEFG':\n",
        "print(item)"
      ]
    },
    {
      "cell_type": "code",
      "source": [
        "print('Line 2')"
      ],
      "metadata": {
        "id": "4w98klMjNmen"
      },
      "execution_count": null,
      "outputs": []
    }
  ]
}