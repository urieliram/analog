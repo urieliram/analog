{
  "nbformat": 4,
  "nbformat_minor": 0,
  "metadata": {
    "colab": {
      "provenance": [],
      "authorship_tag": "ABX9TyM+P7DgOY4KWmWgc01jMNzz",
      "include_colab_link": true
    },
    "kernelspec": {
      "name": "python3",
      "display_name": "Python 3"
    },
    "language_info": {
      "name": "python"
    }
  },
  "cells": [
    {
      "cell_type": "markdown",
      "metadata": {
        "id": "view-in-github",
        "colab_type": "text"
      },
      "source": [
        "<a href=\"https://colab.research.google.com/github/urieliram/analog/blob/main/ANOVA_two_ways.ipynb\" target=\"_parent\"><img src=\"https://colab.research.google.com/assets/colab-badge.svg\" alt=\"Open In Colab\"/></a>"
      ]
    },
    {
      "cell_type": "code",
      "source": [
        "import numpy as np\n",
        "import pandas as pd\n",
        "import statsmodels.api as sm\n",
        "from statsmodels.formula.api import ols\n",
        "\n",
        "data={'pearson':['0','0','0','0','0','0','0','1','1','1','1','1','1','1','1','0','0','0','0','0','0','0','1','1','1','1','1','1','1','1'],\n",
        "      'MA':['0','0','0','0','0','0','0','0','0','0','0','0','0','0','0','1','1','1','1','1','1','1','1','1','1','1','1','1','1','1'],\n",
        "      'Linear':['0','1','0','0','1','1','1','0','0','0','1','1','1','1','1','1','1','1','0','0','0','1','1','1','1','1','0','0','0','1'],\n",
        "      'MAPE':[1.03E+00,1.04E+00,1.04E+00,1.07E+00,1.27E+00,1.27E+00,1.35E+00,8.34E-01,8.35E-01,8.62E-01,1.11E+00,1.11E+00,1.16E+00,1.19E+00,1.30E+00,3.25E-01,3.25E-01,3.29E-01,4.58E-01,5.33E-01,5.54E-01,1.04E+00,2.51E-01,2.89E-01,2.89E-01,3.03E-01,3.90E-01,4.54E-01,4.69E-01,1.16E+00] \n",
        "      }\n",
        "df = pd.DataFrame(data)\n",
        "\n",
        "#view first ten rows of data \n",
        "print(df[:30])\n",
        "\n",
        "#perform two-way ANOVA five minutes\n",
        "model = ols('MAPE ~ C(MA) + C(pearson)+ C(Linear) + C(MA):C(pearson) + C(Linear):C(pearson) + C(Linear):C(MA)', data=df).fit()\n",
        "sm.stats.anova_lm(model, typ=2)\n",
        "print(sm.stats.anova_lm(model, typ=2))# Type 2 Anova DataFrame\n"
      ],
      "metadata": {
        "colab": {
          "base_uri": "https://localhost:8080/"
        },
        "id": "ty3WO84Qc41P",
        "outputId": "9ef8b994-9d92-4505-8fad-2085db60fb98"
      },
      "execution_count": 35,
      "outputs": [
        {
          "output_type": "stream",
          "name": "stdout",
          "text": [
            "   pearson MA Linear   MAPE\n",
            "0        0  0      0  1.030\n",
            "1        0  0      1  1.040\n",
            "2        0  0      0  1.040\n",
            "3        0  0      0  1.070\n",
            "4        0  0      1  1.270\n",
            "5        0  0      1  1.270\n",
            "6        0  0      1  1.350\n",
            "7        1  0      0  0.834\n",
            "8        1  0      0  0.835\n",
            "9        1  0      0  0.862\n",
            "10       1  0      1  1.110\n",
            "11       1  0      1  1.110\n",
            "12       1  0      1  1.160\n",
            "13       1  0      1  1.190\n",
            "14       1  0      1  1.300\n",
            "15       0  1      1  0.325\n",
            "16       0  1      1  0.325\n",
            "17       0  1      1  0.329\n",
            "18       0  1      0  0.458\n",
            "19       0  1      0  0.533\n",
            "20       0  1      0  0.554\n",
            "21       0  1      1  1.040\n",
            "22       1  1      1  0.251\n",
            "23       1  1      1  0.289\n",
            "24       1  1      1  0.289\n",
            "25       1  1      1  0.303\n",
            "26       1  1      0  0.390\n",
            "27       1  1      0  0.454\n",
            "28       1  1      0  0.469\n",
            "29       1  1      1  1.160\n",
            "                        sum_sq    df          F        PR(>F)\n",
            "C(MA)                 2.884240   1.0  60.706908  6.727692e-08\n",
            "C(pearson)            0.057367   1.0   1.207440  2.832095e-01\n",
            "C(Linear)             0.128182   1.0   2.697940  1.140814e-01\n",
            "C(MA):C(pearson)      0.006238   1.0   0.131301  7.203950e-01\n",
            "C(Linear):C(pearson)  0.013789   1.0   0.290218  5.952569e-01\n",
            "C(Linear):C(MA)       0.117048   1.0   2.463593  1.301685e-01\n",
            "Residual              1.092751  23.0        NaN           NaN\n"
          ]
        }
      ]
    },
    {
      "cell_type": "code",
      "source": [
        "dataX={'pearson':['1','1','1','1','0','0','0','1','1','1','1','1','1','1','1','1','0','0','0','0','0','0','1','1','1','0','0','0','0','0'],\n",
        "      'MA':['1','1','1','1','1','1','1','0','0','1','0','1','0','1','1','0','0','0','0','1','1','1','0','0','0','1','0','0','0','0'],\n",
        "      'Linear':['1','1','1','1','1','1','1','1','1','0','1','1','1','0','0','1','1','1','0','1','0','0','0','0','0','1','1','1','0','0'],\n",
        "      'MAPE':[1.13E+00,1.20E+00,1.20E+00,1.20E+00,1.30E+00,1.30E+00,1.31E+00,1.76E+00,1.76E+00,1.77E+00,1.78E+00,1.78E+00,1.78E+00,1.79E+00,1.80E+00,1.89E+00,1.98E+00,1.98E+00,1.98E+00,1.99E+00,2.01E+00,2.03E+00,2.21E+00,2.22E+00,2.23E+00,2.56E+00,2.56E+00,2.56E+00,2.56E+00,2.57E+00] \n",
        "      }\n",
        "dfX = pd.DataFrame(dataX)\n",
        "\n",
        "#view first ten rows of data \n",
        "print(df[:30])\n",
        "\n",
        "#perform two-way ANOVA two hors and half minutes \n",
        "model = ols('MAPE ~ C(MA) + C(pearson)+ C(Linear) + C(MA):C(pearson) + C(Linear):C(pearson) + C(Linear):C(MA)', data=dfX).fit()\n",
        "sm.stats.anova_lm(model, typ=2)\n",
        "print(sm.stats.anova_lm(model, typ=2))# Type 2 Anova DataFrame"
      ],
      "metadata": {
        "colab": {
          "base_uri": "https://localhost:8080/"
        },
        "id": "BrKahYpMHrB6",
        "outputId": "816059bb-de71-49ac-bf6e-728566b9e91c"
      },
      "execution_count": 38,
      "outputs": [
        {
          "output_type": "stream",
          "name": "stdout",
          "text": [
            "   pearson MA Linear   MAPE\n",
            "0        0  0      0  1.030\n",
            "1        0  0      1  1.040\n",
            "2        0  0      0  1.040\n",
            "3        0  0      0  1.070\n",
            "4        0  0      1  1.270\n",
            "5        0  0      1  1.270\n",
            "6        0  0      1  1.350\n",
            "7        1  0      0  0.834\n",
            "8        1  0      0  0.835\n",
            "9        1  0      0  0.862\n",
            "10       1  0      1  1.110\n",
            "11       1  0      1  1.110\n",
            "12       1  0      1  1.160\n",
            "13       1  0      1  1.190\n",
            "14       1  0      1  1.300\n",
            "15       0  1      1  0.325\n",
            "16       0  1      1  0.325\n",
            "17       0  1      1  0.329\n",
            "18       0  1      0  0.458\n",
            "19       0  1      0  0.533\n",
            "20       0  1      0  0.554\n",
            "21       0  1      1  1.040\n",
            "22       1  1      1  0.251\n",
            "23       1  1      1  0.289\n",
            "24       1  1      1  0.289\n",
            "25       1  1      1  0.303\n",
            "26       1  1      0  0.390\n",
            "27       1  1      0  0.454\n",
            "28       1  1      0  0.469\n",
            "29       1  1      1  1.160\n",
            "                        sum_sq    df          F    PR(>F)\n",
            "C(MA)                 1.731051   1.0  18.310849  0.000281\n",
            "C(pearson)            0.867707   1.0   9.178505  0.005961\n",
            "C(Linear)             0.799488   1.0   8.456889  0.007922\n",
            "C(MA):C(pearson)      0.001129   1.0   0.011945  0.913920\n",
            "C(Linear):C(pearson)  0.102872   1.0   1.088166  0.307719\n",
            "C(Linear):C(MA)       0.031532   1.0   0.333543  0.569192\n",
            "Residual              2.174348  23.0        NaN       NaN\n"
          ]
        }
      ]
    },
    {
      "cell_type": "markdown",
      "source": [],
      "metadata": {
        "id": "7FV8c59RCpVa"
      }
    }
  ]
}