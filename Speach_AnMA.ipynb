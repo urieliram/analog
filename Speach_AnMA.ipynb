{
  "nbformat": 4,
  "nbformat_minor": 0,
  "metadata": {
    "colab": {
      "provenance": [],
      "authorship_tag": "ABX9TyPobldxkttXTHGSlAVZJl0F",
      "include_colab_link": true
    },
    "kernelspec": {
      "name": "python3",
      "display_name": "Python 3"
    },
    "language_info": {
      "name": "python"
    }
  },
  "cells": [
    {
      "cell_type": "markdown",
      "metadata": {
        "id": "view-in-github",
        "colab_type": "text"
      },
      "source": [
        "<a href=\"https://colab.research.google.com/github/urieliram/analog/blob/main/Speach_AnMA.ipynb\" target=\"_parent\"><img src=\"https://colab.research.google.com/assets/colab-badge.svg\" alt=\"Open In Colab\"/></a>"
      ]
    },
    {
      "cell_type": "code",
      "execution_count": 53,
      "metadata": {
        "colab": {
          "base_uri": "https://localhost:8080/"
        },
        "id": "m2ULOXp05xKJ",
        "outputId": "eef850fc-df9f-47f1-9fe7-15dcc90ba83f"
      },
      "outputs": [
        {
          "output_type": "stream",
          "name": "stdout",
          "text": [
            "Looking in indexes: https://pypi.org/simple, https://us-python.pkg.dev/colab-wheels/public/simple/\n",
            "Requirement already satisfied: gTTS in /usr/local/lib/python3.8/dist-packages (2.3.1)\n",
            "Requirement already satisfied: click<8.2,>=7.1 in /usr/local/lib/python3.8/dist-packages (from gTTS) (7.1.2)\n",
            "Requirement already satisfied: requests<3,>=2.27 in /usr/local/lib/python3.8/dist-packages (from gTTS) (2.28.2)\n",
            "Requirement already satisfied: idna<4,>=2.5 in /usr/local/lib/python3.8/dist-packages (from requests<3,>=2.27->gTTS) (2.10)\n",
            "Requirement already satisfied: urllib3<1.27,>=1.21.1 in /usr/local/lib/python3.8/dist-packages (from requests<3,>=2.27->gTTS) (1.24.3)\n",
            "Requirement already satisfied: certifi>=2017.4.17 in /usr/local/lib/python3.8/dist-packages (from requests<3,>=2.27->gTTS) (2022.12.7)\n",
            "Requirement already satisfied: charset-normalizer<4,>=2 in /usr/local/lib/python3.8/dist-packages (from requests<3,>=2.27->gTTS) (2.1.1)\n"
          ]
        }
      ],
      "source": [
        "#Text2Speech\n",
        "!pip install gTTS"
      ]
    },
    {
      "cell_type": "code",
      "source": [
        "mytext = 'Hello, thanks for listening.  '+\\\n",
        "'I will talk about our work:  '+\\\n",
        "'A fast and efficient very short-term load forecast using statistics tools. '+\\\n",
        "'The method is inspired by the well-known Analogue algorithm brought from climatology, with a moving average component, and is built in four phases: '+\\\n",
        "'1. Selection of neighbors with high similarity '+\\\n",
        "'2. Regression between neighbors and recent data '+\\\n",
        "'3. Calculation of the baseline forecast '+\\\n",
        "'4. Correction of the baseline and calculation of the final forecasting  '+\\\n",
        "'1. The selection of neighbors with high similarity consists of a search of a number k of subsequences within the time series, choosing those with the highest correlation between the most recent data and the historical data. The best results have been achieved with Pearsons correlation coefficient as a similitude measure.  '+\\\n",
        "'2. The regression between neighbors and recent data leads to a Principal Component Regression P.C.R model that explains the behavior of the latest data from the k most correlated neighbors. P-C-R, Lasso, and Ridge had the best results among the regression models tested.  '+\\\n",
        "'3. We compute a first forecast by inputting the immediate subsequent data of each neighbor to the PCR regression model. The output of the P-C-R model is the baseline forecast.  '+\\\n",
        "'This is the end of our version of the analogue method that obtains a baseline forecast every five minutes. However, the baseline forecast is prone to bias and cannot adapt to sudden changes in demand. So now we will see the correction with the component in the last phase.  '+\\\n",
        "'4. The baseline correction and final forecast calculation consist of calculating the real-time bias of the baseline forecast errors using a moving average model. Then, the bias is added to the baseline forecast to obtain the final forecast.  '+\\\n",
        "'We tested the method by simulating the calculation of a whole summers real-time forecast every five minutes and two and a half hours multi-step at five-minute intervals with real-life load demand data.  '+\\\n",
        "'A-n-M-A proved faster and more accurate than other benchmarks, such as additive and multiplicative Holt-winters. It also performed better than the Persistent model. However, the ARMA model was more accurate, with a difference of 0.20 in mean absolute percent error. Furthermore, AnMA obtained its results in a dramatically shorter time of 4 seconds versus 16 seconds for ARMA. In addition, the computational economy of the AnMA method was very remarkable, with extraordinary results, using only one core of CPU and draws xx.xx kilo-watts.hour. as opposed to the ARMA model with eight cores and draws xx.xx kilo-watts.hour.  '+\\\n",
        "'In conclusion, the A-n-M-A method is a highly efficient and accurate solution for forecasting in real-time electricity markets. It boasts a remarkable calculation speed and can rival the accuracy of the best benchmarks. Furthermore, it has proven to be a computationally inexpensive algorithm falling into the \"green algorithms\" category. The AnMA method is the ideal combination of speed and accuracy, making it a highly desirable solution for electricity market forecasting. '+\\\n",
        "'The A-n-M-A method provides a basic framework that can be adapted to the specific needs of each forecasted series. Changing certain components, such as similarity measures and regression models, even the correction model to others, such as the Kalman filter. Hence improved results can be obtained. This makes the AnMA method a versatile tool tailored to different forecasting situations. '"
      ],
      "metadata": {
        "id": "0WsHs1sUBDXi"
      },
      "execution_count": 54,
      "outputs": []
    },
    {
      "cell_type": "code",
      "source": [
        "# Import the required module for text\n",
        "# to speech conversion\n",
        "from gtts import gTTS\n",
        "\n",
        "# This module is imported so that we can\n",
        "# play the converted audio\n",
        "import os\n",
        "\n",
        "# The text that you want to convert to audio\n",
        "mytext = mytext\n",
        "\n",
        "# Language in which you want to convert\n",
        "language = 'en'\n",
        "\n",
        "# Passing the text and language to the engine,\n",
        "# here we have marked slow=False. Which tells\n",
        "# the module that the converted audio should\n",
        "# have a high speed\n",
        "myobj = gTTS(text=mytext, lang=language, tld='us', slow=False) #co.uk tld='com.au', us\n",
        "\n",
        "# Saving the converted audio in a mp3 file named\n",
        "# welcome\n",
        "myobj.save(\"speachAnMAv0.mp3\")\n",
        "\n",
        "# Playing the converted file\n",
        "os.system(\"mpg321 speachAnMAv0.mp3\")\n"
      ],
      "metadata": {
        "colab": {
          "base_uri": "https://localhost:8080/"
        },
        "id": "c4w-bJk8A129",
        "outputId": "bcffbeec-38ec-4496-a4e7-d7bccd0bbcf7"
      },
      "execution_count": 55,
      "outputs": [
        {
          "output_type": "execute_result",
          "data": {
            "text/plain": [
              "32512"
            ]
          },
          "metadata": {},
          "execution_count": 55
        }
      ]
    }
  ]
}