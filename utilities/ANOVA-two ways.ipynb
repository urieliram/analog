{
  "nbformat": 4,
  "nbformat_minor": 0,
  "metadata": {
    "colab": {
      "provenance": [],
      "authorship_tag": "ABX9TyMDJqxiEQWh4nILY5Al2Xsr",
      "include_colab_link": true
    },
    "kernelspec": {
      "name": "python3",
      "display_name": "Python 3"
    },
    "language_info": {
      "name": "python"
    }
  },
  "cells": [
    {
      "cell_type": "markdown",
      "metadata": {
        "id": "view-in-github",
        "colab_type": "text"
      },
      "source": [
        "<a href=\"https://colab.research.google.com/github/urieliram/analog/blob/main/ANOVA-two%20ways.ipynb\" target=\"_parent\"><img src=\"https://colab.research.google.com/assets/colab-badge.svg\" alt=\"Open In Colab\"/></a>"
      ]
    },
    {
      "cell_type": "code",
      "execution_count": 1,
      "metadata": {
        "colab": {
          "base_uri": "https://localhost:8080/"
        },
        "id": "Abr3goL4clhk",
        "outputId": "3faff07b-393a-4574-d47e-186e107fe0f8"
      },
      "outputs": [
        {
          "output_type": "stream",
          "name": "stdout",
          "text": [
            "                                              sum_sq    df          F  \\\n",
            "C(fcategory, Sum)                          11.614700   2.0   0.276958   \n",
            "C(partner_status, Sum)                    212.213778   1.0  10.120692   \n",
            "C(fcategory, Sum):C(partner_status, Sum)  175.488928   2.0   4.184623   \n",
            "Residual                                  817.763961  39.0        NaN   \n",
            "\n",
            "                                            PR(>F)  \n",
            "C(fcategory, Sum)                         0.759564  \n",
            "C(partner_status, Sum)                    0.002874  \n",
            "C(fcategory, Sum):C(partner_status, Sum)  0.022572  \n",
            "Residual                                       NaN  \n"
          ]
        }
      ],
      "source": [
        "import statsmodels.api as sm\n",
        "from statsmodels.formula.api import ols\n",
        "moore = sm.datasets.get_rdataset(\"Moore\", \"carData\", cache=True) # load\n",
        "data = moore.data\n",
        "data = data.rename(columns={\"partner.status\" : \"partner_status\"}) # make name pythonic\n",
        "moore_lm = ols('conformity ~ C(fcategory, Sum)*C(partner_status, Sum)',                data=data).fit()\n",
        "table = sm.stats.anova_lm(moore_lm, typ=2) # Type 2 Anova DataFrame\n",
        "print(table)"
      ]
    },
    {
      "cell_type": "code",
      "source": [
        "import numpy as np\n",
        "import pandas as pd\n",
        "\n",
        "data={'pearson':['0','0','0','0','0','0','0','1','1','1','1','1','1','1','1','0','0','0','0','0','0','0','1','1','1','1','1','1','1','1'],\n",
        "      'MA':['0','0','0','0','0','0','0','0','0','0','0','0','0','0','0','1','1','1','1','1','1','1','1','1','1','1','1','1','1','1'],\n",
        "      'MAPE':[1.03E+00,1.04E+00,1.04E+00,1.07E+00,1.27E+00,1.27E+00,1.35E+00,8.34E-01,8.35E-01,8.62E-01,1.11E+00,1.11E+00,1.16E+00,1.19E+00,1.30E+00,3.25E-01,3.25E-01,3.29E-01,4.58E-01,5.33E-01,5.54E-01,1.04E+00,2.51E-01,2.89E-01,2.89E-01,3.03E-01,3.90E-01,4.54E-01,4.69E-01,1.16E+00] \n",
        "      }\n",
        "df = pd.DataFrame(data)\n",
        "\n",
        "#view first ten rows of data \n",
        "print(df[:30])\n",
        "import statsmodels.api as sm\n",
        "from statsmodels.formula.api import ols\n",
        "\n",
        "#perform two-way ANOVA five minutes \n",
        "model = ols('MAPE ~ C(MA) + C(pearson) + C(MA):C(pearson)', data=df).fit()\n",
        "sm.stats.anova_lm(model, typ=2)\n",
        "print(sm.stats.anova_lm(model, typ=2))# Type 2 Anova DataFrame\n"
      ],
      "metadata": {
        "colab": {
          "base_uri": "https://localhost:8080/"
        },
        "id": "ty3WO84Qc41P",
        "outputId": "f4e78915-8e10-405e-f7b3-f9128bda2eb8"
      },
      "execution_count": 26,
      "outputs": [
        {
          "output_type": "stream",
          "name": "stdout",
          "text": [
            "   pearson MA   MAPE\n",
            "0        0  0  1.030\n",
            "1        0  0  1.040\n",
            "2        0  0  1.040\n",
            "3        0  0  1.070\n",
            "4        0  0  1.270\n",
            "5        0  0  1.270\n",
            "6        0  0  1.350\n",
            "7        1  0  0.834\n",
            "8        1  0  0.835\n",
            "9        1  0  0.862\n",
            "10       1  0  1.110\n",
            "11       1  0  1.110\n",
            "12       1  0  1.160\n",
            "13       1  0  1.190\n",
            "14       1  0  1.300\n",
            "15       0  1  0.325\n",
            "16       0  1  0.325\n",
            "17       0  1  0.329\n",
            "18       0  1  0.458\n",
            "19       0  1  0.533\n",
            "20       0  1  0.554\n",
            "21       0  1  1.040\n",
            "22       1  1  0.251\n",
            "23       1  1  0.289\n",
            "24       1  1  0.289\n",
            "25       1  1  0.303\n",
            "26       1  1  0.390\n",
            "27       1  1  0.454\n",
            "28       1  1  0.469\n",
            "29       1  1  1.160\n",
            "                    sum_sq    df          F        PR(>F)\n",
            "C(MA)             2.884240   1.0  55.475657  6.576953e-08\n",
            "C(pearson)        0.048536   1.0   0.933549  3.428443e-01\n",
            "C(MA):C(pearson)  0.003649   1.0   0.070188  7.931523e-01\n",
            "Residual          1.351768  26.0        NaN           NaN\n"
          ]
        }
      ]
    },
    {
      "cell_type": "markdown",
      "source": [],
      "metadata": {
        "id": "7FV8c59RCpVa"
      }
    }
  ]
}