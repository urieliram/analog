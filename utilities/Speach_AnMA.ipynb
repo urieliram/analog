{
  "cells": [
    {
      "cell_type": "markdown",
      "metadata": {
        "colab_type": "text",
        "id": "view-in-github"
      },
      "source": [
        "<a href=\"https://colab.research.google.com/github/urieliram/analog/blob/main/Speach_AnMA.ipynb\" target=\"_parent\"><img src=\"https://colab.research.google.com/assets/colab-badge.svg\" alt=\"Open In Colab\"/></a>"
      ]
    },
    {
      "cell_type": "code",
      "execution_count": 1,
      "metadata": {
        "colab": {
          "base_uri": "https://localhost:8080/"
        },
        "id": "m2ULOXp05xKJ",
        "outputId": "cc4b35b9-dc72-41d0-f41e-c56c0d7bc5af"
      },
      "outputs": [
        {
          "name": "stdout",
          "output_type": "stream",
          "text": [
            "Requirement already satisfied: gTTS in c:\\users\\user\\miniconda3\\envs\\ds\\lib\\site-packages (2.3.1)\n",
            "Requirement already satisfied: requests<3,>=2.27 in c:\\users\\user\\miniconda3\\envs\\ds\\lib\\site-packages (from gTTS) (2.28.2)\n",
            "Requirement already satisfied: click<8.2,>=7.1 in c:\\users\\user\\miniconda3\\envs\\ds\\lib\\site-packages (from gTTS) (8.1.3)\n",
            "Requirement already satisfied: colorama in c:\\users\\user\\miniconda3\\envs\\ds\\lib\\site-packages (from click<8.2,>=7.1->gTTS) (0.4.6)\n",
            "Requirement already satisfied: charset-normalizer<4,>=2 in c:\\users\\user\\miniconda3\\envs\\ds\\lib\\site-packages (from requests<3,>=2.27->gTTS) (2.1.1)\n",
            "Requirement already satisfied: idna<4,>=2.5 in c:\\users\\user\\miniconda3\\envs\\ds\\lib\\site-packages (from requests<3,>=2.27->gTTS) (3.4)\n",
            "Requirement already satisfied: urllib3<1.27,>=1.21.1 in c:\\users\\user\\miniconda3\\envs\\ds\\lib\\site-packages (from requests<3,>=2.27->gTTS) (1.26.14)\n",
            "Requirement already satisfied: certifi>=2017.4.17 in c:\\users\\user\\miniconda3\\envs\\ds\\lib\\site-packages (from requests<3,>=2.27->gTTS) (2022.12.7)\n"
          ]
        },
        {
          "name": "stderr",
          "output_type": "stream",
          "text": [
            "WARNING: Skipping C:\\Users\\user\\miniconda3\\envs\\ds\\Lib\\site-packages\\pyzmq-24.0.1.dist-info due to invalid metadata entry 'name'\n",
            "WARNING: Skipping C:\\Users\\user\\miniconda3\\envs\\ds\\Lib\\site-packages\\pyzmq-24.0.1.dist-info due to invalid metadata entry 'name'\n",
            "WARNING: Skipping C:\\Users\\user\\miniconda3\\envs\\ds\\Lib\\site-packages\\pyzmq-24.0.1.dist-info due to invalid metadata entry 'name'\n",
            "WARNING: Skipping C:\\Users\\user\\miniconda3\\envs\\ds\\Lib\\site-packages\\pyzmq-24.0.1.dist-info due to invalid metadata entry 'name'\n"
          ]
        }
      ],
      "source": [
        "#Text2Speech\n",
        "!pip install gTTS"
      ]
    },
    {
      "cell_type": "code",
      "execution_count": 15,
      "metadata": {
        "id": "0WsHs1sUBDXi"
      },
      "outputs": [],
      "source": [
        "mytext = ['Hello, thanks for listening.'+\\\n",
        "'I will talk about our work:'+\\\n",
        "'A fast and efficient very short-term load forecast using statistics tools.'+\\\n",
        "'The method is inspired by the well-known Analogue approach used in climatology'+\\\n",
        "'adding a moving average component, and is built in four phases:'+\\\n",
        "'! 1. Selection of neighbors with high similarity.'+\\\n",
        "'! 2. Regression between neighbors and recent data.'+\\\n",
        "'! 3. Calculation of the baseline forecast.'+\\\n",
        "'! 4. Correction of the baseline and calculation of the final forecast.'+\\\n",
        "'! 1. The selection of neighbors with high similarity consists of a search of a set of subsequences within the time series,'+\\\n",
        "'choosing those with the highest correlation between the most recent data and the historical data.'+\\\n",
        "'The best results have been achieved with Pearsons correlation coefficient as a similitude measure.'+\\\n",
        "'! 2. The regression between neighbors and recent data leads to a Principal Component Regression P-C-R,'+\\\n",
        "'The regression explains the behavior of the latest data from the most correlated neighbors.'+\\\n",
        "'P-C-R, Lasso, and Ridge had the best results among the regression models tested.'+\\\n",
        "'! 3. We make an initial forecast by using the subsequent data of each neighbor in the P-C-R model.'+\\\n",
        "'The output of the P-C-R model is the baseline forecast.'+\\\n",
        "'! 4. We calculate the bias of the baseline forecast using a moving average.'+\\\n",
        "'Then, the bias is compensed to the baseline to obtain the final forecast in real-time.'+\\\n",
        "'We tested the method by simulating the calculation of a whole summer real-time forecast every five minutes and multi-step two-and-a-half-hours.'+\\\n",
        "'An-MA proved faster and more accurate than other benchmarks, such Holt-winters and Persistence.'+\\\n",
        "'However, the Auto-regresive moving average model ARMA, was more accurate than An-MA but relatively expensive.'+\\\n",
        "'In contrast, AnMA obtained its results in a dramatically shorter time of fewer than two seconds versus twelve seconds of ARMA model.'+\\\n",
        "'In addition, the computational economy of the An-MA method was very remarkable, with extraordinary results,'+\\\n",
        "'using only one core of CPU and consuming less a one kilo-watt-hour, as opposed to the ARMA model with eight cores and draws more than 7 kilowatts-hour.'+\\\n",
        "'In conclusion, the An-MA method is a highly efficient and accurate solution for forecasting in real-time electricity markets.'+\\\n",
        "'It boasts a remarkable calculation speed and can rival the accuracy of the best benchmarks.'+\\\n",
        "'Furthermore, it has proven to be a computationally inexpensive algorithm falling into the \"green algorithms\" category.'+\\\n",
        "'Finally, the An-MA method provides a basic framework that can be adapted to the specific needs of each forecasted series.'+\\\n",
        "'By exchanging components, such as similarity measures and regression models is possible that improved results can be obtained.'+\\\n",
        "'THANKS FOR YOUR ATTENTION.']"
      ]
    },
    {
      "cell_type": "code",
      "execution_count": 18,
      "metadata": {},
      "outputs": [],
      "source": [
        "mytext = [\n",
        "    ## 1\n",
        "    'Hello, thanks for listening.' +\n",
        "    'I will talk about our work:' +\n",
        "    'A fast and efficient very short-term load forecast using statistics tools.',\n",
        "    ## 2 \n",
        "    'The method is inspired by the well-known Analogue approach used in climatology',\n",
        "    'adding a moving average component, and is built in four phases:',\n",
        "    ## 3\n",
        "    '1. Selection of neighbors with high similarity. !' +\n",
        "    '2. Regression between neighbors and recent data. !' +\n",
        "    '3. Calculation of the baseline forecast. !' +\n",
        "    '4. Correction of the baseline and calculation of the final forecast. !',\n",
        "    ## 4\n",
        "    '1. The selection of neighbors with high similarity consists of a search of a set of subsequences within the time series,' +\n",
        "    'choosing those with the highest correlation between the most recent data and the historical data.'+\n",
        "    'The best results have been achieved with Pearsons correlation coefficient as a similitude measure.',\n",
        "    ## 5\n",
        "    '2. The regression between neighbors and recent data leads to a Principal Component Regression P-C-R,' +\n",
        "    'The regression explains the behavior of the latest data from the most correlated neighbors.' +\n",
        "    'P-C-R, Lasso, and Ridge had the best results among the regression models tested.',\n",
        "    ## 6 \n",
        "    '3. We make an initial forecast by using the subsequent data of each neighbor in the P-C-R model.'+\n",
        "    'The output of the P-C-R model is the baseline forecast.',\n",
        "    ## 7\n",
        "    '4. We calculate the bias of the baseline forecast using a moving average.'+\n",
        "    'Then, the bias is compensed to the baseline to obtain the final forecast in real-time.',\n",
        "    ## 8\n",
        "    'We tested the method by simulating the calculation of a whole summer real-time forecast every five minutes and multi-step two-and-a-half-hours.',\n",
        "    ## 9\n",
        "    'An-MA proved faster and more accurate than other benchmarks, such Holt-winters and Persistence.'+\n",
        "    'However, the Auto-regresive moving average model ARMA, was more accurate than An-MA but relatively expensive.',\n",
        "    ## 10\n",
        "    'In contrast, AnMA obtained its results in a dramatically shorter time of fewer than two seconds versus twelve seconds of ARMA model.',\n",
        "    ## 11\n",
        "    'In addition, the computational economy of the An-MA method was very remarkable, with extraordinary results,' +\n",
        "    'using only one core of CPU and consuming less a one kilo-watt-hour, as opposed to the ARMA model with eight cores and draws more than 7 kilowatts-hour.',\n",
        "    ## 12\n",
        "    'In conclusion, the An-MA method is a highly efficient and accurate solution for forecasting in real-time electricity markets.' +\n",
        "    'It boasts a remarkable calculation speed and can rival the accuracy of the best benchmarks.',\n",
        "    'Furthermore, it has proven to be a computationally inexpensive algorithm falling into the \"green algorithms\" category.' +\n",
        "    'Finally, the An-MA method provides a basic framework that can be adapted to the specific needs of each forecasted series.' +\n",
        "    'By exchanging components, such as similarity measures and regression models is possible that improved results can be obtained.',\n",
        "    'THANKS FOR YOUR ATTENTION.'\n",
        "]"
      ]
    },
    {
      "cell_type": "code",
      "execution_count": 19,
      "metadata": {
        "colab": {
          "base_uri": "https://localhost:8080/"
        },
        "id": "c4w-bJk8A129",
        "outputId": "75bab349-1d28-46db-9514-51c5b59999c3"
      },
      "outputs": [],
      "source": [
        "# Import the required module for text\n",
        "# to speech conversion\n",
        "from gtts import gTTS\n",
        "\n",
        "# This module is imported so that we can\n",
        "# play the converted audio\n",
        "import os\n",
        "\n",
        "# The text that you want to convert to audio\n",
        "mytext = mytext\n",
        "\n",
        "# Language in which you want to convert\n",
        "language = 'en'\n",
        "\n",
        "# Passing the text and language to the engine,\n",
        "# here we have marked slow=False. Which tells\n",
        "# the module that the converted audio should\n",
        "# have a high speed\n",
        "for i in range(len(mytext)):\n",
        "    myobj = gTTS(text=mytext[i], lang=language, tld='us', slow = False) #co.uk tld='com.au', us\n",
        "\n",
        "    # Saving the converted audio in a mp3 file named\n",
        "    # welcome\n",
        "    myobj.save(f\"results/speech_{i}.mp3\")\n",
        "\n",
        "    # Playing the converted file\n",
        "    os.system(f\"results/speech_{i}.mp3\")\n"
      ]
    }
  ],
  "metadata": {
    "colab": {
      "authorship_tag": "ABX9TyN0/ig5SGSwL6CkQeLZRy0r",
      "include_colab_link": true,
      "provenance": []
    },
    "kernelspec": {
      "display_name": "ds",
      "language": "python",
      "name": "python3"
    },
    "language_info": {
      "codemirror_mode": {
        "name": "ipython",
        "version": 3
      },
      "file_extension": ".py",
      "mimetype": "text/x-python",
      "name": "python",
      "nbconvert_exporter": "python",
      "pygments_lexer": "ipython3",
      "version": "3.11.0"
    },
    "vscode": {
      "interpreter": {
        "hash": "73cfb11ebb5098915952b858e6200bb38d79de5587d8fc0575441f97863c5189"
      }
    }
  },
  "nbformat": 4,
  "nbformat_minor": 0
}
